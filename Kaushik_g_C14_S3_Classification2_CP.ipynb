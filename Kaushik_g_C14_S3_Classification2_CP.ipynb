{
 "cells": [
  {
   "cell_type": "code",
   "execution_count": 1,
   "id": "ae1693d4",
   "metadata": {},
   "outputs": [],
   "source": [
    "import pandas as pd\n",
    "import seaborn as sns\n",
    "import matplotlib.pyplot as plt\n",
    "import warnings \n",
    "warnings.filterwarnings('ignore')\n",
    "from sklearn import preprocessing\n",
    "from sklearn.preprocessing import LabelEncoder\n",
    "from sklearn.model_selection import train_test_split,KFold\n",
    "from sklearn.preprocessing import MinMaxScaler\n",
    "from sklearn.linear_model import LogisticRegression\n",
    "from sklearn.tree import DecisionTreeClassifier\n",
    "from sklearn.naive_bayes import GaussianNB\n",
    "from sklearn import tree\n",
    "from sklearn.metrics import confusion_matrix,classification_report,accuracy_score,precision_score,recall_score\n",
    "from sklearn.model_selection import cross_val_score\n",
    "import numpy as np\n",
    "from sklearn.ensemble import AdaBoostClassifier\n",
    "from sklearn.ensemble import StackingClassifier\n",
    "from sklearn.linear_model import LogisticRegression\n",
    "from sklearn.neighbors import KNeighborsClassifier\n",
    "from sklearn.svm import SVC\n",
    "from sklearn.ensemble import RandomForestClassifier\n",
    "from sklearn.model_selection import GridSearchCV\n",
    "from imblearn.over_sampling import SMOTE"
   ]
  },
  {
   "cell_type": "code",
   "execution_count": 2,
   "id": "279ea8fe",
   "metadata": {},
   "outputs": [
    {
     "data": {
      "text/html": [
       "<div>\n",
       "<style scoped>\n",
       "    .dataframe tbody tr th:only-of-type {\n",
       "        vertical-align: middle;\n",
       "    }\n",
       "\n",
       "    .dataframe tbody tr th {\n",
       "        vertical-align: top;\n",
       "    }\n",
       "\n",
       "    .dataframe thead th {\n",
       "        text-align: right;\n",
       "    }\n",
       "</style>\n",
       "<table border=\"1\" class=\"dataframe\">\n",
       "  <thead>\n",
       "    <tr style=\"text-align: right;\">\n",
       "      <th></th>\n",
       "      <th>Unnamed: 0</th>\n",
       "      <th>title_x</th>\n",
       "      <th>budget</th>\n",
       "      <th>original_language</th>\n",
       "      <th>popularity</th>\n",
       "      <th>release_date</th>\n",
       "      <th>revenue</th>\n",
       "      <th>runtime</th>\n",
       "      <th>vote_average</th>\n",
       "      <th>country</th>\n",
       "      <th>Lead_Actor</th>\n",
       "      <th>Second_Lead_Actor</th>\n",
       "      <th>Main_Production_House</th>\n",
       "      <th>Genres</th>\n",
       "      <th>Director</th>\n",
       "      <th>profit</th>\n",
       "      <th>Votes</th>\n",
       "    </tr>\n",
       "  </thead>\n",
       "  <tbody>\n",
       "    <tr>\n",
       "      <th>0</th>\n",
       "      <td>0</td>\n",
       "      <td>Avatar</td>\n",
       "      <td>237000000</td>\n",
       "      <td>en</td>\n",
       "      <td>150.437577</td>\n",
       "      <td>10-12-2009</td>\n",
       "      <td>2787965087</td>\n",
       "      <td>162.0</td>\n",
       "      <td>7.2</td>\n",
       "      <td>United States of America</td>\n",
       "      <td>Sam Worthington</td>\n",
       "      <td>Zoe Saldana</td>\n",
       "      <td>Ingenious Film Partners</td>\n",
       "      <td>Action</td>\n",
       "      <td>James Cameron</td>\n",
       "      <td>2550965087</td>\n",
       "      <td>High_vote</td>\n",
       "    </tr>\n",
       "    <tr>\n",
       "      <th>1</th>\n",
       "      <td>1</td>\n",
       "      <td>Pirates of the Caribbean: At World's End</td>\n",
       "      <td>300000000</td>\n",
       "      <td>en</td>\n",
       "      <td>139.082615</td>\n",
       "      <td>19-05-2007</td>\n",
       "      <td>961000000</td>\n",
       "      <td>169.0</td>\n",
       "      <td>6.9</td>\n",
       "      <td>United States of America</td>\n",
       "      <td>Johnny Depp</td>\n",
       "      <td>Orlando Bloom</td>\n",
       "      <td>Walt Disney Pictures</td>\n",
       "      <td>Adventure</td>\n",
       "      <td>Gore Verbinski</td>\n",
       "      <td>661000000</td>\n",
       "      <td>Avg_Vote</td>\n",
       "    </tr>\n",
       "    <tr>\n",
       "      <th>2</th>\n",
       "      <td>2</td>\n",
       "      <td>Spectre</td>\n",
       "      <td>245000000</td>\n",
       "      <td>en</td>\n",
       "      <td>107.376788</td>\n",
       "      <td>26-10-2015</td>\n",
       "      <td>880674609</td>\n",
       "      <td>148.0</td>\n",
       "      <td>6.3</td>\n",
       "      <td>United Kingdom</td>\n",
       "      <td>Daniel Craig</td>\n",
       "      <td>Christoph Waltz</td>\n",
       "      <td>Columbia Pictures</td>\n",
       "      <td>Action</td>\n",
       "      <td>Sam Mendes</td>\n",
       "      <td>635674609</td>\n",
       "      <td>Avg_Vote</td>\n",
       "    </tr>\n",
       "    <tr>\n",
       "      <th>3</th>\n",
       "      <td>3</td>\n",
       "      <td>The Dark Knight Rises</td>\n",
       "      <td>250000000</td>\n",
       "      <td>en</td>\n",
       "      <td>112.312950</td>\n",
       "      <td>16-07-2012</td>\n",
       "      <td>1084939099</td>\n",
       "      <td>165.0</td>\n",
       "      <td>7.6</td>\n",
       "      <td>United States of America</td>\n",
       "      <td>Christian Bale</td>\n",
       "      <td>Michael Caine</td>\n",
       "      <td>Legendary Pictures</td>\n",
       "      <td>Action</td>\n",
       "      <td>Christopher Nolan</td>\n",
       "      <td>834939099</td>\n",
       "      <td>High_vote</td>\n",
       "    </tr>\n",
       "    <tr>\n",
       "      <th>4</th>\n",
       "      <td>4</td>\n",
       "      <td>John Carter</td>\n",
       "      <td>260000000</td>\n",
       "      <td>en</td>\n",
       "      <td>43.926995</td>\n",
       "      <td>07-03-2012</td>\n",
       "      <td>284139100</td>\n",
       "      <td>132.0</td>\n",
       "      <td>6.1</td>\n",
       "      <td>United States of America</td>\n",
       "      <td>Taylor Kitsch</td>\n",
       "      <td>Lynn Collins</td>\n",
       "      <td>Walt Disney Pictures</td>\n",
       "      <td>Action</td>\n",
       "      <td>Andrew Stanton</td>\n",
       "      <td>24139100</td>\n",
       "      <td>Avg_Vote</td>\n",
       "    </tr>\n",
       "    <tr>\n",
       "      <th>...</th>\n",
       "      <td>...</td>\n",
       "      <td>...</td>\n",
       "      <td>...</td>\n",
       "      <td>...</td>\n",
       "      <td>...</td>\n",
       "      <td>...</td>\n",
       "      <td>...</td>\n",
       "      <td>...</td>\n",
       "      <td>...</td>\n",
       "      <td>...</td>\n",
       "      <td>...</td>\n",
       "      <td>...</td>\n",
       "      <td>...</td>\n",
       "      <td>...</td>\n",
       "      <td>...</td>\n",
       "      <td>...</td>\n",
       "      <td>...</td>\n",
       "    </tr>\n",
       "    <tr>\n",
       "      <th>4412</th>\n",
       "      <td>4795</td>\n",
       "      <td>Bang</td>\n",
       "      <td>17000000</td>\n",
       "      <td>en</td>\n",
       "      <td>0.918116</td>\n",
       "      <td>09-09-1995</td>\n",
       "      <td>25871834</td>\n",
       "      <td>98.0</td>\n",
       "      <td>6.0</td>\n",
       "      <td>United States of America</td>\n",
       "      <td>Darling Narita</td>\n",
       "      <td>Peter Greene</td>\n",
       "      <td>Asylum Films</td>\n",
       "      <td>Drama</td>\n",
       "      <td>Ash Baron-Cohen</td>\n",
       "      <td>8871834</td>\n",
       "      <td>Less_Vote</td>\n",
       "    </tr>\n",
       "    <tr>\n",
       "      <th>4413</th>\n",
       "      <td>4796</td>\n",
       "      <td>Primer</td>\n",
       "      <td>17000000</td>\n",
       "      <td>en</td>\n",
       "      <td>23.307949</td>\n",
       "      <td>08-10-2004</td>\n",
       "      <td>424760</td>\n",
       "      <td>77.0</td>\n",
       "      <td>6.9</td>\n",
       "      <td>United States of America</td>\n",
       "      <td>Shane Carruth</td>\n",
       "      <td>David Sullivan</td>\n",
       "      <td>Thinkfilm</td>\n",
       "      <td>Science Fiction</td>\n",
       "      <td>Shane Carruth</td>\n",
       "      <td>-16575240</td>\n",
       "      <td>Less_Vote</td>\n",
       "    </tr>\n",
       "    <tr>\n",
       "      <th>4414</th>\n",
       "      <td>4798</td>\n",
       "      <td>El Mariachi</td>\n",
       "      <td>17000000</td>\n",
       "      <td>es</td>\n",
       "      <td>14.269792</td>\n",
       "      <td>04-09-1992</td>\n",
       "      <td>2040920</td>\n",
       "      <td>81.0</td>\n",
       "      <td>6.6</td>\n",
       "      <td>Mexico</td>\n",
       "      <td>Carlos Gallardo</td>\n",
       "      <td>Jaime de Hoyos</td>\n",
       "      <td>Columbia Pictures</td>\n",
       "      <td>Action</td>\n",
       "      <td>Robert Rodriguez</td>\n",
       "      <td>-14959080</td>\n",
       "      <td>Less_Vote</td>\n",
       "    </tr>\n",
       "    <tr>\n",
       "      <th>4415</th>\n",
       "      <td>4800</td>\n",
       "      <td>Signed, Sealed, Delivered</td>\n",
       "      <td>17000000</td>\n",
       "      <td>en</td>\n",
       "      <td>1.444476</td>\n",
       "      <td>13-10-2013</td>\n",
       "      <td>25871834</td>\n",
       "      <td>120.0</td>\n",
       "      <td>7.0</td>\n",
       "      <td>United States of America</td>\n",
       "      <td>Eric Mabius</td>\n",
       "      <td>Kristin Booth</td>\n",
       "      <td>Front Street Pictures</td>\n",
       "      <td>Comedy</td>\n",
       "      <td>Scott Smith</td>\n",
       "      <td>8871834</td>\n",
       "      <td>Less_Vote</td>\n",
       "    </tr>\n",
       "    <tr>\n",
       "      <th>4416</th>\n",
       "      <td>4802</td>\n",
       "      <td>My Date with Drew</td>\n",
       "      <td>17000000</td>\n",
       "      <td>en</td>\n",
       "      <td>1.929883</td>\n",
       "      <td>05-08-2005</td>\n",
       "      <td>25871834</td>\n",
       "      <td>90.0</td>\n",
       "      <td>6.3</td>\n",
       "      <td>United States of America</td>\n",
       "      <td>Drew Barrymore</td>\n",
       "      <td>Brian Herzlinger</td>\n",
       "      <td>rusty bear entertainment</td>\n",
       "      <td>Documentary</td>\n",
       "      <td>Brian Herzlinger</td>\n",
       "      <td>8871834</td>\n",
       "      <td>Less_Vote</td>\n",
       "    </tr>\n",
       "  </tbody>\n",
       "</table>\n",
       "<p>4417 rows × 17 columns</p>\n",
       "</div>"
      ],
      "text/plain": [
       "      Unnamed: 0                                   title_x     budget  \\\n",
       "0              0                                    Avatar  237000000   \n",
       "1              1  Pirates of the Caribbean: At World's End  300000000   \n",
       "2              2                                   Spectre  245000000   \n",
       "3              3                     The Dark Knight Rises  250000000   \n",
       "4              4                               John Carter  260000000   \n",
       "...          ...                                       ...        ...   \n",
       "4412        4795                                      Bang   17000000   \n",
       "4413        4796                                    Primer   17000000   \n",
       "4414        4798                               El Mariachi   17000000   \n",
       "4415        4800                 Signed, Sealed, Delivered   17000000   \n",
       "4416        4802                         My Date with Drew   17000000   \n",
       "\n",
       "     original_language  popularity release_date     revenue  runtime  \\\n",
       "0                   en  150.437577   10-12-2009  2787965087    162.0   \n",
       "1                   en  139.082615   19-05-2007   961000000    169.0   \n",
       "2                   en  107.376788   26-10-2015   880674609    148.0   \n",
       "3                   en  112.312950   16-07-2012  1084939099    165.0   \n",
       "4                   en   43.926995   07-03-2012   284139100    132.0   \n",
       "...                ...         ...          ...         ...      ...   \n",
       "4412                en    0.918116   09-09-1995    25871834     98.0   \n",
       "4413                en   23.307949   08-10-2004      424760     77.0   \n",
       "4414                es   14.269792   04-09-1992     2040920     81.0   \n",
       "4415                en    1.444476   13-10-2013    25871834    120.0   \n",
       "4416                en    1.929883   05-08-2005    25871834     90.0   \n",
       "\n",
       "      vote_average                   country       Lead_Actor  \\\n",
       "0              7.2  United States of America  Sam Worthington   \n",
       "1              6.9  United States of America      Johnny Depp   \n",
       "2              6.3            United Kingdom     Daniel Craig   \n",
       "3              7.6  United States of America   Christian Bale   \n",
       "4              6.1  United States of America    Taylor Kitsch   \n",
       "...            ...                       ...              ...   \n",
       "4412           6.0  United States of America   Darling Narita   \n",
       "4413           6.9  United States of America    Shane Carruth   \n",
       "4414           6.6                    Mexico  Carlos Gallardo   \n",
       "4415           7.0  United States of America      Eric Mabius   \n",
       "4416           6.3  United States of America   Drew Barrymore   \n",
       "\n",
       "     Second_Lead_Actor     Main_Production_House           Genres  \\\n",
       "0          Zoe Saldana   Ingenious Film Partners           Action   \n",
       "1        Orlando Bloom      Walt Disney Pictures        Adventure   \n",
       "2      Christoph Waltz         Columbia Pictures           Action   \n",
       "3        Michael Caine        Legendary Pictures           Action   \n",
       "4         Lynn Collins      Walt Disney Pictures           Action   \n",
       "...                ...                       ...              ...   \n",
       "4412      Peter Greene              Asylum Films            Drama   \n",
       "4413    David Sullivan                 Thinkfilm  Science Fiction   \n",
       "4414    Jaime de Hoyos         Columbia Pictures           Action   \n",
       "4415     Kristin Booth     Front Street Pictures           Comedy   \n",
       "4416  Brian Herzlinger  rusty bear entertainment      Documentary   \n",
       "\n",
       "               Director      profit      Votes  \n",
       "0         James Cameron  2550965087  High_vote  \n",
       "1        Gore Verbinski   661000000   Avg_Vote  \n",
       "2            Sam Mendes   635674609   Avg_Vote  \n",
       "3     Christopher Nolan   834939099  High_vote  \n",
       "4        Andrew Stanton    24139100   Avg_Vote  \n",
       "...                 ...         ...        ...  \n",
       "4412    Ash Baron-Cohen     8871834  Less_Vote  \n",
       "4413      Shane Carruth   -16575240  Less_Vote  \n",
       "4414   Robert Rodriguez   -14959080  Less_Vote  \n",
       "4415        Scott Smith     8871834  Less_Vote  \n",
       "4416   Brian Herzlinger     8871834  Less_Vote  \n",
       "\n",
       "[4417 rows x 17 columns]"
      ]
     },
     "execution_count": 2,
     "metadata": {},
     "output_type": "execute_result"
    }
   ],
   "source": [
    "movie_df=pd.read_csv('Cleaned_movie.csv')\n",
    "movie_df"
   ]
  },
  {
   "cell_type": "code",
   "execution_count": 3,
   "id": "c92ea286",
   "metadata": {},
   "outputs": [
    {
     "data": {
      "text/html": [
       "<div>\n",
       "<style scoped>\n",
       "    .dataframe tbody tr th:only-of-type {\n",
       "        vertical-align: middle;\n",
       "    }\n",
       "\n",
       "    .dataframe tbody tr th {\n",
       "        vertical-align: top;\n",
       "    }\n",
       "\n",
       "    .dataframe thead th {\n",
       "        text-align: right;\n",
       "    }\n",
       "</style>\n",
       "<table border=\"1\" class=\"dataframe\">\n",
       "  <thead>\n",
       "    <tr style=\"text-align: right;\">\n",
       "      <th></th>\n",
       "      <th>title_x</th>\n",
       "      <th>budget</th>\n",
       "      <th>original_language</th>\n",
       "      <th>popularity</th>\n",
       "      <th>release_date</th>\n",
       "      <th>revenue</th>\n",
       "      <th>runtime</th>\n",
       "      <th>vote_average</th>\n",
       "      <th>country</th>\n",
       "      <th>Lead_Actor</th>\n",
       "      <th>Second_Lead_Actor</th>\n",
       "      <th>Main_Production_House</th>\n",
       "      <th>Genres</th>\n",
       "      <th>Director</th>\n",
       "      <th>profit</th>\n",
       "      <th>Votes</th>\n",
       "    </tr>\n",
       "  </thead>\n",
       "  <tbody>\n",
       "    <tr>\n",
       "      <th>0</th>\n",
       "      <td>Avatar</td>\n",
       "      <td>237000000</td>\n",
       "      <td>en</td>\n",
       "      <td>150.437577</td>\n",
       "      <td>10-12-2009</td>\n",
       "      <td>2787965087</td>\n",
       "      <td>162.0</td>\n",
       "      <td>7.2</td>\n",
       "      <td>United States of America</td>\n",
       "      <td>Sam Worthington</td>\n",
       "      <td>Zoe Saldana</td>\n",
       "      <td>Ingenious Film Partners</td>\n",
       "      <td>Action</td>\n",
       "      <td>James Cameron</td>\n",
       "      <td>2550965087</td>\n",
       "      <td>High_vote</td>\n",
       "    </tr>\n",
       "    <tr>\n",
       "      <th>1</th>\n",
       "      <td>Pirates of the Caribbean: At World's End</td>\n",
       "      <td>300000000</td>\n",
       "      <td>en</td>\n",
       "      <td>139.082615</td>\n",
       "      <td>19-05-2007</td>\n",
       "      <td>961000000</td>\n",
       "      <td>169.0</td>\n",
       "      <td>6.9</td>\n",
       "      <td>United States of America</td>\n",
       "      <td>Johnny Depp</td>\n",
       "      <td>Orlando Bloom</td>\n",
       "      <td>Walt Disney Pictures</td>\n",
       "      <td>Adventure</td>\n",
       "      <td>Gore Verbinski</td>\n",
       "      <td>661000000</td>\n",
       "      <td>Avg_Vote</td>\n",
       "    </tr>\n",
       "    <tr>\n",
       "      <th>2</th>\n",
       "      <td>Spectre</td>\n",
       "      <td>245000000</td>\n",
       "      <td>en</td>\n",
       "      <td>107.376788</td>\n",
       "      <td>26-10-2015</td>\n",
       "      <td>880674609</td>\n",
       "      <td>148.0</td>\n",
       "      <td>6.3</td>\n",
       "      <td>United Kingdom</td>\n",
       "      <td>Daniel Craig</td>\n",
       "      <td>Christoph Waltz</td>\n",
       "      <td>Columbia Pictures</td>\n",
       "      <td>Action</td>\n",
       "      <td>Sam Mendes</td>\n",
       "      <td>635674609</td>\n",
       "      <td>Avg_Vote</td>\n",
       "    </tr>\n",
       "    <tr>\n",
       "      <th>3</th>\n",
       "      <td>The Dark Knight Rises</td>\n",
       "      <td>250000000</td>\n",
       "      <td>en</td>\n",
       "      <td>112.312950</td>\n",
       "      <td>16-07-2012</td>\n",
       "      <td>1084939099</td>\n",
       "      <td>165.0</td>\n",
       "      <td>7.6</td>\n",
       "      <td>United States of America</td>\n",
       "      <td>Christian Bale</td>\n",
       "      <td>Michael Caine</td>\n",
       "      <td>Legendary Pictures</td>\n",
       "      <td>Action</td>\n",
       "      <td>Christopher Nolan</td>\n",
       "      <td>834939099</td>\n",
       "      <td>High_vote</td>\n",
       "    </tr>\n",
       "    <tr>\n",
       "      <th>4</th>\n",
       "      <td>John Carter</td>\n",
       "      <td>260000000</td>\n",
       "      <td>en</td>\n",
       "      <td>43.926995</td>\n",
       "      <td>07-03-2012</td>\n",
       "      <td>284139100</td>\n",
       "      <td>132.0</td>\n",
       "      <td>6.1</td>\n",
       "      <td>United States of America</td>\n",
       "      <td>Taylor Kitsch</td>\n",
       "      <td>Lynn Collins</td>\n",
       "      <td>Walt Disney Pictures</td>\n",
       "      <td>Action</td>\n",
       "      <td>Andrew Stanton</td>\n",
       "      <td>24139100</td>\n",
       "      <td>Avg_Vote</td>\n",
       "    </tr>\n",
       "    <tr>\n",
       "      <th>...</th>\n",
       "      <td>...</td>\n",
       "      <td>...</td>\n",
       "      <td>...</td>\n",
       "      <td>...</td>\n",
       "      <td>...</td>\n",
       "      <td>...</td>\n",
       "      <td>...</td>\n",
       "      <td>...</td>\n",
       "      <td>...</td>\n",
       "      <td>...</td>\n",
       "      <td>...</td>\n",
       "      <td>...</td>\n",
       "      <td>...</td>\n",
       "      <td>...</td>\n",
       "      <td>...</td>\n",
       "      <td>...</td>\n",
       "    </tr>\n",
       "    <tr>\n",
       "      <th>4412</th>\n",
       "      <td>Bang</td>\n",
       "      <td>17000000</td>\n",
       "      <td>en</td>\n",
       "      <td>0.918116</td>\n",
       "      <td>09-09-1995</td>\n",
       "      <td>25871834</td>\n",
       "      <td>98.0</td>\n",
       "      <td>6.0</td>\n",
       "      <td>United States of America</td>\n",
       "      <td>Darling Narita</td>\n",
       "      <td>Peter Greene</td>\n",
       "      <td>Asylum Films</td>\n",
       "      <td>Drama</td>\n",
       "      <td>Ash Baron-Cohen</td>\n",
       "      <td>8871834</td>\n",
       "      <td>Less_Vote</td>\n",
       "    </tr>\n",
       "    <tr>\n",
       "      <th>4413</th>\n",
       "      <td>Primer</td>\n",
       "      <td>17000000</td>\n",
       "      <td>en</td>\n",
       "      <td>23.307949</td>\n",
       "      <td>08-10-2004</td>\n",
       "      <td>424760</td>\n",
       "      <td>77.0</td>\n",
       "      <td>6.9</td>\n",
       "      <td>United States of America</td>\n",
       "      <td>Shane Carruth</td>\n",
       "      <td>David Sullivan</td>\n",
       "      <td>Thinkfilm</td>\n",
       "      <td>Science Fiction</td>\n",
       "      <td>Shane Carruth</td>\n",
       "      <td>-16575240</td>\n",
       "      <td>Less_Vote</td>\n",
       "    </tr>\n",
       "    <tr>\n",
       "      <th>4414</th>\n",
       "      <td>El Mariachi</td>\n",
       "      <td>17000000</td>\n",
       "      <td>es</td>\n",
       "      <td>14.269792</td>\n",
       "      <td>04-09-1992</td>\n",
       "      <td>2040920</td>\n",
       "      <td>81.0</td>\n",
       "      <td>6.6</td>\n",
       "      <td>Mexico</td>\n",
       "      <td>Carlos Gallardo</td>\n",
       "      <td>Jaime de Hoyos</td>\n",
       "      <td>Columbia Pictures</td>\n",
       "      <td>Action</td>\n",
       "      <td>Robert Rodriguez</td>\n",
       "      <td>-14959080</td>\n",
       "      <td>Less_Vote</td>\n",
       "    </tr>\n",
       "    <tr>\n",
       "      <th>4415</th>\n",
       "      <td>Signed, Sealed, Delivered</td>\n",
       "      <td>17000000</td>\n",
       "      <td>en</td>\n",
       "      <td>1.444476</td>\n",
       "      <td>13-10-2013</td>\n",
       "      <td>25871834</td>\n",
       "      <td>120.0</td>\n",
       "      <td>7.0</td>\n",
       "      <td>United States of America</td>\n",
       "      <td>Eric Mabius</td>\n",
       "      <td>Kristin Booth</td>\n",
       "      <td>Front Street Pictures</td>\n",
       "      <td>Comedy</td>\n",
       "      <td>Scott Smith</td>\n",
       "      <td>8871834</td>\n",
       "      <td>Less_Vote</td>\n",
       "    </tr>\n",
       "    <tr>\n",
       "      <th>4416</th>\n",
       "      <td>My Date with Drew</td>\n",
       "      <td>17000000</td>\n",
       "      <td>en</td>\n",
       "      <td>1.929883</td>\n",
       "      <td>05-08-2005</td>\n",
       "      <td>25871834</td>\n",
       "      <td>90.0</td>\n",
       "      <td>6.3</td>\n",
       "      <td>United States of America</td>\n",
       "      <td>Drew Barrymore</td>\n",
       "      <td>Brian Herzlinger</td>\n",
       "      <td>rusty bear entertainment</td>\n",
       "      <td>Documentary</td>\n",
       "      <td>Brian Herzlinger</td>\n",
       "      <td>8871834</td>\n",
       "      <td>Less_Vote</td>\n",
       "    </tr>\n",
       "  </tbody>\n",
       "</table>\n",
       "<p>4417 rows × 16 columns</p>\n",
       "</div>"
      ],
      "text/plain": [
       "                                       title_x     budget original_language  \\\n",
       "0                                       Avatar  237000000                en   \n",
       "1     Pirates of the Caribbean: At World's End  300000000                en   \n",
       "2                                      Spectre  245000000                en   \n",
       "3                        The Dark Knight Rises  250000000                en   \n",
       "4                                  John Carter  260000000                en   \n",
       "...                                        ...        ...               ...   \n",
       "4412                                      Bang   17000000                en   \n",
       "4413                                    Primer   17000000                en   \n",
       "4414                               El Mariachi   17000000                es   \n",
       "4415                 Signed, Sealed, Delivered   17000000                en   \n",
       "4416                         My Date with Drew   17000000                en   \n",
       "\n",
       "      popularity release_date     revenue  runtime  vote_average  \\\n",
       "0     150.437577   10-12-2009  2787965087    162.0           7.2   \n",
       "1     139.082615   19-05-2007   961000000    169.0           6.9   \n",
       "2     107.376788   26-10-2015   880674609    148.0           6.3   \n",
       "3     112.312950   16-07-2012  1084939099    165.0           7.6   \n",
       "4      43.926995   07-03-2012   284139100    132.0           6.1   \n",
       "...          ...          ...         ...      ...           ...   \n",
       "4412    0.918116   09-09-1995    25871834     98.0           6.0   \n",
       "4413   23.307949   08-10-2004      424760     77.0           6.9   \n",
       "4414   14.269792   04-09-1992     2040920     81.0           6.6   \n",
       "4415    1.444476   13-10-2013    25871834    120.0           7.0   \n",
       "4416    1.929883   05-08-2005    25871834     90.0           6.3   \n",
       "\n",
       "                       country       Lead_Actor Second_Lead_Actor  \\\n",
       "0     United States of America  Sam Worthington       Zoe Saldana   \n",
       "1     United States of America      Johnny Depp     Orlando Bloom   \n",
       "2               United Kingdom     Daniel Craig   Christoph Waltz   \n",
       "3     United States of America   Christian Bale     Michael Caine   \n",
       "4     United States of America    Taylor Kitsch      Lynn Collins   \n",
       "...                        ...              ...               ...   \n",
       "4412  United States of America   Darling Narita      Peter Greene   \n",
       "4413  United States of America    Shane Carruth    David Sullivan   \n",
       "4414                    Mexico  Carlos Gallardo    Jaime de Hoyos   \n",
       "4415  United States of America      Eric Mabius     Kristin Booth   \n",
       "4416  United States of America   Drew Barrymore  Brian Herzlinger   \n",
       "\n",
       "         Main_Production_House           Genres           Director  \\\n",
       "0      Ingenious Film Partners           Action      James Cameron   \n",
       "1         Walt Disney Pictures        Adventure     Gore Verbinski   \n",
       "2            Columbia Pictures           Action         Sam Mendes   \n",
       "3           Legendary Pictures           Action  Christopher Nolan   \n",
       "4         Walt Disney Pictures           Action     Andrew Stanton   \n",
       "...                        ...              ...                ...   \n",
       "4412              Asylum Films            Drama    Ash Baron-Cohen   \n",
       "4413                 Thinkfilm  Science Fiction      Shane Carruth   \n",
       "4414         Columbia Pictures           Action   Robert Rodriguez   \n",
       "4415     Front Street Pictures           Comedy        Scott Smith   \n",
       "4416  rusty bear entertainment      Documentary   Brian Herzlinger   \n",
       "\n",
       "          profit      Votes  \n",
       "0     2550965087  High_vote  \n",
       "1      661000000   Avg_Vote  \n",
       "2      635674609   Avg_Vote  \n",
       "3      834939099  High_vote  \n",
       "4       24139100   Avg_Vote  \n",
       "...          ...        ...  \n",
       "4412     8871834  Less_Vote  \n",
       "4413   -16575240  Less_Vote  \n",
       "4414   -14959080  Less_Vote  \n",
       "4415     8871834  Less_Vote  \n",
       "4416     8871834  Less_Vote  \n",
       "\n",
       "[4417 rows x 16 columns]"
      ]
     },
     "execution_count": 3,
     "metadata": {},
     "output_type": "execute_result"
    }
   ],
   "source": [
    "# Dropping un wanted columns.\n",
    "movie_df.drop('Unnamed: 0',axis=1,inplace=True)\n",
    "movie_df"
   ]
  },
  {
   "cell_type": "code",
   "execution_count": 4,
   "id": "39d6f518",
   "metadata": {},
   "outputs": [],
   "source": [
    "movie_df=movie_df[(movie_df.Genres!='Foreign')&(movie_df.Genres!='TV Movie')]"
   ]
  },
  {
   "cell_type": "code",
   "execution_count": 5,
   "id": "7c099f6c",
   "metadata": {},
   "outputs": [
    {
     "data": {
      "text/plain": [
       "Drama              1090\n",
       "Comedy              949\n",
       "Action              723\n",
       "Adventure           334\n",
       "Horror              278\n",
       "Crime               188\n",
       "Thriller            180\n",
       "Animation           119\n",
       "Fantasy             115\n",
       "Romance             100\n",
       "Science Fiction      94\n",
       "Family               50\n",
       "Documentary          48\n",
       "Mystery              40\n",
       "Music                33\n",
       "Western              27\n",
       "History              23\n",
       "War                  22\n",
       "Name: Genres, dtype: int64"
      ]
     },
     "execution_count": 5,
     "metadata": {},
     "output_type": "execute_result"
    }
   ],
   "source": [
    "movie_df.Genres.value_counts()"
   ]
  },
  {
   "cell_type": "code",
   "execution_count": 6,
   "id": "f55a589d",
   "metadata": {},
   "outputs": [
    {
     "data": {
      "text/plain": [
       "6.183299342850664"
      ]
     },
     "execution_count": 6,
     "metadata": {},
     "output_type": "execute_result"
    }
   ],
   "source": [
    "#Calculating Average value to use in for loop while creating new column based on condition.\n",
    "mean_av=movie_df.vote_average.mean()\n",
    "mean_av"
   ]
  },
  {
   "cell_type": "code",
   "execution_count": 7,
   "id": "12ee35b1",
   "metadata": {},
   "outputs": [],
   "source": [
    "# Creating Column Rating For classification problem.\n",
    "rating=[]\n",
    "for i in movie_df.vote_average:\n",
    "    if i > mean_av:\n",
    "        rating.append('Good')\n",
    "    elif i >= mean_av/2 and i <=mean_av:\n",
    "        rating.append('Average')\n",
    "    elif i < mean_av/2:\n",
    "        rating.append('Poor')\n",
    "movie_df['Rating']=rating"
   ]
  },
  {
   "cell_type": "code",
   "execution_count": 8,
   "id": "bb2e65db",
   "metadata": {},
   "outputs": [
    {
     "data": {
      "text/html": [
       "<div>\n",
       "<style scoped>\n",
       "    .dataframe tbody tr th:only-of-type {\n",
       "        vertical-align: middle;\n",
       "    }\n",
       "\n",
       "    .dataframe tbody tr th {\n",
       "        vertical-align: top;\n",
       "    }\n",
       "\n",
       "    .dataframe thead th {\n",
       "        text-align: right;\n",
       "    }\n",
       "</style>\n",
       "<table border=\"1\" class=\"dataframe\">\n",
       "  <thead>\n",
       "    <tr style=\"text-align: right;\">\n",
       "      <th></th>\n",
       "      <th>title_x</th>\n",
       "      <th>budget</th>\n",
       "      <th>original_language</th>\n",
       "      <th>popularity</th>\n",
       "      <th>release_date</th>\n",
       "      <th>revenue</th>\n",
       "      <th>runtime</th>\n",
       "      <th>vote_average</th>\n",
       "      <th>country</th>\n",
       "      <th>Lead_Actor</th>\n",
       "      <th>Second_Lead_Actor</th>\n",
       "      <th>Main_Production_House</th>\n",
       "      <th>Genres</th>\n",
       "      <th>Director</th>\n",
       "      <th>profit</th>\n",
       "      <th>Votes</th>\n",
       "      <th>Rating</th>\n",
       "    </tr>\n",
       "  </thead>\n",
       "  <tbody>\n",
       "    <tr>\n",
       "      <th>0</th>\n",
       "      <td>Avatar</td>\n",
       "      <td>237000000</td>\n",
       "      <td>en</td>\n",
       "      <td>150.437577</td>\n",
       "      <td>10-12-2009</td>\n",
       "      <td>2787965087</td>\n",
       "      <td>162.0</td>\n",
       "      <td>7.2</td>\n",
       "      <td>United States of America</td>\n",
       "      <td>Sam Worthington</td>\n",
       "      <td>Zoe Saldana</td>\n",
       "      <td>Ingenious Film Partners</td>\n",
       "      <td>Action</td>\n",
       "      <td>James Cameron</td>\n",
       "      <td>2550965087</td>\n",
       "      <td>High_vote</td>\n",
       "      <td>Good</td>\n",
       "    </tr>\n",
       "    <tr>\n",
       "      <th>1</th>\n",
       "      <td>Pirates of the Caribbean: At World's End</td>\n",
       "      <td>300000000</td>\n",
       "      <td>en</td>\n",
       "      <td>139.082615</td>\n",
       "      <td>19-05-2007</td>\n",
       "      <td>961000000</td>\n",
       "      <td>169.0</td>\n",
       "      <td>6.9</td>\n",
       "      <td>United States of America</td>\n",
       "      <td>Johnny Depp</td>\n",
       "      <td>Orlando Bloom</td>\n",
       "      <td>Walt Disney Pictures</td>\n",
       "      <td>Adventure</td>\n",
       "      <td>Gore Verbinski</td>\n",
       "      <td>661000000</td>\n",
       "      <td>Avg_Vote</td>\n",
       "      <td>Good</td>\n",
       "    </tr>\n",
       "    <tr>\n",
       "      <th>2</th>\n",
       "      <td>Spectre</td>\n",
       "      <td>245000000</td>\n",
       "      <td>en</td>\n",
       "      <td>107.376788</td>\n",
       "      <td>26-10-2015</td>\n",
       "      <td>880674609</td>\n",
       "      <td>148.0</td>\n",
       "      <td>6.3</td>\n",
       "      <td>United Kingdom</td>\n",
       "      <td>Daniel Craig</td>\n",
       "      <td>Christoph Waltz</td>\n",
       "      <td>Columbia Pictures</td>\n",
       "      <td>Action</td>\n",
       "      <td>Sam Mendes</td>\n",
       "      <td>635674609</td>\n",
       "      <td>Avg_Vote</td>\n",
       "      <td>Good</td>\n",
       "    </tr>\n",
       "    <tr>\n",
       "      <th>3</th>\n",
       "      <td>The Dark Knight Rises</td>\n",
       "      <td>250000000</td>\n",
       "      <td>en</td>\n",
       "      <td>112.312950</td>\n",
       "      <td>16-07-2012</td>\n",
       "      <td>1084939099</td>\n",
       "      <td>165.0</td>\n",
       "      <td>7.6</td>\n",
       "      <td>United States of America</td>\n",
       "      <td>Christian Bale</td>\n",
       "      <td>Michael Caine</td>\n",
       "      <td>Legendary Pictures</td>\n",
       "      <td>Action</td>\n",
       "      <td>Christopher Nolan</td>\n",
       "      <td>834939099</td>\n",
       "      <td>High_vote</td>\n",
       "      <td>Good</td>\n",
       "    </tr>\n",
       "    <tr>\n",
       "      <th>4</th>\n",
       "      <td>John Carter</td>\n",
       "      <td>260000000</td>\n",
       "      <td>en</td>\n",
       "      <td>43.926995</td>\n",
       "      <td>07-03-2012</td>\n",
       "      <td>284139100</td>\n",
       "      <td>132.0</td>\n",
       "      <td>6.1</td>\n",
       "      <td>United States of America</td>\n",
       "      <td>Taylor Kitsch</td>\n",
       "      <td>Lynn Collins</td>\n",
       "      <td>Walt Disney Pictures</td>\n",
       "      <td>Action</td>\n",
       "      <td>Andrew Stanton</td>\n",
       "      <td>24139100</td>\n",
       "      <td>Avg_Vote</td>\n",
       "      <td>Average</td>\n",
       "    </tr>\n",
       "    <tr>\n",
       "      <th>...</th>\n",
       "      <td>...</td>\n",
       "      <td>...</td>\n",
       "      <td>...</td>\n",
       "      <td>...</td>\n",
       "      <td>...</td>\n",
       "      <td>...</td>\n",
       "      <td>...</td>\n",
       "      <td>...</td>\n",
       "      <td>...</td>\n",
       "      <td>...</td>\n",
       "      <td>...</td>\n",
       "      <td>...</td>\n",
       "      <td>...</td>\n",
       "      <td>...</td>\n",
       "      <td>...</td>\n",
       "      <td>...</td>\n",
       "      <td>...</td>\n",
       "    </tr>\n",
       "    <tr>\n",
       "      <th>4412</th>\n",
       "      <td>Bang</td>\n",
       "      <td>17000000</td>\n",
       "      <td>en</td>\n",
       "      <td>0.918116</td>\n",
       "      <td>09-09-1995</td>\n",
       "      <td>25871834</td>\n",
       "      <td>98.0</td>\n",
       "      <td>6.0</td>\n",
       "      <td>United States of America</td>\n",
       "      <td>Darling Narita</td>\n",
       "      <td>Peter Greene</td>\n",
       "      <td>Asylum Films</td>\n",
       "      <td>Drama</td>\n",
       "      <td>Ash Baron-Cohen</td>\n",
       "      <td>8871834</td>\n",
       "      <td>Less_Vote</td>\n",
       "      <td>Average</td>\n",
       "    </tr>\n",
       "    <tr>\n",
       "      <th>4413</th>\n",
       "      <td>Primer</td>\n",
       "      <td>17000000</td>\n",
       "      <td>en</td>\n",
       "      <td>23.307949</td>\n",
       "      <td>08-10-2004</td>\n",
       "      <td>424760</td>\n",
       "      <td>77.0</td>\n",
       "      <td>6.9</td>\n",
       "      <td>United States of America</td>\n",
       "      <td>Shane Carruth</td>\n",
       "      <td>David Sullivan</td>\n",
       "      <td>Thinkfilm</td>\n",
       "      <td>Science Fiction</td>\n",
       "      <td>Shane Carruth</td>\n",
       "      <td>-16575240</td>\n",
       "      <td>Less_Vote</td>\n",
       "      <td>Good</td>\n",
       "    </tr>\n",
       "    <tr>\n",
       "      <th>4414</th>\n",
       "      <td>El Mariachi</td>\n",
       "      <td>17000000</td>\n",
       "      <td>es</td>\n",
       "      <td>14.269792</td>\n",
       "      <td>04-09-1992</td>\n",
       "      <td>2040920</td>\n",
       "      <td>81.0</td>\n",
       "      <td>6.6</td>\n",
       "      <td>Mexico</td>\n",
       "      <td>Carlos Gallardo</td>\n",
       "      <td>Jaime de Hoyos</td>\n",
       "      <td>Columbia Pictures</td>\n",
       "      <td>Action</td>\n",
       "      <td>Robert Rodriguez</td>\n",
       "      <td>-14959080</td>\n",
       "      <td>Less_Vote</td>\n",
       "      <td>Good</td>\n",
       "    </tr>\n",
       "    <tr>\n",
       "      <th>4415</th>\n",
       "      <td>Signed, Sealed, Delivered</td>\n",
       "      <td>17000000</td>\n",
       "      <td>en</td>\n",
       "      <td>1.444476</td>\n",
       "      <td>13-10-2013</td>\n",
       "      <td>25871834</td>\n",
       "      <td>120.0</td>\n",
       "      <td>7.0</td>\n",
       "      <td>United States of America</td>\n",
       "      <td>Eric Mabius</td>\n",
       "      <td>Kristin Booth</td>\n",
       "      <td>Front Street Pictures</td>\n",
       "      <td>Comedy</td>\n",
       "      <td>Scott Smith</td>\n",
       "      <td>8871834</td>\n",
       "      <td>Less_Vote</td>\n",
       "      <td>Good</td>\n",
       "    </tr>\n",
       "    <tr>\n",
       "      <th>4416</th>\n",
       "      <td>My Date with Drew</td>\n",
       "      <td>17000000</td>\n",
       "      <td>en</td>\n",
       "      <td>1.929883</td>\n",
       "      <td>05-08-2005</td>\n",
       "      <td>25871834</td>\n",
       "      <td>90.0</td>\n",
       "      <td>6.3</td>\n",
       "      <td>United States of America</td>\n",
       "      <td>Drew Barrymore</td>\n",
       "      <td>Brian Herzlinger</td>\n",
       "      <td>rusty bear entertainment</td>\n",
       "      <td>Documentary</td>\n",
       "      <td>Brian Herzlinger</td>\n",
       "      <td>8871834</td>\n",
       "      <td>Less_Vote</td>\n",
       "      <td>Good</td>\n",
       "    </tr>\n",
       "  </tbody>\n",
       "</table>\n",
       "<p>4413 rows × 17 columns</p>\n",
       "</div>"
      ],
      "text/plain": [
       "                                       title_x     budget original_language  \\\n",
       "0                                       Avatar  237000000                en   \n",
       "1     Pirates of the Caribbean: At World's End  300000000                en   \n",
       "2                                      Spectre  245000000                en   \n",
       "3                        The Dark Knight Rises  250000000                en   \n",
       "4                                  John Carter  260000000                en   \n",
       "...                                        ...        ...               ...   \n",
       "4412                                      Bang   17000000                en   \n",
       "4413                                    Primer   17000000                en   \n",
       "4414                               El Mariachi   17000000                es   \n",
       "4415                 Signed, Sealed, Delivered   17000000                en   \n",
       "4416                         My Date with Drew   17000000                en   \n",
       "\n",
       "      popularity release_date     revenue  runtime  vote_average  \\\n",
       "0     150.437577   10-12-2009  2787965087    162.0           7.2   \n",
       "1     139.082615   19-05-2007   961000000    169.0           6.9   \n",
       "2     107.376788   26-10-2015   880674609    148.0           6.3   \n",
       "3     112.312950   16-07-2012  1084939099    165.0           7.6   \n",
       "4      43.926995   07-03-2012   284139100    132.0           6.1   \n",
       "...          ...          ...         ...      ...           ...   \n",
       "4412    0.918116   09-09-1995    25871834     98.0           6.0   \n",
       "4413   23.307949   08-10-2004      424760     77.0           6.9   \n",
       "4414   14.269792   04-09-1992     2040920     81.0           6.6   \n",
       "4415    1.444476   13-10-2013    25871834    120.0           7.0   \n",
       "4416    1.929883   05-08-2005    25871834     90.0           6.3   \n",
       "\n",
       "                       country       Lead_Actor Second_Lead_Actor  \\\n",
       "0     United States of America  Sam Worthington       Zoe Saldana   \n",
       "1     United States of America      Johnny Depp     Orlando Bloom   \n",
       "2               United Kingdom     Daniel Craig   Christoph Waltz   \n",
       "3     United States of America   Christian Bale     Michael Caine   \n",
       "4     United States of America    Taylor Kitsch      Lynn Collins   \n",
       "...                        ...              ...               ...   \n",
       "4412  United States of America   Darling Narita      Peter Greene   \n",
       "4413  United States of America    Shane Carruth    David Sullivan   \n",
       "4414                    Mexico  Carlos Gallardo    Jaime de Hoyos   \n",
       "4415  United States of America      Eric Mabius     Kristin Booth   \n",
       "4416  United States of America   Drew Barrymore  Brian Herzlinger   \n",
       "\n",
       "         Main_Production_House           Genres           Director  \\\n",
       "0      Ingenious Film Partners           Action      James Cameron   \n",
       "1         Walt Disney Pictures        Adventure     Gore Verbinski   \n",
       "2            Columbia Pictures           Action         Sam Mendes   \n",
       "3           Legendary Pictures           Action  Christopher Nolan   \n",
       "4         Walt Disney Pictures           Action     Andrew Stanton   \n",
       "...                        ...              ...                ...   \n",
       "4412              Asylum Films            Drama    Ash Baron-Cohen   \n",
       "4413                 Thinkfilm  Science Fiction      Shane Carruth   \n",
       "4414         Columbia Pictures           Action   Robert Rodriguez   \n",
       "4415     Front Street Pictures           Comedy        Scott Smith   \n",
       "4416  rusty bear entertainment      Documentary   Brian Herzlinger   \n",
       "\n",
       "          profit      Votes   Rating  \n",
       "0     2550965087  High_vote     Good  \n",
       "1      661000000   Avg_Vote     Good  \n",
       "2      635674609   Avg_Vote     Good  \n",
       "3      834939099  High_vote     Good  \n",
       "4       24139100   Avg_Vote  Average  \n",
       "...          ...        ...      ...  \n",
       "4412     8871834  Less_Vote  Average  \n",
       "4413   -16575240  Less_Vote     Good  \n",
       "4414   -14959080  Less_Vote     Good  \n",
       "4415     8871834  Less_Vote     Good  \n",
       "4416     8871834  Less_Vote     Good  \n",
       "\n",
       "[4413 rows x 17 columns]"
      ]
     },
     "execution_count": 8,
     "metadata": {},
     "output_type": "execute_result"
    }
   ],
   "source": [
    "# Displaying table after inserting rating column\n",
    "movie_df"
   ]
  },
  {
   "cell_type": "code",
   "execution_count": 9,
   "id": "d5a0575f",
   "metadata": {},
   "outputs": [
    {
     "data": {
      "text/plain": [
       "Good       2419\n",
       "Average    1950\n",
       "Poor         44\n",
       "Name: Rating, dtype: int64"
      ]
     },
     "execution_count": 9,
     "metadata": {},
     "output_type": "execute_result"
    }
   ],
   "source": [
    "#Cross checking by using value count if any errors are there.\n",
    "movie_df.Rating.value_counts()"
   ]
  },
  {
   "cell_type": "code",
   "execution_count": 10,
   "id": "909c0ed8",
   "metadata": {},
   "outputs": [],
   "source": [
    "# Dropping Vote_Average Column\n",
    "movie_df.drop('vote_average',axis=1,inplace=True)"
   ]
  },
  {
   "cell_type": "code",
   "execution_count": 11,
   "id": "163909de",
   "metadata": {},
   "outputs": [
    {
     "name": "stdout",
     "output_type": "stream",
     "text": [
      "<class 'pandas.core.frame.DataFrame'>\n",
      "Int64Index: 4413 entries, 0 to 4416\n",
      "Data columns (total 16 columns):\n",
      " #   Column                 Non-Null Count  Dtype  \n",
      "---  ------                 --------------  -----  \n",
      " 0   title_x                4413 non-null   object \n",
      " 1   budget                 4413 non-null   int64  \n",
      " 2   original_language      4413 non-null   object \n",
      " 3   popularity             4413 non-null   float64\n",
      " 4   release_date           4413 non-null   object \n",
      " 5   revenue                4413 non-null   int64  \n",
      " 6   runtime                4413 non-null   float64\n",
      " 7   country                4413 non-null   object \n",
      " 8   Lead_Actor             4413 non-null   object \n",
      " 9   Second_Lead_Actor      4413 non-null   object \n",
      " 10  Main_Production_House  4413 non-null   object \n",
      " 11  Genres                 4413 non-null   object \n",
      " 12  Director               4413 non-null   object \n",
      " 13  profit                 4413 non-null   int64  \n",
      " 14  Votes                  4413 non-null   object \n",
      " 15  Rating                 4413 non-null   object \n",
      "dtypes: float64(2), int64(3), object(11)\n",
      "memory usage: 586.1+ KB\n"
     ]
    }
   ],
   "source": [
    "# Information of columns\n",
    "movie_df.info()"
   ]
  },
  {
   "cell_type": "code",
   "execution_count": 12,
   "id": "75309f4e",
   "metadata": {},
   "outputs": [],
   "source": [
    "#Extracting Year from Release data and dropping Release date\n",
    "movie_df['Year']=pd.DatetimeIndex(movie_df.release_date).year\n",
    "movie_df['Month']=pd.DatetimeIndex(movie_df.release_date).month\n",
    "movie_df.drop('release_date',axis=1,inplace=True)"
   ]
  },
  {
   "cell_type": "code",
   "execution_count": 13,
   "id": "61a70819",
   "metadata": {},
   "outputs": [],
   "source": [
    "#Convering the columns from int to object\n",
    "movie_df.Year=movie_df.Year.astype('object')\n",
    "movie_df.Month=movie_df.Month.astype('object')"
   ]
  },
  {
   "cell_type": "code",
   "execution_count": 14,
   "id": "6cee3132",
   "metadata": {},
   "outputs": [
    {
     "data": {
      "text/plain": [
       "title_x                  4411\n",
       "budget                    301\n",
       "original_language          34\n",
       "popularity               4412\n",
       "revenue                  3237\n",
       "runtime                   151\n",
       "country                    64\n",
       "Lead_Actor               1860\n",
       "Second_Lead_Actor        2481\n",
       "Main_Production_House    1290\n",
       "Genres                     18\n",
       "Director                 2084\n",
       "profit                   3350\n",
       "Votes                       3\n",
       "Rating                      3\n",
       "Year                       89\n",
       "Month                      12\n",
       "dtype: int64"
      ]
     },
     "execution_count": 14,
     "metadata": {},
     "output_type": "execute_result"
    }
   ],
   "source": [
    "movie_df.nunique()\n",
    "# title has unique values in each row"
   ]
  },
  {
   "cell_type": "code",
   "execution_count": 15,
   "id": "a59806f1",
   "metadata": {},
   "outputs": [],
   "source": [
    "#Dropping Unique rows in table\n",
    "movie_df.drop('title_x',axis=1,inplace=True)"
   ]
  },
  {
   "cell_type": "code",
   "execution_count": 16,
   "id": "eeb1a95f",
   "metadata": {},
   "outputs": [
    {
     "data": {
      "text/plain": [
       "0"
      ]
     },
     "execution_count": 16,
     "metadata": {},
     "output_type": "execute_result"
    }
   ],
   "source": [
    "# Checking For Duplicaltes\n",
    "movie_df.duplicated().sum()"
   ]
  },
  {
   "cell_type": "markdown",
   "id": "34093d80",
   "metadata": {},
   "source": [
    "### EDA"
   ]
  },
  {
   "cell_type": "code",
   "execution_count": 17,
   "id": "87ecd924",
   "metadata": {},
   "outputs": [
    {
     "name": "stdout",
     "output_type": "stream",
     "text": [
      "<class 'pandas.core.frame.DataFrame'>\n",
      "Int64Index: 4413 entries, 0 to 4416\n",
      "Data columns (total 16 columns):\n",
      " #   Column                 Non-Null Count  Dtype  \n",
      "---  ------                 --------------  -----  \n",
      " 0   budget                 4413 non-null   int64  \n",
      " 1   original_language      4413 non-null   object \n",
      " 2   popularity             4413 non-null   float64\n",
      " 3   revenue                4413 non-null   int64  \n",
      " 4   runtime                4413 non-null   float64\n",
      " 5   country                4413 non-null   object \n",
      " 6   Lead_Actor             4413 non-null   object \n",
      " 7   Second_Lead_Actor      4413 non-null   object \n",
      " 8   Main_Production_House  4413 non-null   object \n",
      " 9   Genres                 4413 non-null   object \n",
      " 10  Director               4413 non-null   object \n",
      " 11  profit                 4413 non-null   int64  \n",
      " 12  Votes                  4413 non-null   object \n",
      " 13  Rating                 4413 non-null   object \n",
      " 14  Year                   4413 non-null   object \n",
      " 15  Month                  4413 non-null   object \n",
      "dtypes: float64(2), int64(3), object(11)\n",
      "memory usage: 586.1+ KB\n"
     ]
    }
   ],
   "source": [
    "movie_df.info()"
   ]
  },
  {
   "cell_type": "code",
   "execution_count": 18,
   "id": "9fe7c2d3",
   "metadata": {},
   "outputs": [
    {
     "data": {
      "image/png": "[encoded data removed]",
      "text/plain": [
       "<Figure size 2160x1440 with 6 Axes>"
      ]
     },
     "metadata": {
      "needs_background": "light"
     },
     "output_type": "display_data"
    }
   ],
   "source": [
    "cat=movie_df.select_dtypes('object')\n",
    "cat.drop(['Director','Main_Production_House','Second_Lead_Actor','Lead_Actor','Rating'],axis=1,inplace=True)\n",
    "fig,ax=plt.subplots(3,2,figsize=(30,20))\n",
    "ax=ax.ravel()\n",
    "for i,j in zip(cat,range(len(cat))):\n",
    "    sns.countplot(data=movie_df,x=i,hue='Rating',ax=ax[j])"
   ]
  },
  {
   "cell_type": "code",
   "execution_count": 19,
   "id": "84f22b7e",
   "metadata": {},
   "outputs": [],
   "source": [
    "# There are more number of average rating in action and comedy movies"
   ]
  },
  {
   "cell_type": "code",
   "execution_count": 20,
   "id": "56a0e711",
   "metadata": {},
   "outputs": [
    {
     "data": {
      "image/png": "[encoded data removed]",
      "text/plain": [
       "<Figure size 2160x1440 with 6 Axes>"
      ]
     },
     "metadata": {
      "needs_background": "light"
     },
     "output_type": "display_data"
    }
   ],
   "source": [
    "num=movie_df.select_dtypes(['int64','float64'])\n",
    "fig,ax=plt.subplots(3,2,figsize=(30,20))\n",
    "ax=ax.ravel()\n",
    "for i,j in zip(num,range(len(num))):\n",
    "    sns.boxplot(data=movie_df,x=i,hue='Rating',ax=ax[j])"
   ]
  },
  {
   "cell_type": "code",
   "execution_count": 21,
   "id": "d57cf70a",
   "metadata": {},
   "outputs": [],
   "source": [
    "# Outliers present in this are not false input of the data we keep it as it is."
   ]
  },
  {
   "cell_type": "code",
   "execution_count": 22,
   "id": "8cf43659",
   "metadata": {},
   "outputs": [
    {
     "name": "stdout",
     "output_type": "stream",
     "text": [
      "<class 'pandas.core.frame.DataFrame'>\n",
      "Int64Index: 4413 entries, 0 to 4416\n",
      "Data columns (total 16 columns):\n",
      " #   Column                 Non-Null Count  Dtype  \n",
      "---  ------                 --------------  -----  \n",
      " 0   budget                 4413 non-null   int64  \n",
      " 1   original_language      4413 non-null   int32  \n",
      " 2   popularity             4413 non-null   float64\n",
      " 3   revenue                4413 non-null   int64  \n",
      " 4   runtime                4413 non-null   float64\n",
      " 5   country                4413 non-null   int32  \n",
      " 6   Lead_Actor             4413 non-null   int32  \n",
      " 7   Second_Lead_Actor      4413 non-null   int32  \n",
      " 8   Main_Production_House  4413 non-null   int32  \n",
      " 9   Genres                 4413 non-null   int32  \n",
      " 10  Director               4413 non-null   int32  \n",
      " 11  profit                 4413 non-null   int64  \n",
      " 12  Votes                  4413 non-null   int32  \n",
      " 13  Rating                 4413 non-null   int32  \n",
      " 14  Year                   4413 non-null   int32  \n",
      " 15  Month                  4413 non-null   int32  \n",
      "dtypes: float64(2), int32(11), int64(3)\n",
      "memory usage: 525.5 KB\n"
     ]
    }
   ],
   "source": [
    "#Converting data type object to int32\n",
    "a=list(movie_df.select_dtypes('object'))\n",
    "for i in a:\n",
    "    movie_df[i]=LabelEncoder().fit_transform(movie_df[i])\n",
    "movie_df.info()"
   ]
  },
  {
   "cell_type": "code",
   "execution_count": 23,
   "id": "9ef59e79",
   "metadata": {},
   "outputs": [
    {
     "data": {
      "text/html": [
       "<div>\n",
       "<style scoped>\n",
       "    .dataframe tbody tr th:only-of-type {\n",
       "        vertical-align: middle;\n",
       "    }\n",
       "\n",
       "    .dataframe tbody tr th {\n",
       "        vertical-align: top;\n",
       "    }\n",
       "\n",
       "    .dataframe thead th {\n",
       "        text-align: right;\n",
       "    }\n",
       "</style>\n",
       "<table border=\"1\" class=\"dataframe\">\n",
       "  <thead>\n",
       "    <tr style=\"text-align: right;\">\n",
       "      <th></th>\n",
       "      <th>budget</th>\n",
       "      <th>original_language</th>\n",
       "      <th>popularity</th>\n",
       "      <th>revenue</th>\n",
       "      <th>runtime</th>\n",
       "      <th>country</th>\n",
       "      <th>Lead_Actor</th>\n",
       "      <th>Second_Lead_Actor</th>\n",
       "      <th>Main_Production_House</th>\n",
       "      <th>Genres</th>\n",
       "      <th>Director</th>\n",
       "      <th>profit</th>\n",
       "      <th>Votes</th>\n",
       "      <th>Rating</th>\n",
       "      <th>Year</th>\n",
       "      <th>Month</th>\n",
       "    </tr>\n",
       "  </thead>\n",
       "  <tbody>\n",
       "    <tr>\n",
       "      <th>0</th>\n",
       "      <td>0.621092</td>\n",
       "      <td>0.181818</td>\n",
       "      <td>0.171813</td>\n",
       "      <td>1.000000</td>\n",
       "      <td>0.456790</td>\n",
       "      <td>1.000000</td>\n",
       "      <td>0.837547</td>\n",
       "      <td>0.997984</td>\n",
       "      <td>0.463150</td>\n",
       "      <td>0.000000</td>\n",
       "      <td>0.377820</td>\n",
       "      <td>1.000000</td>\n",
       "      <td>0.5</td>\n",
       "      <td>0.5</td>\n",
       "      <td>0.920455</td>\n",
       "      <td>0.818182</td>\n",
       "    </tr>\n",
       "    <tr>\n",
       "      <th>1</th>\n",
       "      <td>0.788023</td>\n",
       "      <td>0.181818</td>\n",
       "      <td>0.158845</td>\n",
       "      <td>0.344696</td>\n",
       "      <td>0.478395</td>\n",
       "      <td>1.000000</td>\n",
       "      <td>0.476062</td>\n",
       "      <td>0.735484</td>\n",
       "      <td>0.958883</td>\n",
       "      <td>0.058824</td>\n",
       "      <td>0.327892</td>\n",
       "      <td>0.304310</td>\n",
       "      <td>0.0</td>\n",
       "      <td>0.5</td>\n",
       "      <td>0.897727</td>\n",
       "      <td>0.363636</td>\n",
       "    </tr>\n",
       "    <tr>\n",
       "      <th>2</th>\n",
       "      <td>0.642289</td>\n",
       "      <td>0.181818</td>\n",
       "      <td>0.122633</td>\n",
       "      <td>0.315884</td>\n",
       "      <td>0.413580</td>\n",
       "      <td>0.984127</td>\n",
       "      <td>0.211942</td>\n",
       "      <td>0.163710</td>\n",
       "      <td>0.198604</td>\n",
       "      <td>0.000000</td>\n",
       "      <td>0.839654</td>\n",
       "      <td>0.294987</td>\n",
       "      <td>0.0</td>\n",
       "      <td>0.5</td>\n",
       "      <td>0.988636</td>\n",
       "      <td>0.818182</td>\n",
       "    </tr>\n",
       "    <tr>\n",
       "      <th>3</th>\n",
       "      <td>0.655538</td>\n",
       "      <td>0.181818</td>\n",
       "      <td>0.128271</td>\n",
       "      <td>0.389151</td>\n",
       "      <td>0.466049</td>\n",
       "      <td>1.000000</td>\n",
       "      <td>0.174287</td>\n",
       "      <td>0.668145</td>\n",
       "      <td>0.524438</td>\n",
       "      <td>0.000000</td>\n",
       "      <td>0.154105</td>\n",
       "      <td>0.368336</td>\n",
       "      <td>0.5</td>\n",
       "      <td>0.5</td>\n",
       "      <td>0.954545</td>\n",
       "      <td>0.545455</td>\n",
       "    </tr>\n",
       "    <tr>\n",
       "      <th>4</th>\n",
       "      <td>0.682035</td>\n",
       "      <td>0.181818</td>\n",
       "      <td>0.050167</td>\n",
       "      <td>0.101916</td>\n",
       "      <td>0.364198</td>\n",
       "      <td>1.000000</td>\n",
       "      <td>0.916622</td>\n",
       "      <td>0.601210</td>\n",
       "      <td>0.958883</td>\n",
       "      <td>0.000000</td>\n",
       "      <td>0.040326</td>\n",
       "      <td>0.069883</td>\n",
       "      <td>0.0</td>\n",
       "      <td>0.0</td>\n",
       "      <td>0.954545</td>\n",
       "      <td>0.545455</td>\n",
       "    </tr>\n",
       "    <tr>\n",
       "      <th>...</th>\n",
       "      <td>...</td>\n",
       "      <td>...</td>\n",
       "      <td>...</td>\n",
       "      <td>...</td>\n",
       "      <td>...</td>\n",
       "      <td>...</td>\n",
       "      <td>...</td>\n",
       "      <td>...</td>\n",
       "      <td>...</td>\n",
       "      <td>...</td>\n",
       "      <td>...</td>\n",
       "      <td>...</td>\n",
       "      <td>...</td>\n",
       "      <td>...</td>\n",
       "      <td>...</td>\n",
       "      <td>...</td>\n",
       "    </tr>\n",
       "    <tr>\n",
       "      <th>4408</th>\n",
       "      <td>0.038156</td>\n",
       "      <td>0.181818</td>\n",
       "      <td>0.001047</td>\n",
       "      <td>0.009280</td>\n",
       "      <td>0.259259</td>\n",
       "      <td>1.000000</td>\n",
       "      <td>0.219473</td>\n",
       "      <td>0.760484</td>\n",
       "      <td>0.073701</td>\n",
       "      <td>0.352941</td>\n",
       "      <td>0.060970</td>\n",
       "      <td>0.064263</td>\n",
       "      <td>1.0</td>\n",
       "      <td>0.0</td>\n",
       "      <td>0.761364</td>\n",
       "      <td>0.727273</td>\n",
       "    </tr>\n",
       "    <tr>\n",
       "      <th>4409</th>\n",
       "      <td>0.038156</td>\n",
       "      <td>0.181818</td>\n",
       "      <td>0.026618</td>\n",
       "      <td>0.000152</td>\n",
       "      <td>0.194444</td>\n",
       "      <td>1.000000</td>\n",
       "      <td>0.863905</td>\n",
       "      <td>0.220565</td>\n",
       "      <td>0.889837</td>\n",
       "      <td>0.823529</td>\n",
       "      <td>0.859818</td>\n",
       "      <td>0.054896</td>\n",
       "      <td>1.0</td>\n",
       "      <td>0.5</td>\n",
       "      <td>0.863636</td>\n",
       "      <td>0.636364</td>\n",
       "    </tr>\n",
       "    <tr>\n",
       "      <th>4410</th>\n",
       "      <td>0.038156</td>\n",
       "      <td>0.212121</td>\n",
       "      <td>0.016296</td>\n",
       "      <td>0.000732</td>\n",
       "      <td>0.206790</td>\n",
       "      <td>0.650794</td>\n",
       "      <td>0.139860</td>\n",
       "      <td>0.390726</td>\n",
       "      <td>0.198604</td>\n",
       "      <td>0.000000</td>\n",
       "      <td>0.809890</td>\n",
       "      <td>0.055491</td>\n",
       "      <td>1.0</td>\n",
       "      <td>0.5</td>\n",
       "      <td>0.727273</td>\n",
       "      <td>0.272727</td>\n",
       "    </tr>\n",
       "    <tr>\n",
       "      <th>4411</th>\n",
       "      <td>0.038156</td>\n",
       "      <td>0.181818</td>\n",
       "      <td>0.001648</td>\n",
       "      <td>0.009280</td>\n",
       "      <td>0.327160</td>\n",
       "      <td>1.000000</td>\n",
       "      <td>0.288327</td>\n",
       "      <td>0.554839</td>\n",
       "      <td>0.357642</td>\n",
       "      <td>0.176471</td>\n",
       "      <td>0.849736</td>\n",
       "      <td>0.064263</td>\n",
       "      <td>1.0</td>\n",
       "      <td>0.5</td>\n",
       "      <td>0.965909</td>\n",
       "      <td>0.818182</td>\n",
       "    </tr>\n",
       "    <tr>\n",
       "      <th>4412</th>\n",
       "      <td>0.038156</td>\n",
       "      <td>0.181818</td>\n",
       "      <td>0.002202</td>\n",
       "      <td>0.009280</td>\n",
       "      <td>0.234568</td>\n",
       "      <td>1.000000</td>\n",
       "      <td>0.253900</td>\n",
       "      <td>0.105242</td>\n",
       "      <td>1.000000</td>\n",
       "      <td>0.294118</td>\n",
       "      <td>0.107537</td>\n",
       "      <td>0.064263</td>\n",
       "      <td>1.0</td>\n",
       "      <td>0.5</td>\n",
       "      <td>0.875000</td>\n",
       "      <td>0.363636</td>\n",
       "    </tr>\n",
       "  </tbody>\n",
       "</table>\n",
       "<p>4413 rows × 16 columns</p>\n",
       "</div>"
      ],
      "text/plain": [
       "        budget  original_language  popularity   revenue   runtime   country  \\\n",
       "0     0.621092           0.181818    0.171813  1.000000  0.456790  1.000000   \n",
       "1     0.788023           0.181818    0.158845  0.344696  0.478395  1.000000   \n",
       "2     0.642289           0.181818    0.122633  0.315884  0.413580  0.984127   \n",
       "3     0.655538           0.181818    0.128271  0.389151  0.466049  1.000000   \n",
       "4     0.682035           0.181818    0.050167  0.101916  0.364198  1.000000   \n",
       "...        ...                ...         ...       ...       ...       ...   \n",
       "4408  0.038156           0.181818    0.001047  0.009280  0.259259  1.000000   \n",
       "4409  0.038156           0.181818    0.026618  0.000152  0.194444  1.000000   \n",
       "4410  0.038156           0.212121    0.016296  0.000732  0.206790  0.650794   \n",
       "4411  0.038156           0.181818    0.001648  0.009280  0.327160  1.000000   \n",
       "4412  0.038156           0.181818    0.002202  0.009280  0.234568  1.000000   \n",
       "\n",
       "      Lead_Actor  Second_Lead_Actor  Main_Production_House    Genres  \\\n",
       "0       0.837547           0.997984               0.463150  0.000000   \n",
       "1       0.476062           0.735484               0.958883  0.058824   \n",
       "2       0.211942           0.163710               0.198604  0.000000   \n",
       "3       0.174287           0.668145               0.524438  0.000000   \n",
       "4       0.916622           0.601210               0.958883  0.000000   \n",
       "...          ...                ...                    ...       ...   \n",
       "4408    0.219473           0.760484               0.073701  0.352941   \n",
       "4409    0.863905           0.220565               0.889837  0.823529   \n",
       "4410    0.139860           0.390726               0.198604  0.000000   \n",
       "4411    0.288327           0.554839               0.357642  0.176471   \n",
       "4412    0.253900           0.105242               1.000000  0.294118   \n",
       "\n",
       "      Director    profit  Votes  Rating      Year     Month  \n",
       "0     0.377820  1.000000    0.5     0.5  0.920455  0.818182  \n",
       "1     0.327892  0.304310    0.0     0.5  0.897727  0.363636  \n",
       "2     0.839654  0.294987    0.0     0.5  0.988636  0.818182  \n",
       "3     0.154105  0.368336    0.5     0.5  0.954545  0.545455  \n",
       "4     0.040326  0.069883    0.0     0.0  0.954545  0.545455  \n",
       "...        ...       ...    ...     ...       ...       ...  \n",
       "4408  0.060970  0.064263    1.0     0.0  0.761364  0.727273  \n",
       "4409  0.859818  0.054896    1.0     0.5  0.863636  0.636364  \n",
       "4410  0.809890  0.055491    1.0     0.5  0.727273  0.272727  \n",
       "4411  0.849736  0.064263    1.0     0.5  0.965909  0.818182  \n",
       "4412  0.107537  0.064263    1.0     0.5  0.875000  0.363636  \n",
       "\n",
       "[4413 rows x 16 columns]"
      ]
     },
     "execution_count": 23,
     "metadata": {},
     "output_type": "execute_result"
    }
   ],
   "source": [
    "#Scalling the data to bring to a pericular scale for modelling\n",
    "scaller_df=pd.DataFrame(MinMaxScaler().fit_transform(movie_df),columns=movie_df.columns)\n",
    "scaller_df"
   ]
  },
  {
   "cell_type": "code",
   "execution_count": 24,
   "id": "d79a7ee0",
   "metadata": {},
   "outputs": [
    {
     "data": {
      "text/plain": [
       "<AxesSubplot:>"
      ]
     },
     "execution_count": 24,
     "metadata": {},
     "output_type": "execute_result"
    },
    {
     "data": {
      "image/png": "[encoded data removed]",
      "text/plain": [
       "<Figure size 1080x720 with 2 Axes>"
      ]
     },
     "metadata": {
      "needs_background": "light"
     },
     "output_type": "display_data"
    }
   ],
   "source": [
    "# Visulizing Corelation Matrix using heat map\n",
    "corr_mat=scaller_df.corr()\n",
    "plt.figure(figsize=(15,10))\n",
    "sns.heatmap(corr_mat,annot=True)"
   ]
  },
  {
   "cell_type": "code",
   "execution_count": 25,
   "id": "fe925f3b",
   "metadata": {},
   "outputs": [],
   "source": [
    "# Funtion to identify the corellated columns\n",
    "def correlation(df,threshold):\n",
    "    col_corr=set()\n",
    "    correlation_matrix=df.corr()\n",
    "    for i in range(len(correlation_matrix.columns)):\n",
    "        for j in range(i):\n",
    "            if(abs(correlation_matrix.iloc[i,j]))>threshold:\n",
    "                col_name=correlation_matrix.columns[i]\n",
    "                col_corr.add(col_name)\n",
    "    return col_corr"
   ]
  },
  {
   "cell_type": "code",
   "execution_count": 26,
   "id": "b20e60cd",
   "metadata": {},
   "outputs": [
    {
     "data": {
      "text/plain": [
       "{'profit', 'revenue'}"
      ]
     },
     "execution_count": 26,
     "metadata": {},
     "output_type": "execute_result"
    }
   ],
   "source": [
    "correlation(scaller_df,0.7)"
   ]
  },
  {
   "cell_type": "code",
   "execution_count": 27,
   "id": "25b48a41",
   "metadata": {},
   "outputs": [],
   "source": [
    "# Dropping Revenue column as feature reduction\n",
    "scaller_df.drop('revenue',inplace=True,axis=1)"
   ]
  },
  {
   "cell_type": "code",
   "execution_count": 28,
   "id": "3eb4d52a",
   "metadata": {},
   "outputs": [
    {
     "data": {
      "text/plain": [
       "6     1090\n",
       "3      949\n",
       "0      723\n",
       "1      334\n",
       "10     278\n",
       "4      188\n",
       "15     180\n",
       "2      119\n",
       "8      115\n",
       "13     100\n",
       "14      94\n",
       "7       50\n",
       "5       48\n",
       "12      40\n",
       "11      33\n",
       "17      27\n",
       "9       23\n",
       "16      22\n",
       "Name: Genres, dtype: int64"
      ]
     },
     "execution_count": 28,
     "metadata": {},
     "output_type": "execute_result"
    }
   ],
   "source": [
    "movie_df.Genres.value_counts()"
   ]
  },
  {
   "cell_type": "markdown",
   "id": "aff38a07",
   "metadata": {},
   "source": [
    "### Resampling the target column and split data into Train and Test data"
   ]
  },
  {
   "cell_type": "code",
   "execution_count": 29,
   "id": "2290ed8c",
   "metadata": {},
   "outputs": [
    {
     "data": {
      "text/plain": [
       "<AxesSubplot:xlabel='Genres', ylabel='count'>"
      ]
     },
     "execution_count": 29,
     "metadata": {},
     "output_type": "execute_result"
    },
    {
     "data": {
      "image/png": "[encoded data removed]",
      "text/plain": [
       "<Figure size 432x288 with 1 Axes>"
      ]
     },
     "metadata": {
      "needs_background": "light"
     },
     "output_type": "display_data"
    }
   ],
   "source": [
    "x1=scaller_df.drop('Genres',axis=1)\n",
    "y1=movie_df.Genres\n",
    "\n",
    "#min_samples=23\n",
    "# Balancing the target feature to get accurate result while modeling \n",
    "os=SMOTE()                  \n",
    "X,y=os.fit_resample(x1,y1)\n",
    "\n",
    "sns.countplot(y)\n",
    "#ratio={c: min_samples for c in set(y1) if sum(y1==c)>=min_samples"
   ]
  },
  {
   "cell_type": "code",
   "execution_count": 30,
   "id": "5833d4f6",
   "metadata": {},
   "outputs": [],
   "source": [
    "x_train,x_test,y_train,y_test=train_test_split(X,y,test_size=0.20,random_state=42)"
   ]
  },
  {
   "cell_type": "markdown",
   "id": "7fe76849",
   "metadata": {},
   "source": [
    "### Logestic Regression"
   ]
  },
  {
   "cell_type": "code",
   "execution_count": 31,
   "id": "ea3b3ae4",
   "metadata": {},
   "outputs": [],
   "source": [
    "model1=LogisticRegression().fit(x_train,y_train)\n",
    "y_pred1=model1.predict(x_test)"
   ]
  },
  {
   "cell_type": "code",
   "execution_count": 32,
   "id": "d89c7c94",
   "metadata": {},
   "outputs": [
    {
     "name": "stdout",
     "output_type": "stream",
     "text": [
      "R Score for Train set  :  0.27408256880733944\n",
      "R Score for Test  set  :  0.268348623853211\n"
     ]
    }
   ],
   "source": [
    "print('R Score for Train set  : ',model1.score(x_train,y_train))\n",
    "print('R Score for Test  set  : ',model1.score(x_test,y_test))"
   ]
  },
  {
   "cell_type": "code",
   "execution_count": 33,
   "id": "dc928dd2",
   "metadata": {},
   "outputs": [
    {
     "name": "stdout",
     "output_type": "stream",
     "text": [
      "Precission Score:  0.2337634721275993\n",
      "Recall Score:  0.2665175358151147\n"
     ]
    }
   ],
   "source": [
    "print('Precission Score: ', precision_score(y_test,y_pred1,average='macro'))\n",
    "print('Recall Score: ',recall_score(y_test,y_pred1,average='macro'))"
   ]
  },
  {
   "cell_type": "code",
   "execution_count": 34,
   "id": "5183cc75",
   "metadata": {},
   "outputs": [
    {
     "name": "stdout",
     "output_type": "stream",
     "text": [
      "Confusion Matrix\n",
      "[[ 20  34   6  15   1  13   3   8   4  12  30   9  10   3  16  16  14  14]\n",
      " [ 11  42  23   9   1   4   1  13   7  14   6  12   5   1  24   3   5  19]\n",
      " [  0   2 119   5   0  13   1  45   1   2  10   1  11   0   4   2   0   1]\n",
      " [  6   1  11  11   7  32   3   3   1  10  65  20  10   0   8  18   4   7]\n",
      " [ 14   6   0   7  24  25   6   7   1  12  19  14   8   5   7  10  24  18]\n",
      " [  0   0  11   3   0 181   0   0   0   7  12  17   7   1   0   1   0   0]\n",
      " [  2   1   3   5   9  38   4   2   0  41  17  16   8   5   7  20  24  14]\n",
      " [  2   2  45  11   1  18   0  54   2   4  15  10  11   0   1  18   0  13]\n",
      " [ 12  12  21   8   1  12   1  17   6  12  17  17  17   1  28   6   9  11]\n",
      " [  0   1   0   0   0   0   1   0   0 125   0  14   0   0   0   6  40  20]\n",
      " [  4   3   1  12   2  22   0   3   4   3  83  21  20   3   4  18   7  12]\n",
      " [  2   1   0  11   1  34   0   0   2  16  20  75   8   0   0   9   7  45]\n",
      " [  5   4   5   4   5  39   0   9   1   2  58   1  33   2  14  20  17  11]\n",
      " [ 10   3   4  10   5  30   3   6   1  12  35  27  17   2  16  35  13   2]\n",
      " [  3  27   7   6   6  30   1   1  12  14  17   6  12   1  44   4   3  23]\n",
      " [ 14  15   3   6  10  27   1   1   1  11  32   7  19   1  10  45  16   4]\n",
      " [  4   5   5   0   6   5   1   0   0  41   0  19   1   0  10  26  61  18]\n",
      " [ 10   4   4   1   3  11   0   9   0  17   4  13   2   0   2   3  14 124]]\n",
      "\n",
      "Classification report\n",
      "              precision    recall  f1-score   support\n",
      "\n",
      "           0       0.17      0.09      0.12       228\n",
      "           1       0.26      0.21      0.23       200\n",
      "           2       0.44      0.55      0.49       217\n",
      "           3       0.09      0.05      0.06       217\n",
      "           4       0.29      0.12      0.17       207\n",
      "           5       0.34      0.75      0.47       240\n",
      "           6       0.15      0.02      0.03       216\n",
      "           7       0.30      0.26      0.28       207\n",
      "           8       0.14      0.03      0.05       208\n",
      "           9       0.35      0.60      0.44       207\n",
      "          10       0.19      0.37      0.25       222\n",
      "          11       0.25      0.32      0.28       231\n",
      "          12       0.17      0.14      0.15       230\n",
      "          13       0.08      0.01      0.02       231\n",
      "          14       0.23      0.20      0.21       217\n",
      "          15       0.17      0.20      0.19       223\n",
      "          16       0.24      0.30      0.27       202\n",
      "          17       0.35      0.56      0.43       221\n",
      "\n",
      "    accuracy                           0.27      3924\n",
      "   macro avg       0.23      0.27      0.23      3924\n",
      "weighted avg       0.23      0.27      0.23      3924\n",
      "\n",
      "\n"
     ]
    }
   ],
   "source": [
    "print('Confusion Matrix')\n",
    "print(confusion_matrix(y_test,y_pred1))\n",
    "print('')\n",
    "print('Classification report')\n",
    "print(classification_report(y_test,y_pred1))\n",
    "print('')"
   ]
  },
  {
   "cell_type": "markdown",
   "id": "9ed1407b",
   "metadata": {},
   "source": [
    "### Naive_bayes"
   ]
  },
  {
   "cell_type": "code",
   "execution_count": 35,
   "id": "06c69160",
   "metadata": {},
   "outputs": [],
   "source": [
    "model2=GaussianNB().fit(x_train,y_train)\n",
    "y_pred2=model2.predict(x_test)"
   ]
  },
  {
   "cell_type": "code",
   "execution_count": 36,
   "id": "387e6599",
   "metadata": {},
   "outputs": [
    {
     "name": "stdout",
     "output_type": "stream",
     "text": [
      "R Score for Train set:  0.1660295616717635\n",
      "R Score for Test  set:  0.17380224260958205\n"
     ]
    }
   ],
   "source": [
    "print('R Score for Train set: ',model2.score(x_train,y_train))\n",
    "print('R Score for Test  set: ',model2.score(x_test,y_test))"
   ]
  },
  {
   "cell_type": "code",
   "execution_count": 37,
   "id": "4dc97c8d",
   "metadata": {},
   "outputs": [
    {
     "name": "stdout",
     "output_type": "stream",
     "text": [
      "Precission Score:  0.25442311152239216\n",
      "Recall Score:  0.16777778279381772\n"
     ]
    }
   ],
   "source": [
    "print('Precission Score: ', precision_score(y_test,y_pred2,average='macro'))\n",
    "print('Recall Score: ',recall_score(y_test,y_pred2,average='macro'))"
   ]
  },
  {
   "cell_type": "code",
   "execution_count": 38,
   "id": "891da050",
   "metadata": {},
   "outputs": [
    {
     "name": "stdout",
     "output_type": "stream",
     "text": [
      "Confusion Matrix\n",
      "[[  2  20   6   0   0  30   2   2   1   9   2 109   9   1  17   3  15   0]\n",
      " [  1  21  10   2   1   9   1   2   0   9   0  68  11   2  39   6  17   1]\n",
      " [  2   5  66   2   1  22   1   7   0   3   0  63  12   0  19   4  10   0]\n",
      " [  0   0   1   0   0  50   0   0   0   2   3 137   7   0  11   1   5   0]\n",
      " [  0   1   0   0   2  54   0   0   0   1   0 124   8   0  12   3   2   0]\n",
      " [  0   0   0   0   0 222   2   0   0   0   1  15   0   0   0   0   0   0]\n",
      " [  0   4   1   0   1  64   2   0   0   8   0  97   5   0  12   4  17   1]\n",
      " [  0   3  30   1   0  39   1   6   3   1   0  96  11   0   8   3   5   0]\n",
      " [  3   7  13   0   0  18   0   0   5   6   1  96  11   0  32   8   8   0]\n",
      " [  1   8   0   0   0  31   6   0   0  26   0  88   0   1   7   0  37   2]\n",
      " [  1   0   0   0   1  43   0   0   0   4   7 134  17   0   9   0   6   0]\n",
      " [  0   0   0   0   0  42   0   0   0   0   0 188   1   0   0   0   0   0]\n",
      " [  0   0   0   0   0  58   1   0   0   0   0 116  24   0  15   1  15   0]\n",
      " [  0   0   0   0   0  54   0   0   0   4   0 135   7   1  22   1   7   0]\n",
      " [  0  16   2   0   0  13   1   5   4   2   1 121   2   0  38   5   7   0]\n",
      " [  0   2   0   0   0  47   0   0   1   1   1 116  12   0  25   3  15   0]\n",
      " [  0   2   0   0   1  21   0   0   0   0   0 103   2   0  11   4  58   0]\n",
      " [  0   9   0   0   0  21   1   0   0  15   0 140   0   0   0   0  24  11]]\n",
      "\n",
      "Classification report\n",
      "              precision    recall  f1-score   support\n",
      "\n",
      "           0       0.20      0.01      0.02       228\n",
      "           1       0.21      0.10      0.14       200\n",
      "           2       0.51      0.30      0.38       217\n",
      "           3       0.00      0.00      0.00       217\n",
      "           4       0.29      0.01      0.02       207\n",
      "           5       0.26      0.93      0.41       240\n",
      "           6       0.11      0.01      0.02       216\n",
      "           7       0.27      0.03      0.05       207\n",
      "           8       0.36      0.02      0.05       208\n",
      "           9       0.29      0.13      0.17       207\n",
      "          10       0.44      0.03      0.06       222\n",
      "          11       0.10      0.81      0.17       231\n",
      "          12       0.17      0.10      0.13       230\n",
      "          13       0.20      0.00      0.01       231\n",
      "          14       0.14      0.18      0.15       217\n",
      "          15       0.07      0.01      0.02       223\n",
      "          16       0.23      0.29      0.26       202\n",
      "          17       0.73      0.05      0.09       221\n",
      "\n",
      "    accuracy                           0.17      3924\n",
      "   macro avg       0.25      0.17      0.12      3924\n",
      "weighted avg       0.25      0.17      0.12      3924\n",
      "\n",
      "\n"
     ]
    }
   ],
   "source": [
    "print('Confusion Matrix')\n",
    "print(confusion_matrix(y_test,y_pred2))\n",
    "print('')\n",
    "print('Classification report')\n",
    "print(classification_report(y_test,y_pred2))\n",
    "print('')"
   ]
  },
  {
   "cell_type": "markdown",
   "id": "89c15c07",
   "metadata": {},
   "source": [
    "### Decission Tree"
   ]
  },
  {
   "cell_type": "code",
   "execution_count": 39,
   "id": "02d1dcf3",
   "metadata": {},
   "outputs": [],
   "source": [
    "kf=KFold(n_splits=5,random_state=42,shuffle=True)"
   ]
  },
  {
   "cell_type": "code",
   "execution_count": 40,
   "id": "593dd00e",
   "metadata": {},
   "outputs": [],
   "source": [
    "# dt=DecisionTreeClassifier(random_state=42).fit(x_train,y_train)"
   ]
  },
  {
   "cell_type": "code",
   "execution_count": 41,
   "id": "466a1a0d",
   "metadata": {},
   "outputs": [],
   "source": [
    "# param_grid={'min_samples_split':[3,5,7,9,10,40,80,100],\n",
    "#            'min_samples_leaf':[1,3,4,5,6,7,8,10,40,80,100],\n",
    "#            'max_depth':[3,4,5,6,7,8,9,10],\n",
    "#            'max_features':[2,3,4,5,6,7]}"
   ]
  },
  {
   "cell_type": "code",
   "execution_count": 42,
   "id": "f555dac5",
   "metadata": {},
   "outputs": [],
   "source": [
    "# gridcv=GridSearchCV(dt,param_grid,cv=kf)"
   ]
  },
  {
   "cell_type": "code",
   "execution_count": 43,
   "id": "4e5e96d1",
   "metadata": {},
   "outputs": [],
   "source": [
    "# gridcv.fit(x_train,y_train)"
   ]
  },
  {
   "cell_type": "code",
   "execution_count": 44,
   "id": "ff6f0726",
   "metadata": {},
   "outputs": [],
   "source": [
    "# gridcv.best_score_"
   ]
  },
  {
   "cell_type": "code",
   "execution_count": 45,
   "id": "18a96a34",
   "metadata": {},
   "outputs": [],
   "source": [
    "# gridcv.best_estimator_"
   ]
  },
  {
   "cell_type": "code",
   "execution_count": 46,
   "id": "de32af61",
   "metadata": {},
   "outputs": [],
   "source": [
    "model3=DecisionTreeClassifier(max_depth=10, max_features=7, min_samples_split=3,random_state=42).fit(x_train,y_train)\n",
    "y_pred3=model3.predict(x_test)"
   ]
  },
  {
   "cell_type": "code",
   "execution_count": 47,
   "id": "3517ce60",
   "metadata": {},
   "outputs": [
    {
     "name": "stdout",
     "output_type": "stream",
     "text": [
      "R Score for Train set:  0.5542813455657493\n",
      "R Score for Test  set:  0.46075433231396534\n"
     ]
    }
   ],
   "source": [
    "print('R Score for Train set: ',model3.score(x_train,y_train))\n",
    "print('R Score for Test  set: ',model3.score(x_test,y_test))"
   ]
  },
  {
   "cell_type": "code",
   "execution_count": 48,
   "id": "d5afc804",
   "metadata": {},
   "outputs": [
    {
     "name": "stdout",
     "output_type": "stream",
     "text": [
      "Precission Score:  0.4520557791965649\n",
      "Recall Score:  0.4597718024737802\n"
     ]
    }
   ],
   "source": [
    "print('Precission Score: ', precision_score(y_test,y_pred3,average='macro'))\n",
    "print('Recall Score: ',recall_score(y_test,y_pred3,average='macro'))"
   ]
  },
  {
   "cell_type": "code",
   "execution_count": 49,
   "id": "e490e31f",
   "metadata": {},
   "outputs": [
    {
     "name": "stdout",
     "output_type": "stream",
     "text": [
      "Confusion Matrix\n",
      "[[ 36  30   8  13   8   4   7   9   9  10  14  18  10  18  13  15   3   3]\n",
      " [ 16  74   7   3  10   4   3   8  10   2   7  10  11  11  14   4   3   3]\n",
      " [  4  12 139   6   2   3   3  18  10   0   1   1   0   2   6   5   1   4]\n",
      " [  9  18  12  26   5   7   5   7   8   3  20  25  17  22  11  16   2   4]\n",
      " [  2  12   4  11  38  10  12   6   6   6  14  21   8  32   7   7   6   5]\n",
      " [  0   0   0   2   1 193   5   2   0   2   2  15   2   7   3   3   0   3]\n",
      " [  4   5   3  10  14  22  38   4   9  10  10  13  11  20   9  16   5  13]\n",
      " [  3  17   8   3   1   4   0 122   7   0   5  10   5   5   2   6   3   6]\n",
      " [ 10  30   4   6  11   3   6  11  63   2   4  11   6  22   5   5   5   4]\n",
      " [  3   2   1   0  10   1   1   0   1 173   1   5   0   1   5   2   1   0]\n",
      " [  7  13   6   9   6   1   6   7   8   2  81  12  21  14   9  15   1   4]\n",
      " [  1   6   1   4  10   5   1  10   1   1   6 167   7   3   1   3   1   3]\n",
      " [  2  14   0   4   3   7   1   4   8   1  14   6 132  10  11  12   1   0]\n",
      " [  5  29   0   5   7   3   3   7   4   3   9  35  16  74   5  15   3   8]\n",
      " [  8  24   7   5  10   1   2   4  16   1   8   6   4  24  77  15   1   4]\n",
      " [ 11  27   7   8   5   3   9   3   1   4  14  15  12  26  11  61   6   0]\n",
      " [  0   2   0   0  10   0   4   0   1   4   0  15   6   7   0   1 152   0]\n",
      " [  0   7   0   5   4   4   1   2   6   3   0  10   0   7   4   6   0 162]]\n",
      "\n",
      "Classification report\n",
      "              precision    recall  f1-score   support\n",
      "\n",
      "           0       0.30      0.16      0.21       228\n",
      "           1       0.23      0.37      0.28       200\n",
      "           2       0.67      0.64      0.66       217\n",
      "           3       0.22      0.12      0.15       217\n",
      "           4       0.25      0.18      0.21       207\n",
      "           5       0.70      0.80      0.75       240\n",
      "           6       0.36      0.18      0.24       216\n",
      "           7       0.54      0.59      0.57       207\n",
      "           8       0.38      0.30      0.34       208\n",
      "           9       0.76      0.84      0.80       207\n",
      "          10       0.39      0.36      0.38       222\n",
      "          11       0.42      0.72      0.53       231\n",
      "          12       0.49      0.57      0.53       230\n",
      "          13       0.24      0.32      0.28       231\n",
      "          14       0.40      0.35      0.38       217\n",
      "          15       0.29      0.27      0.28       223\n",
      "          16       0.78      0.75      0.77       202\n",
      "          17       0.72      0.73      0.72       221\n",
      "\n",
      "    accuracy                           0.46      3924\n",
      "   macro avg       0.45      0.46      0.45      3924\n",
      "weighted avg       0.45      0.46      0.45      3924\n",
      "\n",
      "\n"
     ]
    }
   ],
   "source": [
    "print('Confusion Matrix')\n",
    "print(confusion_matrix(y_test,y_pred3))\n",
    "print('')\n",
    "print('Classification report')\n",
    "print(classification_report(y_test,y_pred3))\n",
    "print('')"
   ]
  },
  {
   "cell_type": "markdown",
   "id": "e1f3e637",
   "metadata": {},
   "source": [
    "### Random Forest"
   ]
  },
  {
   "cell_type": "code",
   "execution_count": 50,
   "id": "98ec819b",
   "metadata": {},
   "outputs": [],
   "source": [
    "# rf=RandomForestClassifier(random_state=42).fit(x_train,y_train)"
   ]
  },
  {
   "cell_type": "code",
   "execution_count": 51,
   "id": "b50ef737",
   "metadata": {},
   "outputs": [],
   "source": [
    "# param_grid={'n_estimators':[10,20,40,50,70,100,150,200],\n",
    "#            'min_samples_split':[10,20,30],\n",
    "#            'min_samples_leaf':[20,40,100],\n",
    "#            'max_depth':[3,4,5,6,7,8,9,10]}"
   ]
  },
  {
   "cell_type": "code",
   "execution_count": 52,
   "id": "a0cae77c",
   "metadata": {},
   "outputs": [],
   "source": [
    "# grid_cv2=GridSearchCV(rf,param_grid,cv=kf)"
   ]
  },
  {
   "cell_type": "code",
   "execution_count": 53,
   "id": "24dc8456",
   "metadata": {},
   "outputs": [],
   "source": [
    "# grid_cv2.fit(x_train,y_train)"
   ]
  },
  {
   "cell_type": "code",
   "execution_count": 54,
   "id": "22feafb7",
   "metadata": {},
   "outputs": [],
   "source": [
    "# grid_cv2.best_score_"
   ]
  },
  {
   "cell_type": "code",
   "execution_count": 55,
   "id": "d807ae37",
   "metadata": {},
   "outputs": [],
   "source": [
    "# grid_cv2.best_estimator_"
   ]
  },
  {
   "cell_type": "code",
   "execution_count": 56,
   "id": "f6c1bc5d",
   "metadata": {},
   "outputs": [],
   "source": [
    "model4=RandomForestClassifier(max_depth=10, min_samples_leaf=20, min_samples_split=10,n_estimators=200, random_state=42).fit(x_train,y_train)\n",
    "y_pred4=model4.predict(x_test)"
   ]
  },
  {
   "cell_type": "code",
   "execution_count": 57,
   "id": "99dbcaef",
   "metadata": {},
   "outputs": [
    {
     "name": "stdout",
     "output_type": "stream",
     "text": [
      "R Score for Train set:  0.7024719673802242\n",
      "R Score for Test  set:  0.6149337410805301\n"
     ]
    }
   ],
   "source": [
    "print('R Score for Train set: ',model4.score(x_train,y_train))\n",
    "print('R Score for Test  set: ',model4.score(x_test,y_test))"
   ]
  },
  {
   "cell_type": "code",
   "execution_count": 58,
   "id": "9786e011",
   "metadata": {},
   "outputs": [
    {
     "name": "stdout",
     "output_type": "stream",
     "text": [
      "Precission Score:  0.5850376919090785\n",
      "Recall Score:  0.6140051572835614\n"
     ]
    }
   ],
   "source": [
    "print('Precission Score: ', precision_score(y_test,y_pred4,average='macro'))\n",
    "print('Recall Score: ',recall_score(y_test,y_pred4,average='macro'))"
   ]
  },
  {
   "cell_type": "code",
   "execution_count": 59,
   "id": "238f5cc4",
   "metadata": {},
   "outputs": [
    {
     "name": "stdout",
     "output_type": "stream",
     "text": [
      "Confusion Matrix\n",
      "[[ 33  35   9  12   6  12   9  10   9  17  14  10   6   4  22   7   8   5]\n",
      " [  9  80  22   3   2   6   2   7  11  11   3   5   6   3  13   1   9   7]\n",
      " [  0   0 193   2   0   4   0   5   1   3   4   1   2   0   0   2   0   0]\n",
      " [ 13   1  10  25   5  23  11   6   7   6  53   9  14  11   3  12   1   7]\n",
      " [  7   3   0   1  73  12  11   4   4  13  17  11   8   5   4   9  16   9]\n",
      " [  0   0   1   1   0 232   0   0   0   3   3   0   0   0   0   0   0   0]\n",
      " [  4   9   0  13  13  35  34   1   2  32  15  13   3   4   7   8  14   9]\n",
      " [  1   0  12   0   2   7   1 169   1   0   2   3   0   1   2   0   0   6]\n",
      " [  7   4   8   1   8  10   4   5 118   5   7   6  11   0   3   2   8   1]\n",
      " [  0   0   0   0   0   0   0   0   0 206   0   1   0   0   0   0   0   0]\n",
      " [  8   1   2   5   7   9   1   7   8   1 126   3  11   2   6  11   6   8]\n",
      " [  2   0   0   0   1   5   0   1   1   1   1 214   0   0   2   0   0   3]\n",
      " [  0   0   0   2   2   6   0   4   1   0  10   4 194   0   1   0   1   5]\n",
      " [  1   2   7   9   3  16   4   4   6   6  14  14  12 107   2   6   8  10]\n",
      " [  6  17   9   4   5   3   3   1   4   5  15   3   5   3 117   7   1   9]\n",
      " [  5  13   3   0   8   8   4   4   5  17  25   4  12   4  10  90  11   0]\n",
      " [  0   0   0   0   1   0   0   0   0   0   0   1   0   1   0   0 199   0]\n",
      " [  0   1   0   0   0   6   0   3   0   1   0   1   0   0   1   4   1 203]]\n",
      "\n",
      "Classification report\n",
      "              precision    recall  f1-score   support\n",
      "\n",
      "           0       0.34      0.14      0.20       228\n",
      "           1       0.48      0.40      0.44       200\n",
      "           2       0.70      0.89      0.78       217\n",
      "           3       0.32      0.12      0.17       217\n",
      "           4       0.54      0.35      0.43       207\n",
      "           5       0.59      0.97      0.73       240\n",
      "           6       0.40      0.16      0.23       216\n",
      "           7       0.73      0.82      0.77       207\n",
      "           8       0.66      0.57      0.61       208\n",
      "           9       0.63      1.00      0.77       207\n",
      "          10       0.41      0.57      0.47       222\n",
      "          11       0.71      0.93      0.80       231\n",
      "          12       0.68      0.84      0.75       230\n",
      "          13       0.74      0.46      0.57       231\n",
      "          14       0.61      0.54      0.57       217\n",
      "          15       0.57      0.40      0.47       223\n",
      "          16       0.70      0.99      0.82       202\n",
      "          17       0.72      0.92      0.81       221\n",
      "\n",
      "    accuracy                           0.61      3924\n",
      "   macro avg       0.59      0.61      0.58      3924\n",
      "weighted avg       0.59      0.61      0.58      3924\n",
      "\n",
      "\n"
     ]
    }
   ],
   "source": [
    "print('Confusion Matrix')\n",
    "print(confusion_matrix(y_test,y_pred4))\n",
    "print('')\n",
    "print('Classification report')\n",
    "print(classification_report(y_test,y_pred4))\n",
    "print('')"
   ]
  },
  {
   "cell_type": "markdown",
   "id": "e0228c00",
   "metadata": {},
   "source": [
    "### Stacking"
   ]
  },
  {
   "cell_type": "code",
   "execution_count": 60,
   "id": "e796f123",
   "metadata": {},
   "outputs": [],
   "source": [
    "level1=[]\n",
    "level1.append(('lr',LogisticRegression()))\n",
    "level1.append(('KNN',KNeighborsClassifier()))\n",
    "level1.append(('ny',GaussianNB()))\n",
    "level1.append(('SVM',SVC()))\n",
    "level1.append(('DT',DecisionTreeClassifier(max_depth=10, max_features=6, min_samples_split=5,random_state=42)))\n",
    "level1.append(('RF',RandomForestClassifier(max_depth=10, min_samples_leaf=20, min_samples_split=10,n_estimators=200, random_state=42)))\n",
    "level2=LogisticRegression()\n",
    "stack_model=StackingClassifier(estimators=level1,final_estimator=level2,cv=kf)"
   ]
  },
  {
   "cell_type": "code",
   "execution_count": 61,
   "id": "b363fb7f",
   "metadata": {},
   "outputs": [],
   "source": [
    "model5=stack_model.fit(x_train,y_train)\n",
    "y_pred5=model5.predict(x_test)"
   ]
  },
  {
   "cell_type": "code",
   "execution_count": 62,
   "id": "2fa82fe7",
   "metadata": {},
   "outputs": [
    {
     "name": "stdout",
     "output_type": "stream",
     "text": [
      "R Score for Train set:  0.8639780835881753\n",
      "R Score for Test  set:  0.7935779816513762\n"
     ]
    }
   ],
   "source": [
    "print('R Score for Train set: ',model5.score(x_train,y_train))\n",
    "print('R Score for Test  set: ',model5.score(x_test,y_test))"
   ]
  },
  {
   "cell_type": "code",
   "execution_count": 63,
   "id": "a4f2727f",
   "metadata": {},
   "outputs": [
    {
     "name": "stdout",
     "output_type": "stream",
     "text": [
      "Precission Score:  0.7702768495426487\n",
      "Recall Score:  0.7941461999425717\n"
     ]
    }
   ],
   "source": [
    "print('Precission Score: ', precision_score(y_test,y_pred5,average='macro'))\n",
    "print('Recall Score: ',recall_score(y_test,y_pred5,average='macro'))"
   ]
  },
  {
   "cell_type": "code",
   "execution_count": 64,
   "id": "a366b978",
   "metadata": {},
   "outputs": [
    {
     "name": "stdout",
     "output_type": "stream",
     "text": [
      "Confusion Matrix\n",
      "[[ 56  23   4  19  17   0  32   0  15   3  19   1   5   9   5  11   2   7]\n",
      " [  8 152   4   2   1   2   7   1   3   2   2   1   1   0   8   3   2   1]\n",
      " [  1   1 202   2   0   2   2   0   5   0   0   0   1   0   0   1   0   0]\n",
      " [ 18  12   4  54   7   7  27   6   8   2  24   2   9  10   6  13   1   7]\n",
      " [  0   3   0   3 172   1   7   1   3   1   4   1   1   4   3   0   0   3]\n",
      " [  0   2   1   1   0 235   0   0   0   0   0   0   0   1   0   0   0   0]\n",
      " [ 10   6   1  22  15   8  70   4   8   2  14  10   5  11   6  15   1   8]\n",
      " [  0   0   2   1   0   1   0 202   0   0   1   0   0   0   0   0   0   0]\n",
      " [  3   1   3   0   2   1   0   3 186   0   0   1   1   0   5   0   1   1]\n",
      " [  0   0   0   0   0   0   5   0   1 199   0   1   0   0   0   0   1   0]\n",
      " [  4   3   3  12   3   0   6   4   4   0 162   2   2   1   2   8   2   4]\n",
      " [  2   0   2   0   0   0   1   2   0   0   0 224   0   0   0   0   0   0]\n",
      " [  1   0   6   2   0   0   0   0   0   0   2   0 218   0   1   0   0   0]\n",
      " [  5   2   0   4   2   0   4   0   4   2   4   0   2 198   0   4   0   0]\n",
      " [  4   5   1   1   1   0   3   0   1   0   3   4   0   1 190   0   2   1]\n",
      " [  5   0   1   2   6   2   6   0   1   0   5   2   1   2   3 184   0   3]\n",
      " [  0   0   0   5   0   0   1   0   0   0   0   0   0   0   0   0 196   0]\n",
      " [  0   0   0   0   1   0   5   0   0   0   0   1   0   0   0   0   0 214]]\n",
      "\n",
      "Classification report\n",
      "              precision    recall  f1-score   support\n",
      "\n",
      "           0       0.48      0.25      0.32       228\n",
      "           1       0.72      0.76      0.74       200\n",
      "           2       0.86      0.93      0.90       217\n",
      "           3       0.42      0.25      0.31       217\n",
      "           4       0.76      0.83      0.79       207\n",
      "           5       0.91      0.98      0.94       240\n",
      "           6       0.40      0.32      0.36       216\n",
      "           7       0.91      0.98      0.94       207\n",
      "           8       0.78      0.89      0.83       208\n",
      "           9       0.94      0.96      0.95       207\n",
      "          10       0.68      0.73      0.70       222\n",
      "          11       0.90      0.97      0.93       231\n",
      "          12       0.89      0.95      0.92       230\n",
      "          13       0.84      0.86      0.85       231\n",
      "          14       0.83      0.88      0.85       217\n",
      "          15       0.77      0.83      0.80       223\n",
      "          16       0.94      0.97      0.96       202\n",
      "          17       0.86      0.97      0.91       221\n",
      "\n",
      "    accuracy                           0.79      3924\n",
      "   macro avg       0.77      0.79      0.78      3924\n",
      "weighted avg       0.77      0.79      0.78      3924\n",
      "\n",
      "\n"
     ]
    }
   ],
   "source": [
    "print('Confusion Matrix')\n",
    "print(confusion_matrix(y_test,y_pred5))\n",
    "print('')\n",
    "print('Classification report')\n",
    "print(classification_report(y_test,y_pred5))\n",
    "print('')"
   ]
  },
  {
   "cell_type": "markdown",
   "id": "c77d0e41",
   "metadata": {},
   "source": [
    "### Boosting"
   ]
  },
  {
   "cell_type": "code",
   "execution_count": 65,
   "id": "6ee13535",
   "metadata": {},
   "outputs": [],
   "source": [
    "from sklearn.ensemble import AdaBoostClassifier"
   ]
  },
  {
   "cell_type": "code",
   "execution_count": 66,
   "id": "1ff885f0",
   "metadata": {},
   "outputs": [],
   "source": [
    "# ada=AdaBoostClassifier()"
   ]
  },
  {
   "cell_type": "code",
   "execution_count": 67,
   "id": "e97bbaf6",
   "metadata": {},
   "outputs": [],
   "source": [
    "# param_grid={'n_estimators':[10,20,40,50,70,100,150,200],\n",
    "#            'learning_rate':[0.001,0.01,0.1,1]}"
   ]
  },
  {
   "cell_type": "code",
   "execution_count": 68,
   "id": "77abd1ef",
   "metadata": {},
   "outputs": [],
   "source": [
    "kf=KFold(n_splits=5)"
   ]
  },
  {
   "cell_type": "code",
   "execution_count": 69,
   "id": "c056e254",
   "metadata": {},
   "outputs": [],
   "source": [
    "# grid_cv=GridSearchCV(ada,param_grid,cv=kf)"
   ]
  },
  {
   "cell_type": "code",
   "execution_count": 70,
   "id": "4d0c5442",
   "metadata": {},
   "outputs": [],
   "source": [
    "# grid_cv.fit(x_train,y_train)"
   ]
  },
  {
   "cell_type": "code",
   "execution_count": 71,
   "id": "64681464",
   "metadata": {},
   "outputs": [],
   "source": [
    "# grid_cv.best_score_"
   ]
  },
  {
   "cell_type": "code",
   "execution_count": 72,
   "id": "54f43a95",
   "metadata": {},
   "outputs": [],
   "source": [
    "# grid_cv.best_estimator_"
   ]
  },
  {
   "cell_type": "code",
   "execution_count": 73,
   "id": "a70f30d2",
   "metadata": {},
   "outputs": [],
   "source": [
    "model6=AdaBoostClassifier(learning_rate=0.1, n_estimators=200).fit(x_train,y_train)\n",
    "y_pred6=model6.predict(x_test)"
   ]
  },
  {
   "cell_type": "code",
   "execution_count": 74,
   "id": "dcd01577",
   "metadata": {},
   "outputs": [
    {
     "name": "stdout",
     "output_type": "stream",
     "text": [
      "R Score for Train set:  0.25828236493374107\n",
      "R Score for Test  set:  0.2492354740061162\n"
     ]
    }
   ],
   "source": [
    "print('R Score for Train set: ',model6.score(x_train,y_train))\n",
    "print('R Score for Test  set: ',model6.score(x_test,y_test))"
   ]
  },
  {
   "cell_type": "code",
   "execution_count": 75,
   "id": "9ace3a13",
   "metadata": {},
   "outputs": [
    {
     "name": "stdout",
     "output_type": "stream",
     "text": [
      "Precission Score:  0.25750702203208026\n",
      "Recall Score:  0.2480357692267858\n"
     ]
    }
   ],
   "source": [
    "print('Precission Score: ', precision_score(y_test,y_pred6,average='macro'))\n",
    "print('Recall Score: ',recall_score(y_test,y_pred6,average='macro'))"
   ]
  },
  {
   "cell_type": "code",
   "execution_count": 76,
   "id": "31597af4",
   "metadata": {},
   "outputs": [
    {
     "name": "stdout",
     "output_type": "stream",
     "text": [
      "Confusion Matrix\n",
      "[[  8  23   2  39  31   7  11   3   3  10  12   9   9  12  20  15  10   4]\n",
      " [  7  29   8  18  20   3   7   5   2  13   5   5  10   8  34   8  11   7]\n",
      " [  5   0  41  19   0   4   0  23   3   2  16   1  42   0  60   1   0   0]\n",
      " [  2   1   1  42  22   9  12   9   0   2  43  14  19  18  11   7   2   3]\n",
      " [  1   0   0  10  55   7  14   2   2  10  15  12   7  20   4  17  21  10]\n",
      " [  0   0   2  12   2 137  20   8   0   1   9  34   7   6   0   0   2   0]\n",
      " [  3   3   1  18  30  15  48   1   1  17  14  18   3  11   1   8  19   5]\n",
      " [  0   3  27  30   8   7   4  21   8   2  16   5  32   9  29   1   0   5]\n",
      " [  7   7   9  12  23   4   1   4  10   9  18  13  14  14  44   4  15   0]\n",
      " [  0  10   0   0  23   8  16   0   1  70   0   3   0   0   0   0  64  12]\n",
      " [  3   1   3  30  17   2   4   7   2   2 105   4  11   4  12   5   6   4]\n",
      " [  0   0   0  21  25   3  21   0   0   5   6  92  21   8  11   0   5  13]\n",
      " [  1   2   0  37  30  15   3  19   2   0  35   6  44  12   9   5   5   5]\n",
      " [  1   0   0  54  31   5  15   3   1   7  11  16  17  39  10  11   8   2]\n",
      " [ 15  15   2  15  30   3   2   4   4  11  19  11  12  10  45   7   2  10]\n",
      " [  5   5   1  12  40   6   3   8   4   8  45   9  10  14  18  21  13   1]\n",
      " [  0  10   0   0  29   0   8   0   0  10   4  11   2   4   0   5 115   4]\n",
      " [  0   2   4   1  14   2   7   2   0  28   9  48  10   5  16   0  17  56]]\n",
      "\n",
      "Classification report\n",
      "              precision    recall  f1-score   support\n",
      "\n",
      "           0       0.14      0.04      0.06       228\n",
      "           1       0.26      0.14      0.19       200\n",
      "           2       0.41      0.19      0.26       217\n",
      "           3       0.11      0.19      0.14       217\n",
      "           4       0.13      0.27      0.17       207\n",
      "           5       0.58      0.57      0.57       240\n",
      "           6       0.24      0.22      0.23       216\n",
      "           7       0.18      0.10      0.13       207\n",
      "           8       0.23      0.05      0.08       208\n",
      "           9       0.34      0.34      0.34       207\n",
      "          10       0.27      0.47      0.35       222\n",
      "          11       0.30      0.40      0.34       231\n",
      "          12       0.16      0.19      0.18       230\n",
      "          13       0.20      0.17      0.18       231\n",
      "          14       0.14      0.21      0.17       217\n",
      "          15       0.18      0.09      0.12       223\n",
      "          16       0.37      0.57      0.44       202\n",
      "          17       0.40      0.25      0.31       221\n",
      "\n",
      "    accuracy                           0.25      3924\n",
      "   macro avg       0.26      0.25      0.24      3924\n",
      "weighted avg       0.26      0.25      0.24      3924\n",
      "\n",
      "\n"
     ]
    }
   ],
   "source": [
    "print('Confusion Matrix')\n",
    "print(confusion_matrix(y_test,y_pred6))\n",
    "print('')\n",
    "print('Classification report')\n",
    "print(classification_report(y_test,y_pred6))\n",
    "print('')"
   ]
  },
  {
   "cell_type": "markdown",
   "id": "0bd4d9dd",
   "metadata": {},
   "source": [
    "### KNN"
   ]
  },
  {
   "cell_type": "code",
   "execution_count": 77,
   "id": "b5013de6",
   "metadata": {},
   "outputs": [
    {
     "name": "stdout",
     "output_type": "stream",
     "text": [
      "2 :  0.8466870540265035\n",
      "3 :  0.8290519877675842\n",
      "4 :  0.8146279306829765\n",
      "5 :  0.798369011213048\n",
      "6 :  0.7846075433231398\n",
      "7 :  0.7731396534148828\n",
      "8 :  0.7593781855249746\n",
      "9 :  0.7473496432212029\n",
      "10 :  0.735677879714577\n",
      "11 :  0.7262487257900101\n",
      "12 :  0.7178389398572884\n",
      "13 :  0.7093781855249746\n",
      "14 :  0.6999490316004078\n",
      "15 :  0.6933741080530071\n",
      "16 :  0.6856269113149847\n",
      "17 :  0.6793068297655454\n",
      "18 :  0.6704892966360857\n",
      "19 :  0.6626911314984709\n",
      "20 :  0.6578491335372069\n",
      "21 :  0.6514271151885831\n",
      "22 :  0.6455147808358818\n",
      "23 :  0.6388888888888888\n",
      "24 :  0.6331294597349644\n",
      "25 :  0.6282364933741081\n",
      "26 :  0.6249745158002039\n",
      "27 :  0.6200305810397554\n",
      "28 :  0.6149847094801224\n",
      "29 :  0.6103465851172274\n"
     ]
    }
   ],
   "source": [
    "score1=[]\n",
    "for i in range(2,30):\n",
    "    score=cross_val_score(KNeighborsClassifier(i),X,y,cv=5,scoring='accuracy')\n",
    "    print(f'{i} : ',np.mean(score))\n",
    "    score1.append(score)"
   ]
  },
  {
   "cell_type": "code",
   "execution_count": 78,
   "id": "814c18ef",
   "metadata": {},
   "outputs": [
    {
     "data": {
      "text/plain": [
       "array([12, 14, 14, ..., 10, 16, 11])"
      ]
     },
     "execution_count": 78,
     "metadata": {},
     "output_type": "execute_result"
    }
   ],
   "source": [
    "k=2\n",
    "model7=KNeighborsClassifier(k).fit(x_train,y_train)\n",
    "y_pred7=model7.predict(x_test)\n",
    "y_pred7"
   ]
  },
  {
   "cell_type": "code",
   "execution_count": 79,
   "id": "dffc45d2",
   "metadata": {},
   "outputs": [
    {
     "name": "stdout",
     "output_type": "stream",
     "text": [
      "R Score for Train set:  0.9496049949031601\n",
      "R Score for Test  set:  0.8312945973496432\n"
     ]
    }
   ],
   "source": [
    "print('R Score for Train set: ',model7.score(x_train,y_train))\n",
    "print('R Score for Test  set: ',model7.score(x_test,y_test))"
   ]
  },
  {
   "cell_type": "code",
   "execution_count": 80,
   "id": "63437b79",
   "metadata": {},
   "outputs": [
    {
     "name": "stdout",
     "output_type": "stream",
     "text": [
      "Precission Score:  0.8124877889896445\n",
      "Recall Score:  0.8314665159191966\n"
     ]
    }
   ],
   "source": [
    "print('Precission Score: ', precision_score(y_test,y_pred7,average='macro'))\n",
    "print('Recall Score: ',recall_score(y_test,y_pred7,average='macro'))"
   ]
  },
  {
   "cell_type": "code",
   "execution_count": 81,
   "id": "0656e8b1",
   "metadata": {},
   "outputs": [
    {
     "name": "stdout",
     "output_type": "stream",
     "text": [
      "Confusion Matrix\n",
      "[[135  14   3  11  10   0   6   1   9   3  12   2   4   4   4   7   0   3]\n",
      " [ 13 177   2   2   2   0   0   1   0   0   0   0   2   0   0   1   0   0]\n",
      " [  1   0 211   1   0   1   0   0   2   0   0   0   0   0   0   1   0   0]\n",
      " [ 30  23   8  71   8   8  13   4   7   3  12   3   7   8   4   3   2   3]\n",
      " [  0   2   0   5 191   1   2   0   0   0   0   1   0   2   2   0   0   1]\n",
      " [  0   1   0   0   0 239   0   0   0   0   0   0   0   0   0   0   0   0]\n",
      " [ 40  13   2  35  14  11  34   4   8   5   6   7   9   7   4  13   3   1]\n",
      " [  1   2   0   3   0   0   1 199   0   0   0   0   0   0   0   0   0   1]\n",
      " [  7   1   3   5   2   0   6   3 180   0   0   0   1   0   0   0   0   0]\n",
      " [  0   0   0   0   0   0   0   0   1 206   0   0   0   0   0   0   0   0]\n",
      " [  9   2   1  13   2   0   8   2   2   0 177   1   2   0   0   2   1   0]\n",
      " [  1   0   0   2   1   0   1   0   0   0   0 226   0   0   0   0   0   0]\n",
      " [  0   1   2   2   1   0   2   0   0   0   2   0 220   0   0   0   0   0]\n",
      " [  2   4   0   6   0   0   2   1   2   0   2   0   2 207   0   3   0   0]\n",
      " [  4   6   2   0   2   0   0   1   1   0   3   4   0   2 192   0   0   0]\n",
      " [  4   0   1   5   5   2   4   2   1   0   4   3   3   5   4 178   2   0]\n",
      " [  0   3   0   0   0   0   0   0   0   0   0   0   0   0   0   0 199   0]\n",
      " [  0   0   0   0   0   0   0   0   0   0   0   1   0   0   0   0   0 220]]\n",
      "\n",
      "Classification report\n",
      "              precision    recall  f1-score   support\n",
      "\n",
      "           0       0.55      0.59      0.57       228\n",
      "           1       0.71      0.89      0.79       200\n",
      "           2       0.90      0.97      0.93       217\n",
      "           3       0.44      0.33      0.38       217\n",
      "           4       0.80      0.92      0.86       207\n",
      "           5       0.91      1.00      0.95       240\n",
      "           6       0.43      0.16      0.23       216\n",
      "           7       0.91      0.96      0.94       207\n",
      "           8       0.85      0.87      0.86       208\n",
      "           9       0.95      1.00      0.97       207\n",
      "          10       0.81      0.80      0.80       222\n",
      "          11       0.91      0.98      0.94       231\n",
      "          12       0.88      0.96      0.92       230\n",
      "          13       0.88      0.90      0.89       231\n",
      "          14       0.91      0.88      0.90       217\n",
      "          15       0.86      0.80      0.83       223\n",
      "          16       0.96      0.99      0.97       202\n",
      "          17       0.96      1.00      0.98       221\n",
      "\n",
      "    accuracy                           0.83      3924\n",
      "   macro avg       0.81      0.83      0.82      3924\n",
      "weighted avg       0.81      0.83      0.82      3924\n",
      "\n",
      "\n"
     ]
    }
   ],
   "source": [
    "print('Confusion Matrix')\n",
    "print(confusion_matrix(y_test,y_pred7))\n",
    "print('')\n",
    "print('Classification report')\n",
    "print(classification_report(y_test,y_pred7))\n",
    "print('')"
   ]
  },
  {
   "cell_type": "code",
   "execution_count": null,
   "id": "4f748a58",
   "metadata": {},
   "outputs": [],
   "source": []
  }
 ],
 "metadata": {
  "kernelspec": {
   "display_name": "Python 3 (ipykernel)",
   "language": "python",
   "name": "python3"
  },
  "language_info": {
   "codemirror_mode": {
    "name": "ipython",
    "version": 3
   },
   "file_extension": ".py",
   "mimetype": "text/x-python",
   "name": "python",
   "nbconvert_exporter": "python",
   "pygments_lexer": "ipython3",
   "version": "3.9.7"
  }
 },
 "nbformat": 4,
 "nbformat_minor": 5
}
