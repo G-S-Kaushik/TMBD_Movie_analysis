{
 "cells": [
  {
   "cell_type": "code",
   "execution_count": 1,
   "id": "ae1693d4",
   "metadata": {},
   "outputs": [],
   "source": [
    "import pandas as pd\n",
    "import seaborn as sns\n",
    "import matplotlib.pyplot as plt\n",
    "import warnings \n",
    "warnings.filterwarnings('ignore')\n",
    "from sklearn import preprocessing\n",
    "from sklearn.preprocessing import LabelEncoder\n",
    "from sklearn.model_selection import train_test_split,KFold\n",
    "from sklearn.preprocessing import MinMaxScaler\n",
    "from sklearn.linear_model import LogisticRegression\n",
    "from sklearn.tree import DecisionTreeClassifier\n",
    "from sklearn.naive_bayes import GaussianNB\n",
    "from sklearn import tree\n",
    "from sklearn.metrics import confusion_matrix,classification_report,accuracy_score,precision_score,recall_score\n",
    "from sklearn.model_selection import cross_val_score\n",
    "import numpy as np\n",
    "from sklearn.ensemble import AdaBoostClassifier\n",
    "from sklearn.ensemble import StackingClassifier\n",
    "from sklearn.linear_model import LogisticRegression\n",
    "from sklearn.neighbors import KNeighborsClassifier\n",
    "from sklearn.svm import SVC\n",
    "from sklearn.ensemble import RandomForestClassifier\n",
    "from sklearn.model_selection import GridSearchCV\n",
    "from imblearn.over_sampling import SMOTE"
   ]
  },
  {
   "cell_type": "code",
   "execution_count": 2,
   "id": "279ea8fe",
   "metadata": {},
   "outputs": [
    {
     "data": {
      "text/html": [
       "<div>\n",
       "<style scoped>\n",
       "    .dataframe tbody tr th:only-of-type {\n",
       "        vertical-align: middle;\n",
       "    }\n",
       "\n",
       "    .dataframe tbody tr th {\n",
       "        vertical-align: top;\n",
       "    }\n",
       "\n",
       "    .dataframe thead th {\n",
       "        text-align: right;\n",
       "    }\n",
       "</style>\n",
       "<table border=\"1\" class=\"dataframe\">\n",
       "  <thead>\n",
       "    <tr style=\"text-align: right;\">\n",
       "      <th></th>\n",
       "      <th>Unnamed: 0</th>\n",
       "      <th>title_x</th>\n",
       "      <th>budget</th>\n",
       "      <th>original_language</th>\n",
       "      <th>popularity</th>\n",
       "      <th>release_date</th>\n",
       "      <th>revenue</th>\n",
       "      <th>runtime</th>\n",
       "      <th>vote_average</th>\n",
       "      <th>country</th>\n",
       "      <th>Lead_Actor</th>\n",
       "      <th>Second_Lead_Actor</th>\n",
       "      <th>Main_Production_House</th>\n",
       "      <th>Genres</th>\n",
       "      <th>Director</th>\n",
       "      <th>profit</th>\n",
       "      <th>Votes</th>\n",
       "    </tr>\n",
       "  </thead>\n",
       "  <tbody>\n",
       "    <tr>\n",
       "      <th>0</th>\n",
       "      <td>0</td>\n",
       "      <td>Avatar</td>\n",
       "      <td>237000000</td>\n",
       "      <td>en</td>\n",
       "      <td>150.437577</td>\n",
       "      <td>10-12-2009</td>\n",
       "      <td>2787965087</td>\n",
       "      <td>162.0</td>\n",
       "      <td>7.2</td>\n",
       "      <td>United States of America</td>\n",
       "      <td>Sam Worthington</td>\n",
       "      <td>Zoe Saldana</td>\n",
       "      <td>Ingenious Film Partners</td>\n",
       "      <td>Action</td>\n",
       "      <td>James Cameron</td>\n",
       "      <td>2550965087</td>\n",
       "      <td>High_vote</td>\n",
       "    </tr>\n",
       "    <tr>\n",
       "      <th>1</th>\n",
       "      <td>1</td>\n",
       "      <td>Pirates of the Caribbean: At World's End</td>\n",
       "      <td>300000000</td>\n",
       "      <td>en</td>\n",
       "      <td>139.082615</td>\n",
       "      <td>19-05-2007</td>\n",
       "      <td>961000000</td>\n",
       "      <td>169.0</td>\n",
       "      <td>6.9</td>\n",
       "      <td>United States of America</td>\n",
       "      <td>Johnny Depp</td>\n",
       "      <td>Orlando Bloom</td>\n",
       "      <td>Walt Disney Pictures</td>\n",
       "      <td>Adventure</td>\n",
       "      <td>Gore Verbinski</td>\n",
       "      <td>661000000</td>\n",
       "      <td>Avg_Vote</td>\n",
       "    </tr>\n",
       "    <tr>\n",
       "      <th>2</th>\n",
       "      <td>2</td>\n",
       "      <td>Spectre</td>\n",
       "      <td>245000000</td>\n",
       "      <td>en</td>\n",
       "      <td>107.376788</td>\n",
       "      <td>26-10-2015</td>\n",
       "      <td>880674609</td>\n",
       "      <td>148.0</td>\n",
       "      <td>6.3</td>\n",
       "      <td>United Kingdom</td>\n",
       "      <td>Daniel Craig</td>\n",
       "      <td>Christoph Waltz</td>\n",
       "      <td>Columbia Pictures</td>\n",
       "      <td>Action</td>\n",
       "      <td>Sam Mendes</td>\n",
       "      <td>635674609</td>\n",
       "      <td>Avg_Vote</td>\n",
       "    </tr>\n",
       "    <tr>\n",
       "      <th>3</th>\n",
       "      <td>3</td>\n",
       "      <td>The Dark Knight Rises</td>\n",
       "      <td>250000000</td>\n",
       "      <td>en</td>\n",
       "      <td>112.312950</td>\n",
       "      <td>16-07-2012</td>\n",
       "      <td>1084939099</td>\n",
       "      <td>165.0</td>\n",
       "      <td>7.6</td>\n",
       "      <td>United States of America</td>\n",
       "      <td>Christian Bale</td>\n",
       "      <td>Michael Caine</td>\n",
       "      <td>Legendary Pictures</td>\n",
       "      <td>Action</td>\n",
       "      <td>Christopher Nolan</td>\n",
       "      <td>834939099</td>\n",
       "      <td>High_vote</td>\n",
       "    </tr>\n",
       "    <tr>\n",
       "      <th>4</th>\n",
       "      <td>4</td>\n",
       "      <td>John Carter</td>\n",
       "      <td>260000000</td>\n",
       "      <td>en</td>\n",
       "      <td>43.926995</td>\n",
       "      <td>07-03-2012</td>\n",
       "      <td>284139100</td>\n",
       "      <td>132.0</td>\n",
       "      <td>6.1</td>\n",
       "      <td>United States of America</td>\n",
       "      <td>Taylor Kitsch</td>\n",
       "      <td>Lynn Collins</td>\n",
       "      <td>Walt Disney Pictures</td>\n",
       "      <td>Action</td>\n",
       "      <td>Andrew Stanton</td>\n",
       "      <td>24139100</td>\n",
       "      <td>Avg_Vote</td>\n",
       "    </tr>\n",
       "    <tr>\n",
       "      <th>...</th>\n",
       "      <td>...</td>\n",
       "      <td>...</td>\n",
       "      <td>...</td>\n",
       "      <td>...</td>\n",
       "      <td>...</td>\n",
       "      <td>...</td>\n",
       "      <td>...</td>\n",
       "      <td>...</td>\n",
       "      <td>...</td>\n",
       "      <td>...</td>\n",
       "      <td>...</td>\n",
       "      <td>...</td>\n",
       "      <td>...</td>\n",
       "      <td>...</td>\n",
       "      <td>...</td>\n",
       "      <td>...</td>\n",
       "      <td>...</td>\n",
       "    </tr>\n",
       "    <tr>\n",
       "      <th>4412</th>\n",
       "      <td>4795</td>\n",
       "      <td>Bang</td>\n",
       "      <td>17000000</td>\n",
       "      <td>en</td>\n",
       "      <td>0.918116</td>\n",
       "      <td>09-09-1995</td>\n",
       "      <td>25871834</td>\n",
       "      <td>98.0</td>\n",
       "      <td>6.0</td>\n",
       "      <td>United States of America</td>\n",
       "      <td>Darling Narita</td>\n",
       "      <td>Peter Greene</td>\n",
       "      <td>Asylum Films</td>\n",
       "      <td>Drama</td>\n",
       "      <td>Ash Baron-Cohen</td>\n",
       "      <td>8871834</td>\n",
       "      <td>Less_Vote</td>\n",
       "    </tr>\n",
       "    <tr>\n",
       "      <th>4413</th>\n",
       "      <td>4796</td>\n",
       "      <td>Primer</td>\n",
       "      <td>17000000</td>\n",
       "      <td>en</td>\n",
       "      <td>23.307949</td>\n",
       "      <td>08-10-2004</td>\n",
       "      <td>424760</td>\n",
       "      <td>77.0</td>\n",
       "      <td>6.9</td>\n",
       "      <td>United States of America</td>\n",
       "      <td>Shane Carruth</td>\n",
       "      <td>David Sullivan</td>\n",
       "      <td>Thinkfilm</td>\n",
       "      <td>Science Fiction</td>\n",
       "      <td>Shane Carruth</td>\n",
       "      <td>-16575240</td>\n",
       "      <td>Less_Vote</td>\n",
       "    </tr>\n",
       "    <tr>\n",
       "      <th>4414</th>\n",
       "      <td>4798</td>\n",
       "      <td>El Mariachi</td>\n",
       "      <td>17000000</td>\n",
       "      <td>es</td>\n",
       "      <td>14.269792</td>\n",
       "      <td>04-09-1992</td>\n",
       "      <td>2040920</td>\n",
       "      <td>81.0</td>\n",
       "      <td>6.6</td>\n",
       "      <td>Mexico</td>\n",
       "      <td>Carlos Gallardo</td>\n",
       "      <td>Jaime de Hoyos</td>\n",
       "      <td>Columbia Pictures</td>\n",
       "      <td>Action</td>\n",
       "      <td>Robert Rodriguez</td>\n",
       "      <td>-14959080</td>\n",
       "      <td>Less_Vote</td>\n",
       "    </tr>\n",
       "    <tr>\n",
       "      <th>4415</th>\n",
       "      <td>4800</td>\n",
       "      <td>Signed, Sealed, Delivered</td>\n",
       "      <td>17000000</td>\n",
       "      <td>en</td>\n",
       "      <td>1.444476</td>\n",
       "      <td>13-10-2013</td>\n",
       "      <td>25871834</td>\n",
       "      <td>120.0</td>\n",
       "      <td>7.0</td>\n",
       "      <td>United States of America</td>\n",
       "      <td>Eric Mabius</td>\n",
       "      <td>Kristin Booth</td>\n",
       "      <td>Front Street Pictures</td>\n",
       "      <td>Comedy</td>\n",
       "      <td>Scott Smith</td>\n",
       "      <td>8871834</td>\n",
       "      <td>Less_Vote</td>\n",
       "    </tr>\n",
       "    <tr>\n",
       "      <th>4416</th>\n",
       "      <td>4802</td>\n",
       "      <td>My Date with Drew</td>\n",
       "      <td>17000000</td>\n",
       "      <td>en</td>\n",
       "      <td>1.929883</td>\n",
       "      <td>05-08-2005</td>\n",
       "      <td>25871834</td>\n",
       "      <td>90.0</td>\n",
       "      <td>6.3</td>\n",
       "      <td>United States of America</td>\n",
       "      <td>Drew Barrymore</td>\n",
       "      <td>Brian Herzlinger</td>\n",
       "      <td>rusty bear entertainment</td>\n",
       "      <td>Documentary</td>\n",
       "      <td>Brian Herzlinger</td>\n",
       "      <td>8871834</td>\n",
       "      <td>Less_Vote</td>\n",
       "    </tr>\n",
       "  </tbody>\n",
       "</table>\n",
       "<p>4417 rows × 17 columns</p>\n",
       "</div>"
      ],
      "text/plain": [
       "      Unnamed: 0                                   title_x     budget  \\\n",
       "0              0                                    Avatar  237000000   \n",
       "1              1  Pirates of the Caribbean: At World's End  300000000   \n",
       "2              2                                   Spectre  245000000   \n",
       "3              3                     The Dark Knight Rises  250000000   \n",
       "4              4                               John Carter  260000000   \n",
       "...          ...                                       ...        ...   \n",
       "4412        4795                                      Bang   17000000   \n",
       "4413        4796                                    Primer   17000000   \n",
       "4414        4798                               El Mariachi   17000000   \n",
       "4415        4800                 Signed, Sealed, Delivered   17000000   \n",
       "4416        4802                         My Date with Drew   17000000   \n",
       "\n",
       "     original_language  popularity release_date     revenue  runtime  \\\n",
       "0                   en  150.437577   10-12-2009  2787965087    162.0   \n",
       "1                   en  139.082615   19-05-2007   961000000    169.0   \n",
       "2                   en  107.376788   26-10-2015   880674609    148.0   \n",
       "3                   en  112.312950   16-07-2012  1084939099    165.0   \n",
       "4                   en   43.926995   07-03-2012   284139100    132.0   \n",
       "...                ...         ...          ...         ...      ...   \n",
       "4412                en    0.918116   09-09-1995    25871834     98.0   \n",
       "4413                en   23.307949   08-10-2004      424760     77.0   \n",
       "4414                es   14.269792   04-09-1992     2040920     81.0   \n",
       "4415                en    1.444476   13-10-2013    25871834    120.0   \n",
       "4416                en    1.929883   05-08-2005    25871834     90.0   \n",
       "\n",
       "      vote_average                   country       Lead_Actor  \\\n",
       "0              7.2  United States of America  Sam Worthington   \n",
       "1              6.9  United States of America      Johnny Depp   \n",
       "2              6.3            United Kingdom     Daniel Craig   \n",
       "3              7.6  United States of America   Christian Bale   \n",
       "4              6.1  United States of America    Taylor Kitsch   \n",
       "...            ...                       ...              ...   \n",
       "4412           6.0  United States of America   Darling Narita   \n",
       "4413           6.9  United States of America    Shane Carruth   \n",
       "4414           6.6                    Mexico  Carlos Gallardo   \n",
       "4415           7.0  United States of America      Eric Mabius   \n",
       "4416           6.3  United States of America   Drew Barrymore   \n",
       "\n",
       "     Second_Lead_Actor     Main_Production_House           Genres  \\\n",
       "0          Zoe Saldana   Ingenious Film Partners           Action   \n",
       "1        Orlando Bloom      Walt Disney Pictures        Adventure   \n",
       "2      Christoph Waltz         Columbia Pictures           Action   \n",
       "3        Michael Caine        Legendary Pictures           Action   \n",
       "4         Lynn Collins      Walt Disney Pictures           Action   \n",
       "...                ...                       ...              ...   \n",
       "4412      Peter Greene              Asylum Films            Drama   \n",
       "4413    David Sullivan                 Thinkfilm  Science Fiction   \n",
       "4414    Jaime de Hoyos         Columbia Pictures           Action   \n",
       "4415     Kristin Booth     Front Street Pictures           Comedy   \n",
       "4416  Brian Herzlinger  rusty bear entertainment      Documentary   \n",
       "\n",
       "               Director      profit      Votes  \n",
       "0         James Cameron  2550965087  High_vote  \n",
       "1        Gore Verbinski   661000000   Avg_Vote  \n",
       "2            Sam Mendes   635674609   Avg_Vote  \n",
       "3     Christopher Nolan   834939099  High_vote  \n",
       "4        Andrew Stanton    24139100   Avg_Vote  \n",
       "...                 ...         ...        ...  \n",
       "4412    Ash Baron-Cohen     8871834  Less_Vote  \n",
       "4413      Shane Carruth   -16575240  Less_Vote  \n",
       "4414   Robert Rodriguez   -14959080  Less_Vote  \n",
       "4415        Scott Smith     8871834  Less_Vote  \n",
       "4416   Brian Herzlinger     8871834  Less_Vote  \n",
       "\n",
       "[4417 rows x 17 columns]"
      ]
     },
     "execution_count": 2,
     "metadata": {},
     "output_type": "execute_result"
    }
   ],
   "source": [
    "movie_df=pd.read_csv('Cleaned_movie.csv')\n",
    "movie_df"
   ]
  },
  {
   "cell_type": "code",
   "execution_count": 3,
   "id": "c92ea286",
   "metadata": {},
   "outputs": [
    {
     "data": {
      "text/html": [
       "<div>\n",
       "<style scoped>\n",
       "    .dataframe tbody tr th:only-of-type {\n",
       "        vertical-align: middle;\n",
       "    }\n",
       "\n",
       "    .dataframe tbody tr th {\n",
       "        vertical-align: top;\n",
       "    }\n",
       "\n",
       "    .dataframe thead th {\n",
       "        text-align: right;\n",
       "    }\n",
       "</style>\n",
       "<table border=\"1\" class=\"dataframe\">\n",
       "  <thead>\n",
       "    <tr style=\"text-align: right;\">\n",
       "      <th></th>\n",
       "      <th>title_x</th>\n",
       "      <th>budget</th>\n",
       "      <th>original_language</th>\n",
       "      <th>popularity</th>\n",
       "      <th>release_date</th>\n",
       "      <th>revenue</th>\n",
       "      <th>runtime</th>\n",
       "      <th>vote_average</th>\n",
       "      <th>country</th>\n",
       "      <th>Lead_Actor</th>\n",
       "      <th>Second_Lead_Actor</th>\n",
       "      <th>Main_Production_House</th>\n",
       "      <th>Genres</th>\n",
       "      <th>Director</th>\n",
       "      <th>profit</th>\n",
       "      <th>Votes</th>\n",
       "    </tr>\n",
       "  </thead>\n",
       "  <tbody>\n",
       "    <tr>\n",
       "      <th>0</th>\n",
       "      <td>Avatar</td>\n",
       "      <td>237000000</td>\n",
       "      <td>en</td>\n",
       "      <td>150.437577</td>\n",
       "      <td>10-12-2009</td>\n",
       "      <td>2787965087</td>\n",
       "      <td>162.0</td>\n",
       "      <td>7.2</td>\n",
       "      <td>United States of America</td>\n",
       "      <td>Sam Worthington</td>\n",
       "      <td>Zoe Saldana</td>\n",
       "      <td>Ingenious Film Partners</td>\n",
       "      <td>Action</td>\n",
       "      <td>James Cameron</td>\n",
       "      <td>2550965087</td>\n",
       "      <td>High_vote</td>\n",
       "    </tr>\n",
       "    <tr>\n",
       "      <th>1</th>\n",
       "      <td>Pirates of the Caribbean: At World's End</td>\n",
       "      <td>300000000</td>\n",
       "      <td>en</td>\n",
       "      <td>139.082615</td>\n",
       "      <td>19-05-2007</td>\n",
       "      <td>961000000</td>\n",
       "      <td>169.0</td>\n",
       "      <td>6.9</td>\n",
       "      <td>United States of America</td>\n",
       "      <td>Johnny Depp</td>\n",
       "      <td>Orlando Bloom</td>\n",
       "      <td>Walt Disney Pictures</td>\n",
       "      <td>Adventure</td>\n",
       "      <td>Gore Verbinski</td>\n",
       "      <td>661000000</td>\n",
       "      <td>Avg_Vote</td>\n",
       "    </tr>\n",
       "    <tr>\n",
       "      <th>2</th>\n",
       "      <td>Spectre</td>\n",
       "      <td>245000000</td>\n",
       "      <td>en</td>\n",
       "      <td>107.376788</td>\n",
       "      <td>26-10-2015</td>\n",
       "      <td>880674609</td>\n",
       "      <td>148.0</td>\n",
       "      <td>6.3</td>\n",
       "      <td>United Kingdom</td>\n",
       "      <td>Daniel Craig</td>\n",
       "      <td>Christoph Waltz</td>\n",
       "      <td>Columbia Pictures</td>\n",
       "      <td>Action</td>\n",
       "      <td>Sam Mendes</td>\n",
       "      <td>635674609</td>\n",
       "      <td>Avg_Vote</td>\n",
       "    </tr>\n",
       "    <tr>\n",
       "      <th>3</th>\n",
       "      <td>The Dark Knight Rises</td>\n",
       "      <td>250000000</td>\n",
       "      <td>en</td>\n",
       "      <td>112.312950</td>\n",
       "      <td>16-07-2012</td>\n",
       "      <td>1084939099</td>\n",
       "      <td>165.0</td>\n",
       "      <td>7.6</td>\n",
       "      <td>United States of America</td>\n",
       "      <td>Christian Bale</td>\n",
       "      <td>Michael Caine</td>\n",
       "      <td>Legendary Pictures</td>\n",
       "      <td>Action</td>\n",
       "      <td>Christopher Nolan</td>\n",
       "      <td>834939099</td>\n",
       "      <td>High_vote</td>\n",
       "    </tr>\n",
       "    <tr>\n",
       "      <th>4</th>\n",
       "      <td>John Carter</td>\n",
       "      <td>260000000</td>\n",
       "      <td>en</td>\n",
       "      <td>43.926995</td>\n",
       "      <td>07-03-2012</td>\n",
       "      <td>284139100</td>\n",
       "      <td>132.0</td>\n",
       "      <td>6.1</td>\n",
       "      <td>United States of America</td>\n",
       "      <td>Taylor Kitsch</td>\n",
       "      <td>Lynn Collins</td>\n",
       "      <td>Walt Disney Pictures</td>\n",
       "      <td>Action</td>\n",
       "      <td>Andrew Stanton</td>\n",
       "      <td>24139100</td>\n",
       "      <td>Avg_Vote</td>\n",
       "    </tr>\n",
       "    <tr>\n",
       "      <th>...</th>\n",
       "      <td>...</td>\n",
       "      <td>...</td>\n",
       "      <td>...</td>\n",
       "      <td>...</td>\n",
       "      <td>...</td>\n",
       "      <td>...</td>\n",
       "      <td>...</td>\n",
       "      <td>...</td>\n",
       "      <td>...</td>\n",
       "      <td>...</td>\n",
       "      <td>...</td>\n",
       "      <td>...</td>\n",
       "      <td>...</td>\n",
       "      <td>...</td>\n",
       "      <td>...</td>\n",
       "      <td>...</td>\n",
       "    </tr>\n",
       "    <tr>\n",
       "      <th>4412</th>\n",
       "      <td>Bang</td>\n",
       "      <td>17000000</td>\n",
       "      <td>en</td>\n",
       "      <td>0.918116</td>\n",
       "      <td>09-09-1995</td>\n",
       "      <td>25871834</td>\n",
       "      <td>98.0</td>\n",
       "      <td>6.0</td>\n",
       "      <td>United States of America</td>\n",
       "      <td>Darling Narita</td>\n",
       "      <td>Peter Greene</td>\n",
       "      <td>Asylum Films</td>\n",
       "      <td>Drama</td>\n",
       "      <td>Ash Baron-Cohen</td>\n",
       "      <td>8871834</td>\n",
       "      <td>Less_Vote</td>\n",
       "    </tr>\n",
       "    <tr>\n",
       "      <th>4413</th>\n",
       "      <td>Primer</td>\n",
       "      <td>17000000</td>\n",
       "      <td>en</td>\n",
       "      <td>23.307949</td>\n",
       "      <td>08-10-2004</td>\n",
       "      <td>424760</td>\n",
       "      <td>77.0</td>\n",
       "      <td>6.9</td>\n",
       "      <td>United States of America</td>\n",
       "      <td>Shane Carruth</td>\n",
       "      <td>David Sullivan</td>\n",
       "      <td>Thinkfilm</td>\n",
       "      <td>Science Fiction</td>\n",
       "      <td>Shane Carruth</td>\n",
       "      <td>-16575240</td>\n",
       "      <td>Less_Vote</td>\n",
       "    </tr>\n",
       "    <tr>\n",
       "      <th>4414</th>\n",
       "      <td>El Mariachi</td>\n",
       "      <td>17000000</td>\n",
       "      <td>es</td>\n",
       "      <td>14.269792</td>\n",
       "      <td>04-09-1992</td>\n",
       "      <td>2040920</td>\n",
       "      <td>81.0</td>\n",
       "      <td>6.6</td>\n",
       "      <td>Mexico</td>\n",
       "      <td>Carlos Gallardo</td>\n",
       "      <td>Jaime de Hoyos</td>\n",
       "      <td>Columbia Pictures</td>\n",
       "      <td>Action</td>\n",
       "      <td>Robert Rodriguez</td>\n",
       "      <td>-14959080</td>\n",
       "      <td>Less_Vote</td>\n",
       "    </tr>\n",
       "    <tr>\n",
       "      <th>4415</th>\n",
       "      <td>Signed, Sealed, Delivered</td>\n",
       "      <td>17000000</td>\n",
       "      <td>en</td>\n",
       "      <td>1.444476</td>\n",
       "      <td>13-10-2013</td>\n",
       "      <td>25871834</td>\n",
       "      <td>120.0</td>\n",
       "      <td>7.0</td>\n",
       "      <td>United States of America</td>\n",
       "      <td>Eric Mabius</td>\n",
       "      <td>Kristin Booth</td>\n",
       "      <td>Front Street Pictures</td>\n",
       "      <td>Comedy</td>\n",
       "      <td>Scott Smith</td>\n",
       "      <td>8871834</td>\n",
       "      <td>Less_Vote</td>\n",
       "    </tr>\n",
       "    <tr>\n",
       "      <th>4416</th>\n",
       "      <td>My Date with Drew</td>\n",
       "      <td>17000000</td>\n",
       "      <td>en</td>\n",
       "      <td>1.929883</td>\n",
       "      <td>05-08-2005</td>\n",
       "      <td>25871834</td>\n",
       "      <td>90.0</td>\n",
       "      <td>6.3</td>\n",
       "      <td>United States of America</td>\n",
       "      <td>Drew Barrymore</td>\n",
       "      <td>Brian Herzlinger</td>\n",
       "      <td>rusty bear entertainment</td>\n",
       "      <td>Documentary</td>\n",
       "      <td>Brian Herzlinger</td>\n",
       "      <td>8871834</td>\n",
       "      <td>Less_Vote</td>\n",
       "    </tr>\n",
       "  </tbody>\n",
       "</table>\n",
       "<p>4417 rows × 16 columns</p>\n",
       "</div>"
      ],
      "text/plain": [
       "                                       title_x     budget original_language  \\\n",
       "0                                       Avatar  237000000                en   \n",
       "1     Pirates of the Caribbean: At World's End  300000000                en   \n",
       "2                                      Spectre  245000000                en   \n",
       "3                        The Dark Knight Rises  250000000                en   \n",
       "4                                  John Carter  260000000                en   \n",
       "...                                        ...        ...               ...   \n",
       "4412                                      Bang   17000000                en   \n",
       "4413                                    Primer   17000000                en   \n",
       "4414                               El Mariachi   17000000                es   \n",
       "4415                 Signed, Sealed, Delivered   17000000                en   \n",
       "4416                         My Date with Drew   17000000                en   \n",
       "\n",
       "      popularity release_date     revenue  runtime  vote_average  \\\n",
       "0     150.437577   10-12-2009  2787965087    162.0           7.2   \n",
       "1     139.082615   19-05-2007   961000000    169.0           6.9   \n",
       "2     107.376788   26-10-2015   880674609    148.0           6.3   \n",
       "3     112.312950   16-07-2012  1084939099    165.0           7.6   \n",
       "4      43.926995   07-03-2012   284139100    132.0           6.1   \n",
       "...          ...          ...         ...      ...           ...   \n",
       "4412    0.918116   09-09-1995    25871834     98.0           6.0   \n",
       "4413   23.307949   08-10-2004      424760     77.0           6.9   \n",
       "4414   14.269792   04-09-1992     2040920     81.0           6.6   \n",
       "4415    1.444476   13-10-2013    25871834    120.0           7.0   \n",
       "4416    1.929883   05-08-2005    25871834     90.0           6.3   \n",
       "\n",
       "                       country       Lead_Actor Second_Lead_Actor  \\\n",
       "0     United States of America  Sam Worthington       Zoe Saldana   \n",
       "1     United States of America      Johnny Depp     Orlando Bloom   \n",
       "2               United Kingdom     Daniel Craig   Christoph Waltz   \n",
       "3     United States of America   Christian Bale     Michael Caine   \n",
       "4     United States of America    Taylor Kitsch      Lynn Collins   \n",
       "...                        ...              ...               ...   \n",
       "4412  United States of America   Darling Narita      Peter Greene   \n",
       "4413  United States of America    Shane Carruth    David Sullivan   \n",
       "4414                    Mexico  Carlos Gallardo    Jaime de Hoyos   \n",
       "4415  United States of America      Eric Mabius     Kristin Booth   \n",
       "4416  United States of America   Drew Barrymore  Brian Herzlinger   \n",
       "\n",
       "         Main_Production_House           Genres           Director  \\\n",
       "0      Ingenious Film Partners           Action      James Cameron   \n",
       "1         Walt Disney Pictures        Adventure     Gore Verbinski   \n",
       "2            Columbia Pictures           Action         Sam Mendes   \n",
       "3           Legendary Pictures           Action  Christopher Nolan   \n",
       "4         Walt Disney Pictures           Action     Andrew Stanton   \n",
       "...                        ...              ...                ...   \n",
       "4412              Asylum Films            Drama    Ash Baron-Cohen   \n",
       "4413                 Thinkfilm  Science Fiction      Shane Carruth   \n",
       "4414         Columbia Pictures           Action   Robert Rodriguez   \n",
       "4415     Front Street Pictures           Comedy        Scott Smith   \n",
       "4416  rusty bear entertainment      Documentary   Brian Herzlinger   \n",
       "\n",
       "          profit      Votes  \n",
       "0     2550965087  High_vote  \n",
       "1      661000000   Avg_Vote  \n",
       "2      635674609   Avg_Vote  \n",
       "3      834939099  High_vote  \n",
       "4       24139100   Avg_Vote  \n",
       "...          ...        ...  \n",
       "4412     8871834  Less_Vote  \n",
       "4413   -16575240  Less_Vote  \n",
       "4414   -14959080  Less_Vote  \n",
       "4415     8871834  Less_Vote  \n",
       "4416     8871834  Less_Vote  \n",
       "\n",
       "[4417 rows x 16 columns]"
      ]
     },
     "execution_count": 3,
     "metadata": {},
     "output_type": "execute_result"
    }
   ],
   "source": [
    "# Dropping un wanted columns.\n",
    "movie_df.drop('Unnamed: 0',axis=1,inplace=True)\n",
    "movie_df"
   ]
  },
  {
   "cell_type": "code",
   "execution_count": 4,
   "id": "f55a589d",
   "metadata": {},
   "outputs": [
    {
     "data": {
      "text/plain": [
       "6.182363595200358"
      ]
     },
     "execution_count": 4,
     "metadata": {},
     "output_type": "execute_result"
    }
   ],
   "source": [
    "#Calculating Average value to use in for loop while creating new column based on condition.\n",
    "mean_av=movie_df.vote_average.mean()\n",
    "mean_av"
   ]
  },
  {
   "cell_type": "code",
   "execution_count": 5,
   "id": "12ee35b1",
   "metadata": {},
   "outputs": [],
   "source": [
    "# Creating Column Rating For classification problem.\n",
    "rating=[]\n",
    "for i in movie_df.vote_average:\n",
    "    if i > mean_av:\n",
    "        rating.append('Good')\n",
    "    elif i >= mean_av/2 and i <=mean_av:\n",
    "        rating.append('Average')\n",
    "    elif i < mean_av/2:\n",
    "        rating.append('Poor')\n",
    "movie_df['Rating']=rating"
   ]
  },
  {
   "cell_type": "code",
   "execution_count": 6,
   "id": "bb2e65db",
   "metadata": {},
   "outputs": [
    {
     "data": {
      "text/html": [
       "<div>\n",
       "<style scoped>\n",
       "    .dataframe tbody tr th:only-of-type {\n",
       "        vertical-align: middle;\n",
       "    }\n",
       "\n",
       "    .dataframe tbody tr th {\n",
       "        vertical-align: top;\n",
       "    }\n",
       "\n",
       "    .dataframe thead th {\n",
       "        text-align: right;\n",
       "    }\n",
       "</style>\n",
       "<table border=\"1\" class=\"dataframe\">\n",
       "  <thead>\n",
       "    <tr style=\"text-align: right;\">\n",
       "      <th></th>\n",
       "      <th>title_x</th>\n",
       "      <th>budget</th>\n",
       "      <th>original_language</th>\n",
       "      <th>popularity</th>\n",
       "      <th>release_date</th>\n",
       "      <th>revenue</th>\n",
       "      <th>runtime</th>\n",
       "      <th>vote_average</th>\n",
       "      <th>country</th>\n",
       "      <th>Lead_Actor</th>\n",
       "      <th>Second_Lead_Actor</th>\n",
       "      <th>Main_Production_House</th>\n",
       "      <th>Genres</th>\n",
       "      <th>Director</th>\n",
       "      <th>profit</th>\n",
       "      <th>Votes</th>\n",
       "      <th>Rating</th>\n",
       "    </tr>\n",
       "  </thead>\n",
       "  <tbody>\n",
       "    <tr>\n",
       "      <th>0</th>\n",
       "      <td>Avatar</td>\n",
       "      <td>237000000</td>\n",
       "      <td>en</td>\n",
       "      <td>150.437577</td>\n",
       "      <td>10-12-2009</td>\n",
       "      <td>2787965087</td>\n",
       "      <td>162.0</td>\n",
       "      <td>7.2</td>\n",
       "      <td>United States of America</td>\n",
       "      <td>Sam Worthington</td>\n",
       "      <td>Zoe Saldana</td>\n",
       "      <td>Ingenious Film Partners</td>\n",
       "      <td>Action</td>\n",
       "      <td>James Cameron</td>\n",
       "      <td>2550965087</td>\n",
       "      <td>High_vote</td>\n",
       "      <td>Good</td>\n",
       "    </tr>\n",
       "    <tr>\n",
       "      <th>1</th>\n",
       "      <td>Pirates of the Caribbean: At World's End</td>\n",
       "      <td>300000000</td>\n",
       "      <td>en</td>\n",
       "      <td>139.082615</td>\n",
       "      <td>19-05-2007</td>\n",
       "      <td>961000000</td>\n",
       "      <td>169.0</td>\n",
       "      <td>6.9</td>\n",
       "      <td>United States of America</td>\n",
       "      <td>Johnny Depp</td>\n",
       "      <td>Orlando Bloom</td>\n",
       "      <td>Walt Disney Pictures</td>\n",
       "      <td>Adventure</td>\n",
       "      <td>Gore Verbinski</td>\n",
       "      <td>661000000</td>\n",
       "      <td>Avg_Vote</td>\n",
       "      <td>Good</td>\n",
       "    </tr>\n",
       "    <tr>\n",
       "      <th>2</th>\n",
       "      <td>Spectre</td>\n",
       "      <td>245000000</td>\n",
       "      <td>en</td>\n",
       "      <td>107.376788</td>\n",
       "      <td>26-10-2015</td>\n",
       "      <td>880674609</td>\n",
       "      <td>148.0</td>\n",
       "      <td>6.3</td>\n",
       "      <td>United Kingdom</td>\n",
       "      <td>Daniel Craig</td>\n",
       "      <td>Christoph Waltz</td>\n",
       "      <td>Columbia Pictures</td>\n",
       "      <td>Action</td>\n",
       "      <td>Sam Mendes</td>\n",
       "      <td>635674609</td>\n",
       "      <td>Avg_Vote</td>\n",
       "      <td>Good</td>\n",
       "    </tr>\n",
       "    <tr>\n",
       "      <th>3</th>\n",
       "      <td>The Dark Knight Rises</td>\n",
       "      <td>250000000</td>\n",
       "      <td>en</td>\n",
       "      <td>112.312950</td>\n",
       "      <td>16-07-2012</td>\n",
       "      <td>1084939099</td>\n",
       "      <td>165.0</td>\n",
       "      <td>7.6</td>\n",
       "      <td>United States of America</td>\n",
       "      <td>Christian Bale</td>\n",
       "      <td>Michael Caine</td>\n",
       "      <td>Legendary Pictures</td>\n",
       "      <td>Action</td>\n",
       "      <td>Christopher Nolan</td>\n",
       "      <td>834939099</td>\n",
       "      <td>High_vote</td>\n",
       "      <td>Good</td>\n",
       "    </tr>\n",
       "    <tr>\n",
       "      <th>4</th>\n",
       "      <td>John Carter</td>\n",
       "      <td>260000000</td>\n",
       "      <td>en</td>\n",
       "      <td>43.926995</td>\n",
       "      <td>07-03-2012</td>\n",
       "      <td>284139100</td>\n",
       "      <td>132.0</td>\n",
       "      <td>6.1</td>\n",
       "      <td>United States of America</td>\n",
       "      <td>Taylor Kitsch</td>\n",
       "      <td>Lynn Collins</td>\n",
       "      <td>Walt Disney Pictures</td>\n",
       "      <td>Action</td>\n",
       "      <td>Andrew Stanton</td>\n",
       "      <td>24139100</td>\n",
       "      <td>Avg_Vote</td>\n",
       "      <td>Average</td>\n",
       "    </tr>\n",
       "    <tr>\n",
       "      <th>...</th>\n",
       "      <td>...</td>\n",
       "      <td>...</td>\n",
       "      <td>...</td>\n",
       "      <td>...</td>\n",
       "      <td>...</td>\n",
       "      <td>...</td>\n",
       "      <td>...</td>\n",
       "      <td>...</td>\n",
       "      <td>...</td>\n",
       "      <td>...</td>\n",
       "      <td>...</td>\n",
       "      <td>...</td>\n",
       "      <td>...</td>\n",
       "      <td>...</td>\n",
       "      <td>...</td>\n",
       "      <td>...</td>\n",
       "      <td>...</td>\n",
       "    </tr>\n",
       "    <tr>\n",
       "      <th>4412</th>\n",
       "      <td>Bang</td>\n",
       "      <td>17000000</td>\n",
       "      <td>en</td>\n",
       "      <td>0.918116</td>\n",
       "      <td>09-09-1995</td>\n",
       "      <td>25871834</td>\n",
       "      <td>98.0</td>\n",
       "      <td>6.0</td>\n",
       "      <td>United States of America</td>\n",
       "      <td>Darling Narita</td>\n",
       "      <td>Peter Greene</td>\n",
       "      <td>Asylum Films</td>\n",
       "      <td>Drama</td>\n",
       "      <td>Ash Baron-Cohen</td>\n",
       "      <td>8871834</td>\n",
       "      <td>Less_Vote</td>\n",
       "      <td>Average</td>\n",
       "    </tr>\n",
       "    <tr>\n",
       "      <th>4413</th>\n",
       "      <td>Primer</td>\n",
       "      <td>17000000</td>\n",
       "      <td>en</td>\n",
       "      <td>23.307949</td>\n",
       "      <td>08-10-2004</td>\n",
       "      <td>424760</td>\n",
       "      <td>77.0</td>\n",
       "      <td>6.9</td>\n",
       "      <td>United States of America</td>\n",
       "      <td>Shane Carruth</td>\n",
       "      <td>David Sullivan</td>\n",
       "      <td>Thinkfilm</td>\n",
       "      <td>Science Fiction</td>\n",
       "      <td>Shane Carruth</td>\n",
       "      <td>-16575240</td>\n",
       "      <td>Less_Vote</td>\n",
       "      <td>Good</td>\n",
       "    </tr>\n",
       "    <tr>\n",
       "      <th>4414</th>\n",
       "      <td>El Mariachi</td>\n",
       "      <td>17000000</td>\n",
       "      <td>es</td>\n",
       "      <td>14.269792</td>\n",
       "      <td>04-09-1992</td>\n",
       "      <td>2040920</td>\n",
       "      <td>81.0</td>\n",
       "      <td>6.6</td>\n",
       "      <td>Mexico</td>\n",
       "      <td>Carlos Gallardo</td>\n",
       "      <td>Jaime de Hoyos</td>\n",
       "      <td>Columbia Pictures</td>\n",
       "      <td>Action</td>\n",
       "      <td>Robert Rodriguez</td>\n",
       "      <td>-14959080</td>\n",
       "      <td>Less_Vote</td>\n",
       "      <td>Good</td>\n",
       "    </tr>\n",
       "    <tr>\n",
       "      <th>4415</th>\n",
       "      <td>Signed, Sealed, Delivered</td>\n",
       "      <td>17000000</td>\n",
       "      <td>en</td>\n",
       "      <td>1.444476</td>\n",
       "      <td>13-10-2013</td>\n",
       "      <td>25871834</td>\n",
       "      <td>120.0</td>\n",
       "      <td>7.0</td>\n",
       "      <td>United States of America</td>\n",
       "      <td>Eric Mabius</td>\n",
       "      <td>Kristin Booth</td>\n",
       "      <td>Front Street Pictures</td>\n",
       "      <td>Comedy</td>\n",
       "      <td>Scott Smith</td>\n",
       "      <td>8871834</td>\n",
       "      <td>Less_Vote</td>\n",
       "      <td>Good</td>\n",
       "    </tr>\n",
       "    <tr>\n",
       "      <th>4416</th>\n",
       "      <td>My Date with Drew</td>\n",
       "      <td>17000000</td>\n",
       "      <td>en</td>\n",
       "      <td>1.929883</td>\n",
       "      <td>05-08-2005</td>\n",
       "      <td>25871834</td>\n",
       "      <td>90.0</td>\n",
       "      <td>6.3</td>\n",
       "      <td>United States of America</td>\n",
       "      <td>Drew Barrymore</td>\n",
       "      <td>Brian Herzlinger</td>\n",
       "      <td>rusty bear entertainment</td>\n",
       "      <td>Documentary</td>\n",
       "      <td>Brian Herzlinger</td>\n",
       "      <td>8871834</td>\n",
       "      <td>Less_Vote</td>\n",
       "      <td>Good</td>\n",
       "    </tr>\n",
       "  </tbody>\n",
       "</table>\n",
       "<p>4417 rows × 17 columns</p>\n",
       "</div>"
      ],
      "text/plain": [
       "                                       title_x     budget original_language  \\\n",
       "0                                       Avatar  237000000                en   \n",
       "1     Pirates of the Caribbean: At World's End  300000000                en   \n",
       "2                                      Spectre  245000000                en   \n",
       "3                        The Dark Knight Rises  250000000                en   \n",
       "4                                  John Carter  260000000                en   \n",
       "...                                        ...        ...               ...   \n",
       "4412                                      Bang   17000000                en   \n",
       "4413                                    Primer   17000000                en   \n",
       "4414                               El Mariachi   17000000                es   \n",
       "4415                 Signed, Sealed, Delivered   17000000                en   \n",
       "4416                         My Date with Drew   17000000                en   \n",
       "\n",
       "      popularity release_date     revenue  runtime  vote_average  \\\n",
       "0     150.437577   10-12-2009  2787965087    162.0           7.2   \n",
       "1     139.082615   19-05-2007   961000000    169.0           6.9   \n",
       "2     107.376788   26-10-2015   880674609    148.0           6.3   \n",
       "3     112.312950   16-07-2012  1084939099    165.0           7.6   \n",
       "4      43.926995   07-03-2012   284139100    132.0           6.1   \n",
       "...          ...          ...         ...      ...           ...   \n",
       "4412    0.918116   09-09-1995    25871834     98.0           6.0   \n",
       "4413   23.307949   08-10-2004      424760     77.0           6.9   \n",
       "4414   14.269792   04-09-1992     2040920     81.0           6.6   \n",
       "4415    1.444476   13-10-2013    25871834    120.0           7.0   \n",
       "4416    1.929883   05-08-2005    25871834     90.0           6.3   \n",
       "\n",
       "                       country       Lead_Actor Second_Lead_Actor  \\\n",
       "0     United States of America  Sam Worthington       Zoe Saldana   \n",
       "1     United States of America      Johnny Depp     Orlando Bloom   \n",
       "2               United Kingdom     Daniel Craig   Christoph Waltz   \n",
       "3     United States of America   Christian Bale     Michael Caine   \n",
       "4     United States of America    Taylor Kitsch      Lynn Collins   \n",
       "...                        ...              ...               ...   \n",
       "4412  United States of America   Darling Narita      Peter Greene   \n",
       "4413  United States of America    Shane Carruth    David Sullivan   \n",
       "4414                    Mexico  Carlos Gallardo    Jaime de Hoyos   \n",
       "4415  United States of America      Eric Mabius     Kristin Booth   \n",
       "4416  United States of America   Drew Barrymore  Brian Herzlinger   \n",
       "\n",
       "         Main_Production_House           Genres           Director  \\\n",
       "0      Ingenious Film Partners           Action      James Cameron   \n",
       "1         Walt Disney Pictures        Adventure     Gore Verbinski   \n",
       "2            Columbia Pictures           Action         Sam Mendes   \n",
       "3           Legendary Pictures           Action  Christopher Nolan   \n",
       "4         Walt Disney Pictures           Action     Andrew Stanton   \n",
       "...                        ...              ...                ...   \n",
       "4412              Asylum Films            Drama    Ash Baron-Cohen   \n",
       "4413                 Thinkfilm  Science Fiction      Shane Carruth   \n",
       "4414         Columbia Pictures           Action   Robert Rodriguez   \n",
       "4415     Front Street Pictures           Comedy        Scott Smith   \n",
       "4416  rusty bear entertainment      Documentary   Brian Herzlinger   \n",
       "\n",
       "          profit      Votes   Rating  \n",
       "0     2550965087  High_vote     Good  \n",
       "1      661000000   Avg_Vote     Good  \n",
       "2      635674609   Avg_Vote     Good  \n",
       "3      834939099  High_vote     Good  \n",
       "4       24139100   Avg_Vote  Average  \n",
       "...          ...        ...      ...  \n",
       "4412     8871834  Less_Vote  Average  \n",
       "4413   -16575240  Less_Vote     Good  \n",
       "4414   -14959080  Less_Vote     Good  \n",
       "4415     8871834  Less_Vote     Good  \n",
       "4416     8871834  Less_Vote     Good  \n",
       "\n",
       "[4417 rows x 17 columns]"
      ]
     },
     "execution_count": 6,
     "metadata": {},
     "output_type": "execute_result"
    }
   ],
   "source": [
    "# Displaying table after inserting rating column\n",
    "movie_df"
   ]
  },
  {
   "cell_type": "code",
   "execution_count": 7,
   "id": "d5a0575f",
   "metadata": {},
   "outputs": [
    {
     "data": {
      "text/plain": [
       "Good       2420\n",
       "Average    1953\n",
       "Poor         44\n",
       "Name: Rating, dtype: int64"
      ]
     },
     "execution_count": 7,
     "metadata": {},
     "output_type": "execute_result"
    }
   ],
   "source": [
    "#Cross checking by using value count if any errors are there.\n",
    "movie_df.Rating.value_counts()"
   ]
  },
  {
   "cell_type": "code",
   "execution_count": 8,
   "id": "909c0ed8",
   "metadata": {},
   "outputs": [],
   "source": [
    "# Dropping Vote_Average Column\n",
    "movie_df.drop('vote_average',axis=1,inplace=True)"
   ]
  },
  {
   "cell_type": "code",
   "execution_count": 9,
   "id": "163909de",
   "metadata": {},
   "outputs": [
    {
     "name": "stdout",
     "output_type": "stream",
     "text": [
      "<class 'pandas.core.frame.DataFrame'>\n",
      "RangeIndex: 4417 entries, 0 to 4416\n",
      "Data columns (total 16 columns):\n",
      " #   Column                 Non-Null Count  Dtype  \n",
      "---  ------                 --------------  -----  \n",
      " 0   title_x                4417 non-null   object \n",
      " 1   budget                 4417 non-null   int64  \n",
      " 2   original_language      4417 non-null   object \n",
      " 3   popularity             4417 non-null   float64\n",
      " 4   release_date           4417 non-null   object \n",
      " 5   revenue                4417 non-null   int64  \n",
      " 6   runtime                4417 non-null   float64\n",
      " 7   country                4417 non-null   object \n",
      " 8   Lead_Actor             4417 non-null   object \n",
      " 9   Second_Lead_Actor      4417 non-null   object \n",
      " 10  Main_Production_House  4417 non-null   object \n",
      " 11  Genres                 4417 non-null   object \n",
      " 12  Director               4417 non-null   object \n",
      " 13  profit                 4417 non-null   int64  \n",
      " 14  Votes                  4417 non-null   object \n",
      " 15  Rating                 4417 non-null   object \n",
      "dtypes: float64(2), int64(3), object(11)\n",
      "memory usage: 552.2+ KB\n"
     ]
    }
   ],
   "source": [
    "# Information of columns\n",
    "movie_df.info()"
   ]
  },
  {
   "cell_type": "code",
   "execution_count": 10,
   "id": "75309f4e",
   "metadata": {},
   "outputs": [],
   "source": [
    "#Extracting Year from Release data and dropping Release date\n",
    "movie_df['Year']=pd.DatetimeIndex(movie_df.release_date).year\n",
    "movie_df['Month']=pd.DatetimeIndex(movie_df.release_date).month\n",
    "movie_df.drop('release_date',axis=1,inplace=True)"
   ]
  },
  {
   "cell_type": "code",
   "execution_count": 11,
   "id": "61a70819",
   "metadata": {},
   "outputs": [],
   "source": [
    "#Convering the columns from int to object\n",
    "movie_df.Year=movie_df.Year.astype('object')\n",
    "movie_df.Month=movie_df.Month.astype('object')"
   ]
  },
  {
   "cell_type": "code",
   "execution_count": 12,
   "id": "6cee3132",
   "metadata": {},
   "outputs": [
    {
     "data": {
      "text/plain": [
       "title_x                  4415\n",
       "budget                    301\n",
       "original_language          34\n",
       "popularity               4416\n",
       "revenue                  3238\n",
       "runtime                   151\n",
       "country                    64\n",
       "Lead_Actor               1864\n",
       "Second_Lead_Actor        2482\n",
       "Main_Production_House    1292\n",
       "Genres                     20\n",
       "Director                 2087\n",
       "profit                   3351\n",
       "Votes                       3\n",
       "Rating                      3\n",
       "Year                       89\n",
       "Month                      12\n",
       "dtype: int64"
      ]
     },
     "execution_count": 12,
     "metadata": {},
     "output_type": "execute_result"
    }
   ],
   "source": [
    "movie_df.nunique()\n",
    "# title has unique values in each row"
   ]
  },
  {
   "cell_type": "code",
   "execution_count": 13,
   "id": "a59806f1",
   "metadata": {},
   "outputs": [],
   "source": [
    "#Dropping Unique rows in table\n",
    "movie_df.drop('title_x',axis=1,inplace=True)"
   ]
  },
  {
   "cell_type": "code",
   "execution_count": 14,
   "id": "eeb1a95f",
   "metadata": {},
   "outputs": [
    {
     "data": {
      "text/plain": [
       "0"
      ]
     },
     "execution_count": 14,
     "metadata": {},
     "output_type": "execute_result"
    }
   ],
   "source": [
    "# Checking For Duplicaltes\n",
    "movie_df.duplicated().sum()"
   ]
  },
  {
   "cell_type": "markdown",
   "id": "34093d80",
   "metadata": {},
   "source": [
    "### EDA"
   ]
  },
  {
   "cell_type": "code",
   "execution_count": 15,
   "id": "87ecd924",
   "metadata": {},
   "outputs": [
    {
     "name": "stdout",
     "output_type": "stream",
     "text": [
      "<class 'pandas.core.frame.DataFrame'>\n",
      "RangeIndex: 4417 entries, 0 to 4416\n",
      "Data columns (total 16 columns):\n",
      " #   Column                 Non-Null Count  Dtype  \n",
      "---  ------                 --------------  -----  \n",
      " 0   budget                 4417 non-null   int64  \n",
      " 1   original_language      4417 non-null   object \n",
      " 2   popularity             4417 non-null   float64\n",
      " 3   revenue                4417 non-null   int64  \n",
      " 4   runtime                4417 non-null   float64\n",
      " 5   country                4417 non-null   object \n",
      " 6   Lead_Actor             4417 non-null   object \n",
      " 7   Second_Lead_Actor      4417 non-null   object \n",
      " 8   Main_Production_House  4417 non-null   object \n",
      " 9   Genres                 4417 non-null   object \n",
      " 10  Director               4417 non-null   object \n",
      " 11  profit                 4417 non-null   int64  \n",
      " 12  Votes                  4417 non-null   object \n",
      " 13  Rating                 4417 non-null   object \n",
      " 14  Year                   4417 non-null   object \n",
      " 15  Month                  4417 non-null   object \n",
      "dtypes: float64(2), int64(3), object(11)\n",
      "memory usage: 552.2+ KB\n"
     ]
    }
   ],
   "source": [
    "movie_df.info()"
   ]
  },
  {
   "cell_type": "code",
   "execution_count": 16,
   "id": "9fe7c2d3",
   "metadata": {},
   "outputs": [
    {
     "data": {
      "image/png": "[encoded data removed]",
      "text/plain": [
       "<Figure size 2160x1440 with 6 Axes>"
      ]
     },
     "metadata": {
      "needs_background": "light"
     },
     "output_type": "display_data"
    }
   ],
   "source": [
    "cat=movie_df.select_dtypes('object')\n",
    "cat.drop(['Director','Main_Production_House','Second_Lead_Actor','Lead_Actor','Rating'],axis=1,inplace=True)\n",
    "fig,ax=plt.subplots(3,2,figsize=(30,20))\n",
    "ax=ax.ravel()\n",
    "for i,j in zip(cat,range(len(cat))):\n",
    "    sns.countplot(data=movie_df,x=i,hue='Rating',ax=ax[j])"
   ]
  },
  {
   "cell_type": "code",
   "execution_count": 17,
   "id": "84f22b7e",
   "metadata": {},
   "outputs": [],
   "source": [
    "# There are more number of average rating in action and comedy movies"
   ]
  },
  {
   "cell_type": "code",
   "execution_count": 18,
   "id": "56a0e711",
   "metadata": {},
   "outputs": [
    {
     "data": {
      "image/png": "[encoded data removed]",
      "text/plain": [
       "<Figure size 2160x1440 with 6 Axes>"
      ]
     },
     "metadata": {
      "needs_background": "light"
     },
     "output_type": "display_data"
    }
   ],
   "source": [
    "num=movie_df.select_dtypes(['int64','float64'])\n",
    "fig,ax=plt.subplots(3,2,figsize=(30,20))\n",
    "ax=ax.ravel()\n",
    "for i,j in zip(num,range(len(num))):\n",
    "    sns.boxplot(data=movie_df,x=i,hue='Rating',ax=ax[j])"
   ]
  },
  {
   "cell_type": "code",
   "execution_count": 19,
   "id": "d57cf70a",
   "metadata": {},
   "outputs": [],
   "source": [
    "# Outliers present in this are not false input of the data we keep it as it is."
   ]
  },
  {
   "cell_type": "code",
   "execution_count": 20,
   "id": "8cf43659",
   "metadata": {},
   "outputs": [
    {
     "name": "stdout",
     "output_type": "stream",
     "text": [
      "<class 'pandas.core.frame.DataFrame'>\n",
      "RangeIndex: 4417 entries, 0 to 4416\n",
      "Data columns (total 16 columns):\n",
      " #   Column                 Non-Null Count  Dtype  \n",
      "---  ------                 --------------  -----  \n",
      " 0   budget                 4417 non-null   int64  \n",
      " 1   original_language      4417 non-null   int32  \n",
      " 2   popularity             4417 non-null   float64\n",
      " 3   revenue                4417 non-null   int64  \n",
      " 4   runtime                4417 non-null   float64\n",
      " 5   country                4417 non-null   int32  \n",
      " 6   Lead_Actor             4417 non-null   int32  \n",
      " 7   Second_Lead_Actor      4417 non-null   int32  \n",
      " 8   Main_Production_House  4417 non-null   int32  \n",
      " 9   Genres                 4417 non-null   int32  \n",
      " 10  Director               4417 non-null   int32  \n",
      " 11  profit                 4417 non-null   int64  \n",
      " 12  Votes                  4417 non-null   int32  \n",
      " 13  Rating                 4417 non-null   int32  \n",
      " 14  Year                   4417 non-null   int32  \n",
      " 15  Month                  4417 non-null   int32  \n",
      "dtypes: float64(2), int32(11), int64(3)\n",
      "memory usage: 362.5 KB\n"
     ]
    }
   ],
   "source": [
    "#Converting data type object to int32\n",
    "a=list(movie_df.select_dtypes('object'))\n",
    "for i in a:\n",
    "    movie_df[i]=LabelEncoder().fit_transform(movie_df[i])\n",
    "movie_df.info()"
   ]
  },
  {
   "cell_type": "code",
   "execution_count": 21,
   "id": "9ef59e79",
   "metadata": {},
   "outputs": [
    {
     "data": {
      "text/html": [
       "<div>\n",
       "<style scoped>\n",
       "    .dataframe tbody tr th:only-of-type {\n",
       "        vertical-align: middle;\n",
       "    }\n",
       "\n",
       "    .dataframe tbody tr th {\n",
       "        vertical-align: top;\n",
       "    }\n",
       "\n",
       "    .dataframe thead th {\n",
       "        text-align: right;\n",
       "    }\n",
       "</style>\n",
       "<table border=\"1\" class=\"dataframe\">\n",
       "  <thead>\n",
       "    <tr style=\"text-align: right;\">\n",
       "      <th></th>\n",
       "      <th>budget</th>\n",
       "      <th>original_language</th>\n",
       "      <th>popularity</th>\n",
       "      <th>revenue</th>\n",
       "      <th>runtime</th>\n",
       "      <th>country</th>\n",
       "      <th>Lead_Actor</th>\n",
       "      <th>Second_Lead_Actor</th>\n",
       "      <th>Main_Production_House</th>\n",
       "      <th>Genres</th>\n",
       "      <th>Director</th>\n",
       "      <th>profit</th>\n",
       "      <th>Votes</th>\n",
       "      <th>Rating</th>\n",
       "      <th>Year</th>\n",
       "      <th>Month</th>\n",
       "    </tr>\n",
       "  </thead>\n",
       "  <tbody>\n",
       "    <tr>\n",
       "      <th>0</th>\n",
       "      <td>0.621092</td>\n",
       "      <td>0.181818</td>\n",
       "      <td>0.171813</td>\n",
       "      <td>1.000000</td>\n",
       "      <td>0.456790</td>\n",
       "      <td>1.000000</td>\n",
       "      <td>0.837359</td>\n",
       "      <td>0.997985</td>\n",
       "      <td>0.463207</td>\n",
       "      <td>0.000000</td>\n",
       "      <td>0.378236</td>\n",
       "      <td>1.000000</td>\n",
       "      <td>0.5</td>\n",
       "      <td>0.5</td>\n",
       "      <td>0.920455</td>\n",
       "      <td>0.818182</td>\n",
       "    </tr>\n",
       "    <tr>\n",
       "      <th>1</th>\n",
       "      <td>0.788023</td>\n",
       "      <td>0.181818</td>\n",
       "      <td>0.158845</td>\n",
       "      <td>0.344696</td>\n",
       "      <td>0.478395</td>\n",
       "      <td>1.000000</td>\n",
       "      <td>0.476651</td>\n",
       "      <td>0.735590</td>\n",
       "      <td>0.958947</td>\n",
       "      <td>0.052632</td>\n",
       "      <td>0.328380</td>\n",
       "      <td>0.304310</td>\n",
       "      <td>0.0</td>\n",
       "      <td>0.5</td>\n",
       "      <td>0.897727</td>\n",
       "      <td>0.363636</td>\n",
       "    </tr>\n",
       "    <tr>\n",
       "      <th>2</th>\n",
       "      <td>0.642289</td>\n",
       "      <td>0.181818</td>\n",
       "      <td>0.122633</td>\n",
       "      <td>0.315884</td>\n",
       "      <td>0.413580</td>\n",
       "      <td>0.984127</td>\n",
       "      <td>0.211487</td>\n",
       "      <td>0.164047</td>\n",
       "      <td>0.199070</td>\n",
       "      <td>0.000000</td>\n",
       "      <td>0.839406</td>\n",
       "      <td>0.294987</td>\n",
       "      <td>0.0</td>\n",
       "      <td>0.5</td>\n",
       "      <td>0.988636</td>\n",
       "      <td>0.818182</td>\n",
       "    </tr>\n",
       "    <tr>\n",
       "      <th>3</th>\n",
       "      <td>0.655538</td>\n",
       "      <td>0.181818</td>\n",
       "      <td>0.128271</td>\n",
       "      <td>0.389151</td>\n",
       "      <td>0.466049</td>\n",
       "      <td>1.000000</td>\n",
       "      <td>0.173913</td>\n",
       "      <td>0.668279</td>\n",
       "      <td>0.525174</td>\n",
       "      <td>0.000000</td>\n",
       "      <td>0.154362</td>\n",
       "      <td>0.368336</td>\n",
       "      <td>0.5</td>\n",
       "      <td>0.5</td>\n",
       "      <td>0.954545</td>\n",
       "      <td>0.545455</td>\n",
       "    </tr>\n",
       "    <tr>\n",
       "      <th>4</th>\n",
       "      <td>0.682035</td>\n",
       "      <td>0.181818</td>\n",
       "      <td>0.050167</td>\n",
       "      <td>0.101916</td>\n",
       "      <td>0.364198</td>\n",
       "      <td>1.000000</td>\n",
       "      <td>0.916264</td>\n",
       "      <td>0.601370</td>\n",
       "      <td>0.958947</td>\n",
       "      <td>0.000000</td>\n",
       "      <td>0.040268</td>\n",
       "      <td>0.069883</td>\n",
       "      <td>0.0</td>\n",
       "      <td>0.0</td>\n",
       "      <td>0.954545</td>\n",
       "      <td>0.545455</td>\n",
       "    </tr>\n",
       "    <tr>\n",
       "      <th>...</th>\n",
       "      <td>...</td>\n",
       "      <td>...</td>\n",
       "      <td>...</td>\n",
       "      <td>...</td>\n",
       "      <td>...</td>\n",
       "      <td>...</td>\n",
       "      <td>...</td>\n",
       "      <td>...</td>\n",
       "      <td>...</td>\n",
       "      <td>...</td>\n",
       "      <td>...</td>\n",
       "      <td>...</td>\n",
       "      <td>...</td>\n",
       "      <td>...</td>\n",
       "      <td>...</td>\n",
       "      <td>...</td>\n",
       "    </tr>\n",
       "    <tr>\n",
       "      <th>4412</th>\n",
       "      <td>0.038156</td>\n",
       "      <td>0.181818</td>\n",
       "      <td>0.001047</td>\n",
       "      <td>0.009280</td>\n",
       "      <td>0.259259</td>\n",
       "      <td>1.000000</td>\n",
       "      <td>0.219002</td>\n",
       "      <td>0.760580</td>\n",
       "      <td>0.074361</td>\n",
       "      <td>0.315789</td>\n",
       "      <td>0.061361</td>\n",
       "      <td>0.064263</td>\n",
       "      <td>1.0</td>\n",
       "      <td>0.0</td>\n",
       "      <td>0.761364</td>\n",
       "      <td>0.727273</td>\n",
       "    </tr>\n",
       "    <tr>\n",
       "      <th>4413</th>\n",
       "      <td>0.038156</td>\n",
       "      <td>0.181818</td>\n",
       "      <td>0.026618</td>\n",
       "      <td>0.000152</td>\n",
       "      <td>0.194444</td>\n",
       "      <td>1.000000</td>\n",
       "      <td>0.863661</td>\n",
       "      <td>0.220879</td>\n",
       "      <td>0.890008</td>\n",
       "      <td>0.789474</td>\n",
       "      <td>0.859540</td>\n",
       "      <td>0.054896</td>\n",
       "      <td>1.0</td>\n",
       "      <td>0.5</td>\n",
       "      <td>0.863636</td>\n",
       "      <td>0.636364</td>\n",
       "    </tr>\n",
       "    <tr>\n",
       "      <th>4414</th>\n",
       "      <td>0.038156</td>\n",
       "      <td>0.212121</td>\n",
       "      <td>0.016296</td>\n",
       "      <td>0.000732</td>\n",
       "      <td>0.206790</td>\n",
       "      <td>0.650794</td>\n",
       "      <td>0.139560</td>\n",
       "      <td>0.390971</td>\n",
       "      <td>0.199070</td>\n",
       "      <td>0.000000</td>\n",
       "      <td>0.809684</td>\n",
       "      <td>0.055491</td>\n",
       "      <td>1.0</td>\n",
       "      <td>0.5</td>\n",
       "      <td>0.727273</td>\n",
       "      <td>0.272727</td>\n",
       "    </tr>\n",
       "    <tr>\n",
       "      <th>4415</th>\n",
       "      <td>0.038156</td>\n",
       "      <td>0.181818</td>\n",
       "      <td>0.001648</td>\n",
       "      <td>0.009280</td>\n",
       "      <td>0.327160</td>\n",
       "      <td>1.000000</td>\n",
       "      <td>0.288245</td>\n",
       "      <td>0.555018</td>\n",
       "      <td>0.357862</td>\n",
       "      <td>0.157895</td>\n",
       "      <td>0.849473</td>\n",
       "      <td>0.064263</td>\n",
       "      <td>1.0</td>\n",
       "      <td>0.5</td>\n",
       "      <td>0.965909</td>\n",
       "      <td>0.818182</td>\n",
       "    </tr>\n",
       "    <tr>\n",
       "      <th>4416</th>\n",
       "      <td>0.038156</td>\n",
       "      <td>0.181818</td>\n",
       "      <td>0.002202</td>\n",
       "      <td>0.009280</td>\n",
       "      <td>0.234568</td>\n",
       "      <td>1.000000</td>\n",
       "      <td>0.253892</td>\n",
       "      <td>0.105603</td>\n",
       "      <td>1.000000</td>\n",
       "      <td>0.263158</td>\n",
       "      <td>0.107862</td>\n",
       "      <td>0.064263</td>\n",
       "      <td>1.0</td>\n",
       "      <td>0.5</td>\n",
       "      <td>0.875000</td>\n",
       "      <td>0.363636</td>\n",
       "    </tr>\n",
       "  </tbody>\n",
       "</table>\n",
       "<p>4417 rows × 16 columns</p>\n",
       "</div>"
      ],
      "text/plain": [
       "        budget  original_language  popularity   revenue   runtime   country  \\\n",
       "0     0.621092           0.181818    0.171813  1.000000  0.456790  1.000000   \n",
       "1     0.788023           0.181818    0.158845  0.344696  0.478395  1.000000   \n",
       "2     0.642289           0.181818    0.122633  0.315884  0.413580  0.984127   \n",
       "3     0.655538           0.181818    0.128271  0.389151  0.466049  1.000000   \n",
       "4     0.682035           0.181818    0.050167  0.101916  0.364198  1.000000   \n",
       "...        ...                ...         ...       ...       ...       ...   \n",
       "4412  0.038156           0.181818    0.001047  0.009280  0.259259  1.000000   \n",
       "4413  0.038156           0.181818    0.026618  0.000152  0.194444  1.000000   \n",
       "4414  0.038156           0.212121    0.016296  0.000732  0.206790  0.650794   \n",
       "4415  0.038156           0.181818    0.001648  0.009280  0.327160  1.000000   \n",
       "4416  0.038156           0.181818    0.002202  0.009280  0.234568  1.000000   \n",
       "\n",
       "      Lead_Actor  Second_Lead_Actor  Main_Production_House    Genres  \\\n",
       "0       0.837359           0.997985               0.463207  0.000000   \n",
       "1       0.476651           0.735590               0.958947  0.052632   \n",
       "2       0.211487           0.164047               0.199070  0.000000   \n",
       "3       0.173913           0.668279               0.525174  0.000000   \n",
       "4       0.916264           0.601370               0.958947  0.000000   \n",
       "...          ...                ...                    ...       ...   \n",
       "4412    0.219002           0.760580               0.074361  0.315789   \n",
       "4413    0.863661           0.220879               0.890008  0.789474   \n",
       "4414    0.139560           0.390971               0.199070  0.000000   \n",
       "4415    0.288245           0.555018               0.357862  0.157895   \n",
       "4416    0.253892           0.105603               1.000000  0.263158   \n",
       "\n",
       "      Director    profit  Votes  Rating      Year     Month  \n",
       "0     0.378236  1.000000    0.5     0.5  0.920455  0.818182  \n",
       "1     0.328380  0.304310    0.0     0.5  0.897727  0.363636  \n",
       "2     0.839406  0.294987    0.0     0.5  0.988636  0.818182  \n",
       "3     0.154362  0.368336    0.5     0.5  0.954545  0.545455  \n",
       "4     0.040268  0.069883    0.0     0.0  0.954545  0.545455  \n",
       "...        ...       ...    ...     ...       ...       ...  \n",
       "4412  0.061361  0.064263    1.0     0.0  0.761364  0.727273  \n",
       "4413  0.859540  0.054896    1.0     0.5  0.863636  0.636364  \n",
       "4414  0.809684  0.055491    1.0     0.5  0.727273  0.272727  \n",
       "4415  0.849473  0.064263    1.0     0.5  0.965909  0.818182  \n",
       "4416  0.107862  0.064263    1.0     0.5  0.875000  0.363636  \n",
       "\n",
       "[4417 rows x 16 columns]"
      ]
     },
     "execution_count": 21,
     "metadata": {},
     "output_type": "execute_result"
    }
   ],
   "source": [
    "#Scalling the data to bring to a pericular scale for modelling\n",
    "scaller_df=pd.DataFrame(MinMaxScaler().fit_transform(movie_df),columns=movie_df.columns)\n",
    "scaller_df"
   ]
  },
  {
   "cell_type": "code",
   "execution_count": 22,
   "id": "d79a7ee0",
   "metadata": {},
   "outputs": [
    {
     "data": {
      "text/plain": [
       "<AxesSubplot:>"
      ]
     },
     "execution_count": 22,
     "metadata": {},
     "output_type": "execute_result"
    },
    {
     "data": {
      "image/png": "[encoded data removed]",
      "text/plain": [
       "<Figure size 1080x720 with 2 Axes>"
      ]
     },
     "metadata": {
      "needs_background": "light"
     },
     "output_type": "display_data"
    }
   ],
   "source": [
    "# Visulizing Corelation Matrix using heat map\n",
    "corr_mat=scaller_df.corr()\n",
    "plt.figure(figsize=(15,10))\n",
    "sns.heatmap(corr_mat,annot=True)"
   ]
  },
  {
   "cell_type": "code",
   "execution_count": 23,
   "id": "fe925f3b",
   "metadata": {},
   "outputs": [],
   "source": [
    "# Funtion to identify the corellated columns\n",
    "def correlation(df,threshold):\n",
    "    col_corr=set()\n",
    "    correlation_matrix=df.corr()\n",
    "    for i in range(len(correlation_matrix.columns)):\n",
    "        for j in range(i):\n",
    "            if(abs(correlation_matrix.iloc[i,j]))>threshold:\n",
    "                col_name=correlation_matrix.columns[i]\n",
    "                col_corr.add(col_name)\n",
    "    return col_corr"
   ]
  },
  {
   "cell_type": "code",
   "execution_count": 24,
   "id": "b20e60cd",
   "metadata": {},
   "outputs": [
    {
     "data": {
      "text/plain": [
       "{'profit', 'revenue'}"
      ]
     },
     "execution_count": 24,
     "metadata": {},
     "output_type": "execute_result"
    }
   ],
   "source": [
    "correlation(scaller_df,0.7)"
   ]
  },
  {
   "cell_type": "code",
   "execution_count": 25,
   "id": "25b48a41",
   "metadata": {},
   "outputs": [],
   "source": [
    "# Dropping Revenue column as feature reduction\n",
    "scaller_df.drop('revenue',inplace=True,axis=1)"
   ]
  },
  {
   "cell_type": "markdown",
   "id": "aff38a07",
   "metadata": {},
   "source": [
    "### Resampling the target column and split data into Train and Test data"
   ]
  },
  {
   "cell_type": "code",
   "execution_count": 26,
   "id": "2290ed8c",
   "metadata": {},
   "outputs": [
    {
     "data": {
      "text/plain": [
       "<AxesSubplot:xlabel='Rating', ylabel='count'>"
      ]
     },
     "execution_count": 26,
     "metadata": {},
     "output_type": "execute_result"
    },
    {
     "data": {
      "image/png": "[encoded data removed]",
      "text/plain": [
       "<Figure size 432x288 with 1 Axes>"
      ]
     },
     "metadata": {
      "needs_background": "light"
     },
     "output_type": "display_data"
    }
   ],
   "source": [
    "x1=scaller_df.drop('Rating',axis=1)\n",
    "y1=movie_df.Rating\n",
    "\n",
    "# Balancing the target feature to get accurate result while modeling \n",
    "os=SMOTE()                  \n",
    "X,y=os.fit_resample(x1,y1)\n",
    "\n",
    "sns.countplot(y)"
   ]
  },
  {
   "cell_type": "code",
   "execution_count": 27,
   "id": "5833d4f6",
   "metadata": {},
   "outputs": [],
   "source": [
    "x_train,x_test,y_train,y_test=train_test_split(X,y,test_size=0.20,random_state=42)"
   ]
  },
  {
   "cell_type": "markdown",
   "id": "7fe76849",
   "metadata": {},
   "source": [
    "### Logestic Regression"
   ]
  },
  {
   "cell_type": "code",
   "execution_count": 28,
   "id": "ea3b3ae4",
   "metadata": {},
   "outputs": [],
   "source": [
    "model1=LogisticRegression().fit(x_train,y_train)\n",
    "y_pred1=model1.predict(x_test)"
   ]
  },
  {
   "cell_type": "code",
   "execution_count": 29,
   "id": "d89c7c94",
   "metadata": {},
   "outputs": [
    {
     "name": "stdout",
     "output_type": "stream",
     "text": [
      "R Score for Train set  :  0.6535812672176309\n",
      "R Score for Test  set  :  0.6460055096418733\n"
     ]
    }
   ],
   "source": [
    "print('R Score for Train set  : ',model1.score(x_train,y_train))\n",
    "print('R Score for Test  set  : ',model1.score(x_test,y_test))"
   ]
  },
  {
   "cell_type": "code",
   "execution_count": 30,
   "id": "2d0725a7",
   "metadata": {},
   "outputs": [
    {
     "name": "stdout",
     "output_type": "stream",
     "text": [
      "Precission Score:  0.6513191748786301\n",
      "Recall Score:  0.6502547032266711\n"
     ]
    }
   ],
   "source": [
    "print('Precission Score: ', precision_score(y_test,y_pred1,average='macro'))\n",
    "print('Recall Score: ',recall_score(y_test,y_pred1,average='macro'))"
   ]
  },
  {
   "cell_type": "code",
   "execution_count": 31,
   "id": "5183cc75",
   "metadata": {},
   "outputs": [
    {
     "name": "stdout",
     "output_type": "stream",
     "text": [
      "Confusion Matrix\n",
      "[[257  84 147]\n",
      " [112 300  93]\n",
      " [ 46  32 381]]\n",
      "\n",
      "Classification report\n",
      "              precision    recall  f1-score   support\n",
      "\n",
      "           0       0.62      0.53      0.57       488\n",
      "           1       0.72      0.59      0.65       505\n",
      "           2       0.61      0.83      0.71       459\n",
      "\n",
      "    accuracy                           0.65      1452\n",
      "   macro avg       0.65      0.65      0.64      1452\n",
      "weighted avg       0.65      0.65      0.64      1452\n",
      "\n",
      "\n"
     ]
    }
   ],
   "source": [
    "print('Confusion Matrix')\n",
    "print(confusion_matrix(y_test,y_pred1))\n",
    "print('')\n",
    "print('Classification report')\n",
    "print(classification_report(y_test,y_pred1))\n",
    "print('')"
   ]
  },
  {
   "cell_type": "markdown",
   "id": "9ed1407b",
   "metadata": {},
   "source": [
    "### Naive_bayes"
   ]
  },
  {
   "cell_type": "code",
   "execution_count": 32,
   "id": "06c69160",
   "metadata": {},
   "outputs": [],
   "source": [
    "model2=GaussianNB().fit(x_train,y_train)\n",
    "y_pred2=model2.predict(x_test)"
   ]
  },
  {
   "cell_type": "code",
   "execution_count": 33,
   "id": "387e6599",
   "metadata": {},
   "outputs": [
    {
     "name": "stdout",
     "output_type": "stream",
     "text": [
      "R Score for Train set:  0.5556129476584022\n",
      "R Score for Test  set:  0.5275482093663911\n"
     ]
    }
   ],
   "source": [
    "print('R Score for Train set: ',model2.score(x_train,y_train))\n",
    "print('R Score for Test  set: ',model2.score(x_test,y_test))"
   ]
  },
  {
   "cell_type": "code",
   "execution_count": 34,
   "id": "828b463d",
   "metadata": {},
   "outputs": [
    {
     "name": "stdout",
     "output_type": "stream",
     "text": [
      "Precission Score:  0.5963073689560153\n",
      "Recall Score:  0.5389968135354198\n"
     ]
    }
   ],
   "source": [
    "print('Precission Score: ', precision_score(y_test,y_pred2,average='macro'))\n",
    "print('Recall Score: ',recall_score(y_test,y_pred2,average='macro'))"
   ]
  },
  {
   "cell_type": "code",
   "execution_count": 35,
   "id": "891da050",
   "metadata": {},
   "outputs": [
    {
     "name": "stdout",
     "output_type": "stream",
     "text": [
      "Confusion Matrix\n",
      "[[166  37 285]\n",
      " [151 153 201]\n",
      " [ 12   0 447]]\n",
      "\n",
      "Classification report\n",
      "              precision    recall  f1-score   support\n",
      "\n",
      "           0       0.50      0.34      0.41       488\n",
      "           1       0.81      0.30      0.44       505\n",
      "           2       0.48      0.97      0.64       459\n",
      "\n",
      "    accuracy                           0.53      1452\n",
      "   macro avg       0.60      0.54      0.50      1452\n",
      "weighted avg       0.60      0.53      0.49      1452\n",
      "\n",
      "\n"
     ]
    }
   ],
   "source": [
    "print('Confusion Matrix')\n",
    "print(confusion_matrix(y_test,y_pred2))\n",
    "print('')\n",
    "print('Classification report')\n",
    "print(classification_report(y_test,y_pred2))\n",
    "print('')"
   ]
  },
  {
   "cell_type": "markdown",
   "id": "89c15c07",
   "metadata": {},
   "source": [
    "### Decission Tree"
   ]
  },
  {
   "cell_type": "code",
   "execution_count": 36,
   "id": "02d1dcf3",
   "metadata": {},
   "outputs": [],
   "source": [
    "kf=KFold(n_splits=5,random_state=42,shuffle=True)"
   ]
  },
  {
   "cell_type": "code",
   "execution_count": 37,
   "id": "593dd00e",
   "metadata": {},
   "outputs": [],
   "source": [
    "# dt=DecisionTreeClassifier(random_state=42).fit(x_train,y_train)"
   ]
  },
  {
   "cell_type": "code",
   "execution_count": 38,
   "id": "466a1a0d",
   "metadata": {},
   "outputs": [],
   "source": [
    "# param_grid={'min_samples_split':[3,5,7,9,10,40,80,100],\n",
    "#            'min_samples_leaf':[1,3,4,5,6,7,8,10,40,80,100],\n",
    "#            'max_depth':[3,4,5,6,7,8,9,10],\n",
    "#            'max_features':[2,3,4,5,6,7]}"
   ]
  },
  {
   "cell_type": "code",
   "execution_count": 39,
   "id": "f555dac5",
   "metadata": {},
   "outputs": [],
   "source": [
    "# gridcv=GridSearchCV(dt,param_grid,cv=kf)"
   ]
  },
  {
   "cell_type": "code",
   "execution_count": 40,
   "id": "4e5e96d1",
   "metadata": {},
   "outputs": [],
   "source": [
    "# gridcv.fit(x_train,y_train)"
   ]
  },
  {
   "cell_type": "code",
   "execution_count": 41,
   "id": "ff6f0726",
   "metadata": {},
   "outputs": [],
   "source": [
    "# gridcv.best_score_"
   ]
  },
  {
   "cell_type": "code",
   "execution_count": 42,
   "id": "18a96a34",
   "metadata": {},
   "outputs": [],
   "source": [
    "# gridcv.best_estimator_"
   ]
  },
  {
   "cell_type": "code",
   "execution_count": 43,
   "id": "de32af61",
   "metadata": {},
   "outputs": [],
   "source": [
    "model3=DecisionTreeClassifier(max_depth=10, max_features=6, min_samples_split=5,random_state=42).fit(x_train,y_train)\n",
    "y_pred3=model3.predict(x_test)"
   ]
  },
  {
   "cell_type": "code",
   "execution_count": 44,
   "id": "3517ce60",
   "metadata": {},
   "outputs": [
    {
     "name": "stdout",
     "output_type": "stream",
     "text": [
      "R Score for Train set:  0.8546831955922864\n",
      "R Score for Test  set:  0.7238292011019284\n"
     ]
    }
   ],
   "source": [
    "print('R Score for Train set: ',model3.score(x_train,y_train))\n",
    "print('R Score for Test  set: ',model3.score(x_test,y_test))"
   ]
  },
  {
   "cell_type": "code",
   "execution_count": 45,
   "id": "3fafa49d",
   "metadata": {},
   "outputs": [
    {
     "name": "stdout",
     "output_type": "stream",
     "text": [
      "Precission Score:  0.7227948859794702\n",
      "Recall Score:  0.7296732957341593\n"
     ]
    }
   ],
   "source": [
    "print('Precission Score: ', precision_score(y_test,y_pred3,average='macro'))\n",
    "print('Recall Score: ',recall_score(y_test,y_pred3,average='macro'))"
   ]
  },
  {
   "cell_type": "code",
   "execution_count": 46,
   "id": "e490e31f",
   "metadata": {},
   "outputs": [
    {
     "name": "stdout",
     "output_type": "stream",
     "text": [
      "Confusion Matrix\n",
      "[[306 146  36]\n",
      " [177 308  20]\n",
      " [ 12  10 437]]\n",
      "\n",
      "Classification report\n",
      "              precision    recall  f1-score   support\n",
      "\n",
      "           0       0.62      0.63      0.62       488\n",
      "           1       0.66      0.61      0.64       505\n",
      "           2       0.89      0.95      0.92       459\n",
      "\n",
      "    accuracy                           0.72      1452\n",
      "   macro avg       0.72      0.73      0.73      1452\n",
      "weighted avg       0.72      0.72      0.72      1452\n",
      "\n",
      "\n"
     ]
    }
   ],
   "source": [
    "print('Confusion Matrix')\n",
    "print(confusion_matrix(y_test,y_pred3))\n",
    "print('')\n",
    "print('Classification report')\n",
    "print(classification_report(y_test,y_pred3))\n",
    "print('')"
   ]
  },
  {
   "cell_type": "markdown",
   "id": "e1f3e637",
   "metadata": {},
   "source": [
    "### Random Forest"
   ]
  },
  {
   "cell_type": "code",
   "execution_count": 47,
   "id": "98ec819b",
   "metadata": {},
   "outputs": [],
   "source": [
    "# rf=RandomForestClassifier(random_state=42).fit(x_train,y_train)"
   ]
  },
  {
   "cell_type": "code",
   "execution_count": 48,
   "id": "b50ef737",
   "metadata": {},
   "outputs": [],
   "source": [
    "# param_grid={'n_estimators':[10,20,40,50,70,100,150,200],\n",
    "#            'min_samples_split':[10,20,30],\n",
    "#            'min_samples_leaf':[20,40,100],\n",
    "#            'max_depth':[3,4,5,6,7,8,9,10]}"
   ]
  },
  {
   "cell_type": "code",
   "execution_count": 49,
   "id": "a0cae77c",
   "metadata": {},
   "outputs": [],
   "source": [
    "# grid_cv2=GridSearchCV(rf,param_grid,cv=kf)"
   ]
  },
  {
   "cell_type": "code",
   "execution_count": 50,
   "id": "24dc8456",
   "metadata": {},
   "outputs": [],
   "source": [
    "# grid_cv2.fit(x_train,y_train)"
   ]
  },
  {
   "cell_type": "code",
   "execution_count": 51,
   "id": "22feafb7",
   "metadata": {},
   "outputs": [],
   "source": [
    "# grid_cv2.best_score_"
   ]
  },
  {
   "cell_type": "code",
   "execution_count": 52,
   "id": "d807ae37",
   "metadata": {},
   "outputs": [],
   "source": [
    "# grid_cv2.best_estimator_"
   ]
  },
  {
   "cell_type": "code",
   "execution_count": 53,
   "id": "f6c1bc5d",
   "metadata": {},
   "outputs": [],
   "source": [
    "model4=RandomForestClassifier(max_depth=10, min_samples_leaf=20, min_samples_split=10,n_estimators=200, random_state=42).fit(x_train,y_train)\n",
    "y_pred4=model4.predict(x_test)"
   ]
  },
  {
   "cell_type": "code",
   "execution_count": 54,
   "id": "99dbcaef",
   "metadata": {},
   "outputs": [
    {
     "name": "stdout",
     "output_type": "stream",
     "text": [
      "R Score for Train set:  0.8443526170798898\n",
      "R Score for Test  set:  0.7851239669421488\n"
     ]
    }
   ],
   "source": [
    "print('R Score for Train set: ',model4.score(x_train,y_train))\n",
    "print('R Score for Test  set: ',model4.score(x_test,y_test))"
   ]
  },
  {
   "cell_type": "code",
   "execution_count": 55,
   "id": "72755936",
   "metadata": {},
   "outputs": [
    {
     "name": "stdout",
     "output_type": "stream",
     "text": [
      "Precission Score:  0.7858973172482907\n",
      "Recall Score:  0.790167061011255\n"
     ]
    }
   ],
   "source": [
    "print('Precission Score: ', precision_score(y_test,y_pred4,average='macro'))\n",
    "print('Recall Score: ',recall_score(y_test,y_pred4,average='macro'))"
   ]
  },
  {
   "cell_type": "code",
   "execution_count": 56,
   "id": "238f5cc4",
   "metadata": {},
   "outputs": [
    {
     "name": "stdout",
     "output_type": "stream",
     "text": [
      "Confusion Matrix\n",
      "[[359  97  32]\n",
      " [147 336  22]\n",
      " [ 13   1 445]]\n",
      "\n",
      "Classification report\n",
      "              precision    recall  f1-score   support\n",
      "\n",
      "           0       0.69      0.74      0.71       488\n",
      "           1       0.77      0.67      0.72       505\n",
      "           2       0.89      0.97      0.93       459\n",
      "\n",
      "    accuracy                           0.79      1452\n",
      "   macro avg       0.79      0.79      0.79      1452\n",
      "weighted avg       0.78      0.79      0.78      1452\n",
      "\n",
      "\n"
     ]
    }
   ],
   "source": [
    "print('Confusion Matrix')\n",
    "print(confusion_matrix(y_test,y_pred4))\n",
    "print('')\n",
    "print('Classification report')\n",
    "print(classification_report(y_test,y_pred4))\n",
    "print('')"
   ]
  },
  {
   "cell_type": "markdown",
   "id": "e0228c00",
   "metadata": {},
   "source": [
    "### Stacking"
   ]
  },
  {
   "cell_type": "code",
   "execution_count": 57,
   "id": "e796f123",
   "metadata": {},
   "outputs": [],
   "source": [
    "level1=[]\n",
    "level1.append(('lr',LogisticRegression()))\n",
    "level1.append(('KNN',KNeighborsClassifier()))\n",
    "level1.append(('ny',GaussianNB()))\n",
    "level1.append(('SVM',SVC()))\n",
    "level1.append(('DT',DecisionTreeClassifier(max_depth=10, max_features=6, min_samples_split=5,random_state=42)))\n",
    "level1.append(('RF',RandomForestClassifier(max_depth=10, min_samples_leaf=20, min_samples_split=10,n_estimators=200, random_state=42)))\n",
    "level2=LogisticRegression()\n",
    "stack_model=StackingClassifier(estimators=level1,final_estimator=level2,cv=kf)"
   ]
  },
  {
   "cell_type": "code",
   "execution_count": 58,
   "id": "b363fb7f",
   "metadata": {},
   "outputs": [],
   "source": [
    "model5=stack_model.fit(x_train,y_train)\n",
    "y_pred5=model5.predict(x_test)"
   ]
  },
  {
   "cell_type": "code",
   "execution_count": 59,
   "id": "2fa82fe7",
   "metadata": {},
   "outputs": [
    {
     "name": "stdout",
     "output_type": "stream",
     "text": [
      "R Score for Train set:  0.8796487603305785\n",
      "R Score for Test  set:  0.8168044077134986\n"
     ]
    }
   ],
   "source": [
    "print('R Score for Train set: ',model5.score(x_train,y_train))\n",
    "print('R Score for Test  set: ',model5.score(x_test,y_test))"
   ]
  },
  {
   "cell_type": "code",
   "execution_count": 60,
   "id": "9f911c1b",
   "metadata": {},
   "outputs": [
    {
     "name": "stdout",
     "output_type": "stream",
     "text": [
      "Precission Score:  0.8210648567871601\n",
      "Recall Score:  0.8217607901366586\n"
     ]
    }
   ],
   "source": [
    "print('Precission Score: ', precision_score(y_test,y_pred5,average='macro'))\n",
    "print('Recall Score: ',recall_score(y_test,y_pred5,average='macro'))"
   ]
  },
  {
   "cell_type": "code",
   "execution_count": 61,
   "id": "a366b978",
   "metadata": {},
   "outputs": [
    {
     "name": "stdout",
     "output_type": "stream",
     "text": [
      "Confusion Matrix\n",
      "[[378 102   8]\n",
      " [151 351   3]\n",
      " [  2   0 457]]\n",
      "\n",
      "Classification report\n",
      "              precision    recall  f1-score   support\n",
      "\n",
      "           0       0.71      0.77      0.74       488\n",
      "           1       0.77      0.70      0.73       505\n",
      "           2       0.98      1.00      0.99       459\n",
      "\n",
      "    accuracy                           0.82      1452\n",
      "   macro avg       0.82      0.82      0.82      1452\n",
      "weighted avg       0.82      0.82      0.82      1452\n",
      "\n",
      "\n"
     ]
    }
   ],
   "source": [
    "print('Confusion Matrix')\n",
    "print(confusion_matrix(y_test,y_pred5))\n",
    "print('')\n",
    "print('Classification report')\n",
    "print(classification_report(y_test,y_pred5))\n",
    "print('')"
   ]
  },
  {
   "cell_type": "markdown",
   "id": "686ca8e1",
   "metadata": {},
   "source": [
    "### KNN"
   ]
  },
  {
   "cell_type": "code",
   "execution_count": 62,
   "id": "6ee13535",
   "metadata": {},
   "outputs": [
    {
     "name": "stdout",
     "output_type": "stream",
     "text": [
      "2 :  0.727823691460055\n",
      "3 :  0.7235537190082644\n",
      "4 :  0.7106060606060607\n",
      "5 :  0.7100550964187328\n",
      "6 :  0.6977961432506887\n",
      "7 :  0.6946280991735537\n",
      "8 :  0.6928374655647384\n",
      "9 :  0.6880165289256198\n",
      "10 :  0.6836088154269973\n",
      "11 :  0.681129476584022\n",
      "12 :  0.6772727272727274\n",
      "13 :  0.6756198347107438\n",
      "14 :  0.6739669421487603\n",
      "15 :  0.6702479338842975\n",
      "16 :  0.6632231404958678\n",
      "17 :  0.6630853994490358\n",
      "18 :  0.6606060606060606\n",
      "19 :  0.6575757575757576\n",
      "20 :  0.6582644628099175\n",
      "21 :  0.6544077134986226\n",
      "22 :  0.6530303030303031\n",
      "23 :  0.6534435261707989\n",
      "24 :  0.6499999999999999\n",
      "25 :  0.650413223140496\n",
      "26 :  0.646418732782369\n",
      "27 :  0.64366391184573\n",
      "28 :  0.6433884297520661\n",
      "29 :  0.6421487603305784\n"
     ]
    }
   ],
   "source": [
    "score1=[]\n",
    "for i in range(2,30):\n",
    "    score=cross_val_score(KNeighborsClassifier(i),X,y,cv=5,scoring='accuracy')\n",
    "    print(f'{i} : ',np.mean(score))\n",
    "    score1.append(score)"
   ]
  },
  {
   "cell_type": "code",
   "execution_count": 63,
   "id": "6b36f28e",
   "metadata": {},
   "outputs": [
    {
     "data": {
      "text/plain": [
       "array([1, 1, 2, ..., 2, 2, 0])"
      ]
     },
     "execution_count": 63,
     "metadata": {},
     "output_type": "execute_result"
    }
   ],
   "source": [
    "k=2\n",
    "model6=KNeighborsClassifier(k).fit(x_train,y_train)\n",
    "y_pred6=model6.predict(x_test)\n",
    "y_pred6"
   ]
  },
  {
   "cell_type": "code",
   "execution_count": 64,
   "id": "44f8c899",
   "metadata": {},
   "outputs": [
    {
     "name": "stdout",
     "output_type": "stream",
     "text": [
      "R Score for Train set:  0.8684573002754821\n",
      "R Score for Test  set:  0.7286501377410468\n"
     ]
    }
   ],
   "source": [
    "print('R Score for Train set: ',model6.score(x_train,y_train))\n",
    "print('R Score for Test  set: ',model6.score(x_test,y_test))"
   ]
  },
  {
   "cell_type": "code",
   "execution_count": 67,
   "id": "52f300d1",
   "metadata": {},
   "outputs": [
    {
     "name": "stdout",
     "output_type": "stream",
     "text": [
      "Precission Score:  0.7491962810333413\n",
      "Recall Score:  0.737870187961687\n"
     ]
    }
   ],
   "source": [
    "print('Precission Score: ', precision_score(y_test,y_pred6,average='macro'))\n",
    "print('Recall Score: ',recall_score(y_test,y_pred6,average='macro'))"
   ]
  },
  {
   "cell_type": "code",
   "execution_count": 68,
   "id": "32034581",
   "metadata": {},
   "outputs": [
    {
     "name": "stdout",
     "output_type": "stream",
     "text": [
      "Confusion Matrix\n",
      "[[404  68  16]\n",
      " [287 197  21]\n",
      " [  0   2 457]]\n",
      "\n",
      "Classification report\n",
      "              precision    recall  f1-score   support\n",
      "\n",
      "           0       0.58      0.83      0.69       488\n",
      "           1       0.74      0.39      0.51       505\n",
      "           2       0.93      1.00      0.96       459\n",
      "\n",
      "    accuracy                           0.73      1452\n",
      "   macro avg       0.75      0.74      0.72      1452\n",
      "weighted avg       0.75      0.73      0.71      1452\n",
      "\n",
      "\n"
     ]
    }
   ],
   "source": [
    "print('Confusion Matrix')\n",
    "print(confusion_matrix(y_test,y_pred6))\n",
    "print('')\n",
    "print('Classification report')\n",
    "print(classification_report(y_test,y_pred6))\n",
    "print('')"
   ]
  },
  {
   "cell_type": "code",
   "execution_count": null,
   "id": "3c862884",
   "metadata": {},
   "outputs": [],
   "source": []
  }
 ],
 "metadata": {
  "kernelspec": {
   "display_name": "Python 3 (ipykernel)",
   "language": "python",
   "name": "python3"
  },
  "language_info": {
   "codemirror_mode": {
    "name": "ipython",
    "version": 3
   },
   "file_extension": ".py",
   "mimetype": "text/x-python",
   "name": "python",
   "nbconvert_exporter": "python",
   "pygments_lexer": "ipython3",
   "version": "3.9.7"
  }
 },
 "nbformat": 4,
 "nbformat_minor": 5
}
